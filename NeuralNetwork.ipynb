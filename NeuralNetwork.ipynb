{
 "cells": [
  {
   "cell_type": "code",
   "execution_count": 4,
   "metadata": {
    "collapsed": false
   },
   "outputs": [],
   "source": [
    "import numpy as np\n",
    "import random"
   ]
  },
  {
   "cell_type": "code",
   "execution_count": 5,
   "metadata": {
    "collapsed": false
   },
   "outputs": [
    {
     "name": "stdout",
     "output_type": "stream",
     "text": [
      "<class 'pandas.tslib.Timedelta'>\n",
      "61.0\n"
     ]
    }
   ],
   "source": [
    "%run 'Data_Munging.ipynb'"
   ]
  },
  {
   "cell_type": "code",
   "execution_count": 495,
   "metadata": {
    "collapsed": false
   },
   "outputs": [],
   "source": [
    "class Network(object): \n",
    "    \n",
    "    def __init__(self,sizes): # sizes a vector containing the number of neurons in the respective layers\n",
    "        self.num_layers = len(sizes)\n",
    "        self.sizes = sizes\n",
    "        self.biases = [np.random.randn(y,1) for y in sizes[1:]]\n",
    "        self.weights = [np.random.randn(y,x) for x,y in zip(sizes[:-1], sizes[1:])]\n",
    "        \n",
    "    def feedforward(self, a):# return the ouput of the network given a the input\n",
    "        for b,w in zip(self.biases, self.weights):\n",
    "            a = sigmoid(np.dot(w,a)+b)\n",
    "        return a\n",
    "    \n",
    "    def SGD(self, training_data, epochs, mini_batch_size, eta, test_data = None): \n",
    "        if test_data: \n",
    "            n_test = len(test_data)\n",
    "        n = len(training_data)\n",
    "        for j in xrange(epochs):\n",
    "            random.shuffle(training_data)\n",
    "            mini_batches = [training_data[k:k+mini_batch_size] for k in xrange(0,n,mini_batch_size)]\n",
    "            for mini_batch in mini_batches:\n",
    "                self.update_mini_batch(mini_batch, eta)\n",
    "            if test_data: \n",
    "                print \"Epoch {0}: {1}/{2}\".format(j, self.evaluate(test_data),n_test)\n",
    "            else: \n",
    "                print \"Epoch {0} complete\".format(j)\n",
    "                \n",
    "    def update_mini_batch(self, mini_batch,eta): \n",
    "        '''Update the network's biases and weights by applying gradient dexcent using backpropagation to a single mini batch''' \n",
    "        nabla_b = [np.zeros(b.shape) for b in self.biases]\n",
    "        nabla_w = [np.zeros(w.shape) for w in self.weights]\n",
    "        counter = 1\n",
    "        \n",
    "        for x,y in mini_batch: \n",
    "            delta_nabla_b, delta_nabla_w = self.backprop(x,y)\n",
    "            nabla_b = [nb+dnb for nb, dnb in zip(nabla_b, delta_nabla_b)]\n",
    "            nabla_w = [nw+dnw for nw, dnw in zip(nabla_w, delta_nabla_w)]\n",
    "            counter += 1\n",
    "        self.weights = [w-(eta/len(mini_batch))*nw for w, nw in zip(self.weights, nabla_w)]\n",
    "        \n",
    "        \n",
    "    def backprop(self, x, y):\n",
    "        \"\"\"Return a tuple ``(nabla_b, nabla_w)`` representing the\n",
    "        gradient for the cost function C_x.  ``nabla_b`` and\n",
    "        ``nabla_w`` are layer-by-layer lists of numpy arrays, similar\n",
    "        to ``self.biases`` and ``self.weights``.\"\"\"\n",
    "        nabla_b = [np.zeros(b.shape) for b in self.biases]\n",
    "        nabla_w = [np.zeros(w.shape) for w in self.weights]\n",
    "        # feedforward\n",
    "        activation = x\n",
    "        activations = [x] # list to store all the activations, layer by layer\n",
    "        zs = [] # list to store all the z vectors, layer by layer\n",
    "        for b, w in zip(self.biases, self.weights):\n",
    "            z = np.dot(w, activation)+b\n",
    "            zs.append(z)\n",
    "            activation = sigmoid(z)\n",
    "            activations.append(activation)\n",
    "        # backward pass\n",
    "        delta = self.cost_derivative(activations[-1], y) * sigmoid_prime(zs[-1])\n",
    "        nabla_b[-1] = delta\n",
    "        nabla_w[-1] = np.dot(delta, activations[-2].transpose())\n",
    "        # Note that the variable l in the loop below is used a little\n",
    "        # differently to the notation in Chapter 2 of the book.  Here,\n",
    "        # l = 1 means the last layer of neurons, l = 2 is the\n",
    "        # second-last layer, and so on.  It's a renumbering of the\n",
    "        # scheme in the book, used here to take advantage of the fact\n",
    "        # that Python can use negative indices in lists.\n",
    "        for l in xrange(2, self.num_layers):\n",
    "            z = zs[-l]\n",
    "            sp = sigmoid_prime(z)\n",
    "            delta = np.dot(self.weights[-l+1].transpose(), delta) * sp\n",
    "            nabla_b[-l] = delta\n",
    "#             print delta.shape, activation[-l-1].transpose().shape\n",
    "            nabla_w[-l] = np.dot(delta, activations[-l-1].transpose())\n",
    "        return (nabla_b, nabla_w)\n",
    "    \n",
    "    def evaluate(self, test_data):\n",
    "        '''Return the number of test inputs for which the neural network outputs the correct result.'''\n",
    "        test_results = [(np.argmax(self.feedforward(x)),y) for (x,y) in test_data]\n",
    "        return sum(int(x==y) for (x,y) in test_results)\n",
    "    \n",
    "    def cost_derivative(self, output_activations, y):\n",
    "        '''Return the vector of partial derivatives \\partial C_x / \\partial a for the output activations. '''\n",
    "        return (output_activations - y)\n",
    "    \n",
    "    \n",
    "        \n",
    "    \n",
    "    \n",
    "    "
   ]
  },
  {
   "cell_type": "code",
   "execution_count": 496,
   "metadata": {
    "collapsed": false
   },
   "outputs": [],
   "source": [
    "def sigmoid(z): \n",
    "    return 1.0/(1.0+np.exp(-z))\n",
    "\n",
    "def sigmoid_prime(z):\n",
    "    '''Derivative of the sigmoid function'''\n",
    "    return sigmoid(z)*(1-sigmoid(z))"
   ]
  },
  {
   "cell_type": "code",
   "execution_count": null,
   "metadata": {
    "collapsed": true
   },
   "outputs": [],
   "source": []
  },
  {
   "cell_type": "code",
   "execution_count": 487,
   "metadata": {
    "collapsed": false
   },
   "outputs": [],
   "source": [
    "dayList = [sensorData['Start time'][x].day for x in xrange(1,len(sensorData))]\n",
    "dayList= list(set(dayList))\n",
    "l = list(activityLabel.index)\n",
    "errorRate = 0\n",
    "# confusionMatrix = confusion_matrix(activityLabel, activityLabel, labels = l)\n",
    "# confusionMatrix = confusionMatrix - confusionMatrix #we have then a 0 confusion matrix\n",
    "\n",
    "testingDay = 25\n",
    "# while testingDay == 26:\n",
    "#     randomNumber = randint(0,len(dayList)-1)\n",
    "#     testingDay = dayList[randomNumber]\n",
    "# print testingDay\n",
    "\n",
    "trainingSensor = [sensorData['Start time'][x].day != testingDay and sensorData['End time'][x].day != testingDay for x in range(1,len(sensorData))]\n",
    "trainingSensor = trainingSensor + [False]\n",
    "trainingSensorData = sensorData[trainingSensor]\n",
    "trainingSensorData.index = np.arange(1,len(trainingSensorData)+1)\n",
    "\n",
    "trainingActivity = [activityData['Start time'][x].day != testingDay and activityData['End time'][x].day != testingDay for x in range(1,len(activityData))]\n",
    "trainingActivity = trainingActivity + [False]\n",
    "trainingActivityData = activityData[trainingActivity]\n",
    "trainingActivityData.index = np.arange(1,len(trainingActivityData)+1)\n",
    "\n",
    "trainingFeatureMatrix, trainingLabel = convert2LastFiredFeatureMatrix(trainingSensorData,trainingActivityData, 60)\n",
    "cumuSensor, cumuActivity = cumulationTable(trainingFeatureMatrix, trainingLabel)\n",
    "normalizedCumuSensor = [x/sum(x) for x in cumuSensor]\n",
    "lst = []\n",
    "for s in normalizedCumuSensor:\n",
    "    lst2 = [[x] for x in s]\n",
    "    lst.append(lst2)\n",
    "\n",
    "normalizedCumuSensor = np.asarray(lst)\n",
    "\n",
    "labelTrain = []\n",
    "for x in xrange(len(cumuActivity)):\n",
    "    labelTrain.append([[0] for i in xrange(len(activityLabel))])\n",
    "    for a,b in enumerate(activityLabel.index):\n",
    "        if b == cumuActivity[x]:\n",
    "            labelTrain[x][a] = [1]\n",
    "\n",
    "\n",
    "labelTrainingData = np.asarray(labelTrain)\n",
    "\n",
    "trainingData = zip(normalizedCumuSensor, labelTrainingData)\n",
    "\n",
    "\n",
    "daySensor = [sensorData['Start time'][x].day == testingDay and sensorData['End time'][x].day == testingDay for x in range(1,len(sensorData))]\n",
    "daySensor = daySensor + [False]\n",
    "daySensorData = sensorData[daySensor]\n",
    "daySensorData.index = np.arange(1,len(daySensorData)+1)\n",
    "\n",
    "dayActivity = [activityData['Start time'][x].day == testingDay and activityData['End time'][x].day == testingDay for x in range(1,len(activityData))]\n",
    "dayActivity = dayActivity + [False]\n",
    "dayActivityData = activityData[dayActivity]\n",
    "dayActivityData.index = np.arange(1,len(dayActivityData)+1)\n",
    "\n",
    "testingFeatureMatrix, testingLabel = convert2LastFiredFeatureMatrix(daySensorData,dayActivityData,60)\n",
    "cumuSen, cumuAct = cumulationTable(testingFeatureMatrix, testingLabel)\n",
    "normalizedCumuSen = [x/sum(x) for x in cumuSen]\n",
    "lst = []\n",
    "for s in normalizedCumuSen:\n",
    "    lst2 = [[x] for x in s]\n",
    "    lst.append(lst2)\n",
    "normalizedCumuSen = np.asarray(lst)\n",
    "\n",
    "labelTestingData = np.asarray(cumuAct)\n",
    "\n",
    "testingData = zip(normalizedCumuSensor, labelTestingData)\n",
    "\n"
   ]
  },
  {
   "cell_type": "code",
   "execution_count": 489,
   "metadata": {
    "collapsed": false
   },
   "outputs": [
    {
     "data": {
      "text/plain": [
       "(array([[ 0.],\n",
       "        [ 0.],\n",
       "        [ 0.],\n",
       "        [ 0.],\n",
       "        [ 0.],\n",
       "        [ 0.],\n",
       "        [ 0.],\n",
       "        [ 0.],\n",
       "        [ 0.],\n",
       "        [ 0.],\n",
       "        [ 0.],\n",
       "        [ 0.],\n",
       "        [ 0.],\n",
       "        [ 1.]]), 0)"
      ]
     },
     "execution_count": 489,
     "metadata": {},
     "output_type": "execute_result"
    }
   ],
   "source": [
    "testingData[0]"
   ]
  },
  {
   "cell_type": "code",
   "execution_count": 527,
   "metadata": {
    "collapsed": false
   },
   "outputs": [
    {
     "data": {
      "text/plain": [
       "411"
      ]
     },
     "execution_count": 527,
     "metadata": {},
     "output_type": "execute_result"
    }
   ],
   "source": [
    "len(trainingData)"
   ]
  },
  {
   "cell_type": "markdown",
   "metadata": {},
   "source": [
    "Now we train!"
   ]
  },
  {
   "cell_type": "code",
   "execution_count": 532,
   "metadata": {
    "collapsed": false
   },
   "outputs": [],
   "source": [
    "net = Network([14,7,8])"
   ]
  },
  {
   "cell_type": "code",
   "execution_count": 533,
   "metadata": {
    "collapsed": false
   },
   "outputs": [
    {
     "name": "stdout",
     "output_type": "stream",
     "text": [
      "Epoch 0: 1/24\n",
      "Epoch 1: 11/24\n",
      "Epoch 2: 10/24\n",
      "Epoch 3: 11/24\n",
      "Epoch 4: 3/24\n",
      "Epoch 5: 2/24\n",
      "Epoch 6: 1/24\n",
      "Epoch 7: 1/24\n",
      "Epoch 8: 4/24\n",
      "Epoch 9: 11/24\n",
      "Epoch 10: 12/24\n",
      "Epoch 11: 7/24\n",
      "Epoch 12: 5/24\n",
      "Epoch 13: 3/24\n",
      "Epoch 14: 5/24\n",
      "Epoch 15: 11/24\n",
      "Epoch 16: 4/24\n",
      "Epoch 17: 2/24\n",
      "Epoch 18: 10/24\n",
      "Epoch 19: 5/24\n",
      "Epoch 20: 12/24\n",
      "Epoch 21: 2/24\n",
      "Epoch 22: 4/24\n",
      "Epoch 23: 2/24\n",
      "Epoch 24: 4/24\n",
      "Epoch 25: 7/24\n",
      "Epoch 26: 7/24\n",
      "Epoch 27: 11/24\n",
      "Epoch 28: 7/24\n",
      "Epoch 29: 4/24\n",
      "Epoch 30: 4/24\n",
      "Epoch 31: 7/24\n",
      "Epoch 32: 7/24\n",
      "Epoch 33: 7/24\n",
      "Epoch 34: 5/24\n",
      "Epoch 35: 7/24\n",
      "Epoch 36: 7/24\n",
      "Epoch 37: 8/24\n",
      "Epoch 38: 4/24\n",
      "Epoch 39: 4/24\n",
      "Epoch 40: 5/24\n",
      "Epoch 41: 4/24\n",
      "Epoch 42: 4/24\n",
      "Epoch 43: 4/24\n",
      "Epoch 44: 4/24\n",
      "Epoch 45: 7/24\n",
      "Epoch 46: 7/24\n",
      "Epoch 47: 7/24\n",
      "Epoch 48: 7/24\n",
      "Epoch 49: 4/24\n",
      "Epoch 50: 7/24\n",
      "Epoch 51: 7/24\n",
      "Epoch 52: 11/24\n",
      "Epoch 53: 11/24\n",
      "Epoch 54: 11/24\n",
      "Epoch 55: 7/24\n",
      "Epoch 56: 9/24\n",
      "Epoch 57: 11/24\n",
      "Epoch 58: 7/24\n",
      "Epoch 59: 9/24\n",
      "Epoch 60: 6/24\n",
      "Epoch 61: 7/24\n",
      "Epoch 62: 4/24\n",
      "Epoch 63: 6/24\n",
      "Epoch 64: 7/24\n",
      "Epoch 65: 7/24\n",
      "Epoch 66: 4/24\n",
      "Epoch 67: 7/24\n",
      "Epoch 68: 4/24\n",
      "Epoch 69: 4/24\n",
      "Epoch 70: 11/24\n",
      "Epoch 71: 6/24\n",
      "Epoch 72: 7/24\n",
      "Epoch 73: 11/24\n",
      "Epoch 74: 6/24\n",
      "Epoch 75: 6/24\n",
      "Epoch 76: 4/24\n",
      "Epoch 77: 4/24\n",
      "Epoch 78: 4/24\n",
      "Epoch 79: 4/24\n",
      "Epoch 80: 6/24\n",
      "Epoch 81: 4/24\n",
      "Epoch 82: 6/24\n",
      "Epoch 83: 11/24\n",
      "Epoch 84: 9/24\n",
      "Epoch 85: 4/24\n",
      "Epoch 86: 4/24\n",
      "Epoch 87: 1/24\n",
      "Epoch 88: 4/24\n",
      "Epoch 89: 4/24\n",
      "Epoch 90: 4/24\n",
      "Epoch 91: 7/24\n",
      "Epoch 92: 6/24\n",
      "Epoch 93: 4/24\n",
      "Epoch 94: 6/24\n",
      "Epoch 95: 11/24\n",
      "Epoch 96: 9/24\n",
      "Epoch 97: 11/24\n",
      "Epoch 98: 10/24\n",
      "Epoch 99: 6/24\n"
     ]
    }
   ],
   "source": [
    "net.SGD(trainingData,100,13,8, test_data = testingData)"
   ]
  },
  {
   "cell_type": "code",
   "execution_count": null,
   "metadata": {
    "collapsed": true
   },
   "outputs": [],
   "source": []
  },
  {
   "cell_type": "code",
   "execution_count": null,
   "metadata": {
    "collapsed": true
   },
   "outputs": [],
   "source": []
  },
  {
   "cell_type": "code",
   "execution_count": null,
   "metadata": {
    "collapsed": true
   },
   "outputs": [],
   "source": []
  },
  {
   "cell_type": "code",
   "execution_count": null,
   "metadata": {
    "collapsed": true
   },
   "outputs": [],
   "source": []
  },
  {
   "cell_type": "code",
   "execution_count": null,
   "metadata": {
    "collapsed": true
   },
   "outputs": [],
   "source": []
  }
 ],
 "metadata": {
  "kernelspec": {
   "display_name": "Python 2",
   "language": "python",
   "name": "python2"
  },
  "language_info": {
   "codemirror_mode": {
    "name": "ipython",
    "version": 2
   },
   "file_extension": ".py",
   "mimetype": "text/x-python",
   "name": "python",
   "nbconvert_exporter": "python",
   "pygments_lexer": "ipython2",
   "version": "2.7.10"
  }
 },
 "nbformat": 4,
 "nbformat_minor": 0
}
