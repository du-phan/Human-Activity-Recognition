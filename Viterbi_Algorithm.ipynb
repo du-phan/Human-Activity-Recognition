{
 "cells": [
  {
   "cell_type": "markdown",
   "metadata": {},
   "source": [
    "# Step 2: Viterbi algorithm"
   ]
  },
  {
   "cell_type": "code",
   "execution_count": 1,
   "metadata": {
    "collapsed": true
   },
   "outputs": [],
   "source": [
    "import matplotlib.pyplot as plt\n",
    "from random import randint"
   ]
  },
  {
   "cell_type": "markdown",
   "metadata": {},
   "source": [
    "We begin by reloading the Data_Munging file"
   ]
  },
  {
   "cell_type": "code",
   "execution_count": 2,
   "metadata": {
    "collapsed": false
   },
   "outputs": [
    {
     "name": "stdout",
     "output_type": "stream",
     "text": [
      "<class 'pandas.tslib.Timedelta'>\n",
      "61.0\n"
     ]
    }
   ],
   "source": [
    "%run 'Data_Munging.ipynb'"
   ]
  },
  {
   "cell_type": "code",
   "execution_count": 3,
   "metadata": {
    "collapsed": false
   },
   "outputs": [
    {
     "data": {
      "text/html": [
       "<div>\n",
       "<table border=\"1\" class=\"dataframe\">\n",
       "  <thead>\n",
       "    <tr style=\"text-align: right;\">\n",
       "      <th></th>\n",
       "      <th>0</th>\n",
       "      <th>1</th>\n",
       "      <th>4</th>\n",
       "      <th>5</th>\n",
       "      <th>10</th>\n",
       "      <th>13</th>\n",
       "      <th>15</th>\n",
       "      <th>17</th>\n",
       "    </tr>\n",
       "  </thead>\n",
       "  <tbody>\n",
       "    <tr>\n",
       "      <th>0</th>\n",
       "      <td>0.965755</td>\n",
       "      <td>0.000974</td>\n",
       "      <td>0.212329</td>\n",
       "      <td>0.095041</td>\n",
       "      <td>0.001033</td>\n",
       "      <td>0.222222</td>\n",
       "      <td>0.014493</td>\n",
       "      <td>0.475</td>\n",
       "    </tr>\n",
       "    <tr>\n",
       "      <th>1</th>\n",
       "      <td>0.006473</td>\n",
       "      <td>0.998539</td>\n",
       "      <td>0.010274</td>\n",
       "      <td>0.000000</td>\n",
       "      <td>0.000000</td>\n",
       "      <td>0.000000</td>\n",
       "      <td>0.000000</td>\n",
       "      <td>0.000</td>\n",
       "    </tr>\n",
       "    <tr>\n",
       "      <th>4</th>\n",
       "      <td>0.014408</td>\n",
       "      <td>0.000398</td>\n",
       "      <td>0.609589</td>\n",
       "      <td>0.000000</td>\n",
       "      <td>0.002928</td>\n",
       "      <td>0.000000</td>\n",
       "      <td>0.005797</td>\n",
       "      <td>0.000</td>\n",
       "    </tr>\n",
       "    <tr>\n",
       "      <th>5</th>\n",
       "      <td>0.003550</td>\n",
       "      <td>0.000000</td>\n",
       "      <td>0.020548</td>\n",
       "      <td>0.904959</td>\n",
       "      <td>0.000000</td>\n",
       "      <td>0.000000</td>\n",
       "      <td>0.000000</td>\n",
       "      <td>0.000</td>\n",
       "    </tr>\n",
       "    <tr>\n",
       "      <th>10</th>\n",
       "      <td>0.003132</td>\n",
       "      <td>0.000000</td>\n",
       "      <td>0.113014</td>\n",
       "      <td>0.000000</td>\n",
       "      <td>0.995867</td>\n",
       "      <td>0.000000</td>\n",
       "      <td>0.000000</td>\n",
       "      <td>0.000</td>\n",
       "    </tr>\n",
       "    <tr>\n",
       "      <th>13</th>\n",
       "      <td>0.002297</td>\n",
       "      <td>0.000000</td>\n",
       "      <td>0.020548</td>\n",
       "      <td>0.000000</td>\n",
       "      <td>0.000172</td>\n",
       "      <td>0.777778</td>\n",
       "      <td>0.000000</td>\n",
       "      <td>0.025</td>\n",
       "    </tr>\n",
       "    <tr>\n",
       "      <th>15</th>\n",
       "      <td>0.001462</td>\n",
       "      <td>0.000089</td>\n",
       "      <td>0.010274</td>\n",
       "      <td>0.000000</td>\n",
       "      <td>0.000000</td>\n",
       "      <td>0.000000</td>\n",
       "      <td>0.965217</td>\n",
       "      <td>0.000</td>\n",
       "    </tr>\n",
       "    <tr>\n",
       "      <th>17</th>\n",
       "      <td>0.002923</td>\n",
       "      <td>0.000000</td>\n",
       "      <td>0.003425</td>\n",
       "      <td>0.000000</td>\n",
       "      <td>0.000000</td>\n",
       "      <td>0.000000</td>\n",
       "      <td>0.014493</td>\n",
       "      <td>0.500</td>\n",
       "    </tr>\n",
       "  </tbody>\n",
       "</table>\n",
       "</div>"
      ],
      "text/plain": [
       "          0         1         4         5         10        13        15  \\\n",
       "0   0.965755  0.000974  0.212329  0.095041  0.001033  0.222222  0.014493   \n",
       "1   0.006473  0.998539  0.010274  0.000000  0.000000  0.000000  0.000000   \n",
       "4   0.014408  0.000398  0.609589  0.000000  0.002928  0.000000  0.005797   \n",
       "5   0.003550  0.000000  0.020548  0.904959  0.000000  0.000000  0.000000   \n",
       "10  0.003132  0.000000  0.113014  0.000000  0.995867  0.000000  0.000000   \n",
       "13  0.002297  0.000000  0.020548  0.000000  0.000172  0.777778  0.000000   \n",
       "15  0.001462  0.000089  0.010274  0.000000  0.000000  0.000000  0.965217   \n",
       "17  0.002923  0.000000  0.003425  0.000000  0.000000  0.000000  0.014493   \n",
       "\n",
       "       17  \n",
       "0   0.475  \n",
       "1   0.000  \n",
       "4   0.000  \n",
       "5   0.000  \n",
       "10  0.000  \n",
       "13  0.025  \n",
       "15  0.000  \n",
       "17  0.500  "
      ]
     },
     "execution_count": 3,
     "metadata": {},
     "output_type": "execute_result"
    }
   ],
   "source": [
    "transitionDistribution"
   ]
  },
  {
   "cell_type": "code",
   "execution_count": 4,
   "metadata": {
    "collapsed": false
   },
   "outputs": [
    {
     "data": {
      "text/html": [
       "<div>\n",
       "<table border=\"1\" class=\"dataframe\">\n",
       "  <thead>\n",
       "    <tr style=\"text-align: right;\">\n",
       "      <th></th>\n",
       "      <th>0</th>\n",
       "      <th>1</th>\n",
       "      <th>4</th>\n",
       "      <th>5</th>\n",
       "      <th>10</th>\n",
       "      <th>13</th>\n",
       "      <th>15</th>\n",
       "      <th>17</th>\n",
       "    </tr>\n",
       "  </thead>\n",
       "  <tbody>\n",
       "    <tr>\n",
       "      <th>1</th>\n",
       "      <td>0.023805</td>\n",
       "      <td>0.001284</td>\n",
       "      <td>0.000000</td>\n",
       "      <td>0.000000</td>\n",
       "      <td>0.000000</td>\n",
       "      <td>0.088889</td>\n",
       "      <td>0.092754</td>\n",
       "      <td>0.025</td>\n",
       "    </tr>\n",
       "    <tr>\n",
       "      <th>5</th>\n",
       "      <td>0.098350</td>\n",
       "      <td>0.002744</td>\n",
       "      <td>0.041096</td>\n",
       "      <td>0.859504</td>\n",
       "      <td>0.001378</td>\n",
       "      <td>0.000000</td>\n",
       "      <td>0.000000</td>\n",
       "      <td>0.000</td>\n",
       "    </tr>\n",
       "    <tr>\n",
       "      <th>6</th>\n",
       "      <td>0.123617</td>\n",
       "      <td>0.001859</td>\n",
       "      <td>0.386986</td>\n",
       "      <td>0.066116</td>\n",
       "      <td>0.000000</td>\n",
       "      <td>0.011111</td>\n",
       "      <td>0.000000</td>\n",
       "      <td>0.025</td>\n",
       "    </tr>\n",
       "    <tr>\n",
       "      <th>7</th>\n",
       "      <td>0.008979</td>\n",
       "      <td>0.000000</td>\n",
       "      <td>0.000000</td>\n",
       "      <td>0.000000</td>\n",
       "      <td>0.000000</td>\n",
       "      <td>0.011111</td>\n",
       "      <td>0.002899</td>\n",
       "      <td>0.075</td>\n",
       "    </tr>\n",
       "    <tr>\n",
       "      <th>8</th>\n",
       "      <td>0.170390</td>\n",
       "      <td>0.000177</td>\n",
       "      <td>0.020548</td>\n",
       "      <td>0.000000</td>\n",
       "      <td>0.000000</td>\n",
       "      <td>0.222222</td>\n",
       "      <td>0.142029</td>\n",
       "      <td>0.675</td>\n",
       "    </tr>\n",
       "    <tr>\n",
       "      <th>9</th>\n",
       "      <td>0.053456</td>\n",
       "      <td>0.000266</td>\n",
       "      <td>0.003425</td>\n",
       "      <td>0.000000</td>\n",
       "      <td>0.000000</td>\n",
       "      <td>0.055556</td>\n",
       "      <td>0.156522</td>\n",
       "      <td>0.000</td>\n",
       "    </tr>\n",
       "    <tr>\n",
       "      <th>12</th>\n",
       "      <td>0.065776</td>\n",
       "      <td>0.985172</td>\n",
       "      <td>0.037671</td>\n",
       "      <td>0.000000</td>\n",
       "      <td>0.000000</td>\n",
       "      <td>0.000000</td>\n",
       "      <td>0.002899</td>\n",
       "      <td>0.025</td>\n",
       "    </tr>\n",
       "    <tr>\n",
       "      <th>13</th>\n",
       "      <td>0.031948</td>\n",
       "      <td>0.002966</td>\n",
       "      <td>0.000000</td>\n",
       "      <td>0.004132</td>\n",
       "      <td>0.000000</td>\n",
       "      <td>0.000000</td>\n",
       "      <td>0.017391</td>\n",
       "      <td>0.050</td>\n",
       "    </tr>\n",
       "    <tr>\n",
       "      <th>14</th>\n",
       "      <td>0.190436</td>\n",
       "      <td>0.001903</td>\n",
       "      <td>0.345890</td>\n",
       "      <td>0.066116</td>\n",
       "      <td>0.000431</td>\n",
       "      <td>0.077778</td>\n",
       "      <td>0.005797</td>\n",
       "      <td>0.025</td>\n",
       "    </tr>\n",
       "    <tr>\n",
       "      <th>17</th>\n",
       "      <td>0.029651</td>\n",
       "      <td>0.000266</td>\n",
       "      <td>0.000000</td>\n",
       "      <td>0.000000</td>\n",
       "      <td>0.000000</td>\n",
       "      <td>0.122222</td>\n",
       "      <td>0.144928</td>\n",
       "      <td>0.050</td>\n",
       "    </tr>\n",
       "    <tr>\n",
       "      <th>18</th>\n",
       "      <td>0.045103</td>\n",
       "      <td>0.000044</td>\n",
       "      <td>0.003425</td>\n",
       "      <td>0.000000</td>\n",
       "      <td>0.000000</td>\n",
       "      <td>0.011111</td>\n",
       "      <td>0.278261</td>\n",
       "      <td>0.000</td>\n",
       "    </tr>\n",
       "    <tr>\n",
       "      <th>20</th>\n",
       "      <td>0.009605</td>\n",
       "      <td>0.001638</td>\n",
       "      <td>0.000000</td>\n",
       "      <td>0.000000</td>\n",
       "      <td>0.000000</td>\n",
       "      <td>0.000000</td>\n",
       "      <td>0.002899</td>\n",
       "      <td>0.025</td>\n",
       "    </tr>\n",
       "    <tr>\n",
       "      <th>23</th>\n",
       "      <td>0.101483</td>\n",
       "      <td>0.001018</td>\n",
       "      <td>0.000000</td>\n",
       "      <td>0.004132</td>\n",
       "      <td>0.000000</td>\n",
       "      <td>0.377778</td>\n",
       "      <td>0.153623</td>\n",
       "      <td>0.025</td>\n",
       "    </tr>\n",
       "    <tr>\n",
       "      <th>24</th>\n",
       "      <td>0.047400</td>\n",
       "      <td>0.000664</td>\n",
       "      <td>0.160959</td>\n",
       "      <td>0.000000</td>\n",
       "      <td>0.998192</td>\n",
       "      <td>0.022222</td>\n",
       "      <td>0.000000</td>\n",
       "      <td>0.000</td>\n",
       "    </tr>\n",
       "  </tbody>\n",
       "</table>\n",
       "</div>"
      ],
      "text/plain": [
       "          0         1         4         5         10        13        15  \\\n",
       "1   0.023805  0.001284  0.000000  0.000000  0.000000  0.088889  0.092754   \n",
       "5   0.098350  0.002744  0.041096  0.859504  0.001378  0.000000  0.000000   \n",
       "6   0.123617  0.001859  0.386986  0.066116  0.000000  0.011111  0.000000   \n",
       "7   0.008979  0.000000  0.000000  0.000000  0.000000  0.011111  0.002899   \n",
       "8   0.170390  0.000177  0.020548  0.000000  0.000000  0.222222  0.142029   \n",
       "9   0.053456  0.000266  0.003425  0.000000  0.000000  0.055556  0.156522   \n",
       "12  0.065776  0.985172  0.037671  0.000000  0.000000  0.000000  0.002899   \n",
       "13  0.031948  0.002966  0.000000  0.004132  0.000000  0.000000  0.017391   \n",
       "14  0.190436  0.001903  0.345890  0.066116  0.000431  0.077778  0.005797   \n",
       "17  0.029651  0.000266  0.000000  0.000000  0.000000  0.122222  0.144928   \n",
       "18  0.045103  0.000044  0.003425  0.000000  0.000000  0.011111  0.278261   \n",
       "20  0.009605  0.001638  0.000000  0.000000  0.000000  0.000000  0.002899   \n",
       "23  0.101483  0.001018  0.000000  0.004132  0.000000  0.377778  0.153623   \n",
       "24  0.047400  0.000664  0.160959  0.000000  0.998192  0.022222  0.000000   \n",
       "\n",
       "       17  \n",
       "1   0.025  \n",
       "5   0.000  \n",
       "6   0.025  \n",
       "7   0.075  \n",
       "8   0.675  \n",
       "9   0.000  \n",
       "12  0.025  \n",
       "13  0.050  \n",
       "14  0.025  \n",
       "17  0.050  \n",
       "18  0.000  \n",
       "20  0.025  \n",
       "23  0.025  \n",
       "24  0.000  "
      ]
     },
     "execution_count": 4,
     "metadata": {},
     "output_type": "execute_result"
    }
   ],
   "source": [
    "observationDistribution"
   ]
  },
  {
   "cell_type": "code",
   "execution_count": 27,
   "metadata": {
    "collapsed": false
   },
   "outputs": [
    {
     "data": {
      "text/plain": [
       "0     0.0\n",
       "1     0.0\n",
       "4     0.2\n",
       "5     0.0\n",
       "10    0.8\n",
       "13    0.0\n",
       "15    0.0\n",
       "17    0.0\n",
       "dtype: float64"
      ]
     },
     "execution_count": 27,
     "metadata": {},
     "output_type": "execute_result"
    }
   ],
   "source": [
    "initialDistribution = Series([0,0,0.2,0,0.8,0,0,0], index = [0,1,4,5,10,13,15,17])\n",
    "initialDistribution"
   ]
  },
  {
   "cell_type": "code",
   "execution_count": 28,
   "metadata": {
    "collapsed": false
   },
   "outputs": [
    {
     "data": {
      "text/plain": [
       "1              Microwave\n",
       "5       Hall-Toilet door\n",
       "6     Hall-Bathroom door\n",
       "7          Cups cupboard\n",
       "8                 Fridge\n",
       "9        Plates cupboard\n",
       "12            Front door\n",
       "13            Dishwasher\n",
       "14           ToiletFlush\n",
       "17               Freezer\n",
       "18         Pans Cupboard\n",
       "20       Washing machine\n",
       "23    Groceries Cupboard\n",
       "24     Hall-Bedroom door\n",
       "dtype: object"
      ]
     },
     "execution_count": 28,
     "metadata": {},
     "output_type": "execute_result"
    }
   ],
   "source": [
    "sensorLabel"
   ]
  },
  {
   "cell_type": "code",
   "execution_count": 29,
   "metadata": {
    "collapsed": false,
    "scrolled": true
   },
   "outputs": [
    {
     "data": {
      "text/plain": [
       "0     24\n",
       "1     24\n",
       "2      5\n",
       "3      6\n",
       "4     14\n",
       "5     14\n",
       "6      6\n",
       "7      9\n",
       "8      9\n",
       "9      8\n",
       "10     8\n",
       "11     1\n",
       "12    23\n",
       "13     1\n",
       "14    23\n",
       "15    13\n",
       "16     9\n",
       "17    18\n",
       "18     7\n",
       "19     9\n",
       "20     5\n",
       "21     5\n",
       "22    12\n",
       "23    12\n",
       "24     8\n",
       "25    23\n",
       "26     8\n",
       "27     6\n",
       "28    14\n",
       "29     6\n",
       "30    18\n",
       "31    18\n",
       "32    18\n",
       "33    12\n",
       "34    18\n",
       "35     8\n",
       "36     8\n",
       "37     7\n",
       "38     7\n",
       "39     7\n",
       "40     8\n",
       "41     8\n",
       "42     6\n",
       "43     6\n",
       "44    14\n",
       "45     6\n",
       "dtype: int64"
      ]
     },
     "execution_count": 29,
     "metadata": {},
     "output_type": "execute_result"
    }
   ],
   "source": [
    "observation = Series([24,24,5,6,14,14,6,9,9,8,8,1,23,1,23,13,9,18,7,9,5,5,12,12,8,23,8,6,14,6,18,18,18,12,18,8,8,7,7,7,8,8,6,6,14,6])\n",
    "observation"
   ]
  },
  {
   "cell_type": "code",
   "execution_count": 30,
   "metadata": {
    "collapsed": false
   },
   "outputs": [
    {
     "data": {
      "text/plain": [
       "14"
      ]
     },
     "execution_count": 30,
     "metadata": {},
     "output_type": "execute_result"
    }
   ],
   "source": [
    "observation[5]"
   ]
  },
  {
   "cell_type": "code",
   "execution_count": 31,
   "metadata": {
    "collapsed": false
   },
   "outputs": [
    {
     "data": {
      "text/plain": [
       "0     0.0\n",
       "1     0.0\n",
       "4     0.2\n",
       "5     0.0\n",
       "10    0.8\n",
       "13    0.0\n",
       "15    0.0\n",
       "17    0.0\n",
       "dtype: float64"
      ]
     },
     "execution_count": 31,
     "metadata": {},
     "output_type": "execute_result"
    }
   ],
   "source": [
    "initialDistribution"
   ]
  },
  {
   "cell_type": "code",
   "execution_count": 32,
   "metadata": {
    "collapsed": false
   },
   "outputs": [
    {
     "data": {
      "text/plain": [
       "0               nothing\n",
       "1           leave house\n",
       "4            use toilet\n",
       "5           take shower\n",
       "10            go to bed\n",
       "13    prepare breakfast\n",
       "15       prepare dinner\n",
       "17            get drink\n",
       "dtype: object"
      ]
     },
     "execution_count": 32,
     "metadata": {},
     "output_type": "execute_result"
    }
   ],
   "source": [
    "activityLabel"
   ]
  },
  {
   "cell_type": "code",
   "execution_count": 33,
   "metadata": {
    "collapsed": false,
    "scrolled": true
   },
   "outputs": [],
   "source": [
    "def Viterbi(observation, activityLabel, initialDistribution, observationDistribution, transitionDistribution):\n",
    "    probabilityTable = pd.DataFrame(0.0, index = activityLabel.index, columns = observation.index)\n",
    "    path = {}\n",
    "    for activityIndex in activityLabel.index.values:\n",
    "        probabilityTable[0][activityIndex] = initialDistribution[activityIndex] * observationDistribution[activityIndex][observation[0]]\n",
    "        path[activityIndex] = [activityIndex]\n",
    "    \n",
    "    for observationIndex in range(1,len(observation)):\n",
    "        newPath = {}\n",
    "        for activityIndex in activityLabel.index.values:\n",
    "            (proba, previousActivityInd) = max((probabilityTable[observationIndex-1][previousActivityIndex]*transitionDistribution[previousActivityIndex][activityIndex]*observationDistribution[activityIndex][observation[observationIndex]], previousActivityIndex) for previousActivityIndex in activityLabel.index.values )\n",
    "            #print proba \n",
    "            probabilityTable[observationIndex][activityIndex] = proba\n",
    "            newPath[activityIndex] = path[previousActivityInd] + [activityIndex]\n",
    "        path = newPath\n",
    "    \n",
    "    (finalProba, finalActivityIndex) = max((probabilityTable[len(observation)-1][activityIndex], activityIndex) for activityIndex in activityLabel.index.values )\n",
    "    return finalProba, path[finalActivityIndex]\n",
    "        \n",
    "        \n",
    "        "
   ]
  },
  {
   "cell_type": "markdown",
   "metadata": {},
   "source": [
    "Now we will create the testing set:"
   ]
  },
  {
   "cell_type": "code",
   "execution_count": 39,
   "metadata": {
    "collapsed": false,
    "scrolled": true
   },
   "outputs": [],
   "source": [
    "day25Sensor = [sensorData['Start time'][x].day == 27 for x in range(1,len(sensorData))]\n",
    "day25Sensor = day25Sensor + [False]\n",
    "day25SensorData = sensorData[day25Sensor]\n",
    "day25SensorData.index = np.arange(1,len(day25SensorData)+1)"
   ]
  },
  {
   "cell_type": "code",
   "execution_count": 42,
   "metadata": {
    "collapsed": false
   },
   "outputs": [],
   "source": [
    "day25Activity = [activityData['Start time'][x].day == 27 for x in range(1,len(activityData))]\n",
    "day25Activity = day25Activity + [False]\n",
    "day25ActivityData = activityData[day25Activity]\n",
    "day25ActivityData.index = np.arange(1,len(day25ActivityData)+1)\n"
   ]
  },
  {
   "cell_type": "code",
   "execution_count": 51,
   "metadata": {
    "collapsed": false
   },
   "outputs": [
    {
     "ename": "IndexError",
     "evalue": "index 1127 is out of bounds for axis 0 with size 1094",
     "output_type": "error",
     "traceback": [
      "\u001b[0;31m---------------------------------------------------------------------------\u001b[0m",
      "\u001b[0;31mIndexError\u001b[0m                                Traceback (most recent call last)",
      "\u001b[0;32m<ipython-input-51-7c8256642795>\u001b[0m in \u001b[0;36m<module>\u001b[0;34m()\u001b[0m\n\u001b[0;32m----> 1\u001b[0;31m \u001b[0mtestingFeatureMatrix\u001b[0m\u001b[0;34m,\u001b[0m \u001b[0mtestingLabel\u001b[0m \u001b[0;34m=\u001b[0m \u001b[0mconvert2LastFiredFeatureMatrix\u001b[0m\u001b[0;34m(\u001b[0m\u001b[0mday25SensorData\u001b[0m\u001b[0;34m,\u001b[0m\u001b[0mday25ActivityData\u001b[0m\u001b[0;34m,\u001b[0m\u001b[0;36m60\u001b[0m\u001b[0;34m)\u001b[0m\u001b[0;34m\u001b[0m\u001b[0m\n\u001b[0m",
      "\u001b[0;32m<ipython-input-2-e829fe1dbf8a>\u001b[0m in \u001b[0;36mconvert2LastFiredFeatureMatrix\u001b[0;34m(trainingSensorData, trainingActivityData, timeStep)\u001b[0m\n\u001b[1;32m     30\u001b[0m \u001b[0;34m\u001b[0m\u001b[0m\n\u001b[1;32m     31\u001b[0m         \u001b[0mfeatureMatrix\u001b[0m\u001b[0;34m.\u001b[0m\u001b[0mloc\u001b[0m\u001b[0;34m[\u001b[0m\u001b[0mrowSensor\u001b[0m\u001b[0;34m.\u001b[0m\u001b[0mID\u001b[0m\u001b[0;34m]\u001b[0m\u001b[0;34m[\u001b[0m\u001b[0mstartStep\u001b[0m\u001b[0;34m]\u001b[0m \u001b[0;34m=\u001b[0m \u001b[0;36m1\u001b[0m\u001b[0;34m\u001b[0m\u001b[0m\n\u001b[0;32m---> 32\u001b[0;31m         \u001b[0mfeatureMatrix\u001b[0m\u001b[0;34m.\u001b[0m\u001b[0mloc\u001b[0m\u001b[0;34m[\u001b[0m\u001b[0mrowSensor\u001b[0m\u001b[0;34m.\u001b[0m\u001b[0mID\u001b[0m\u001b[0;34m]\u001b[0m\u001b[0;34m[\u001b[0m\u001b[0mendStep\u001b[0m\u001b[0;34m]\u001b[0m \u001b[0;34m=\u001b[0m \u001b[0;36m1\u001b[0m\u001b[0;34m\u001b[0m\u001b[0m\n\u001b[0m\u001b[1;32m     33\u001b[0m \u001b[0;34m\u001b[0m\u001b[0m\n\u001b[1;32m     34\u001b[0m     \u001b[0mx\u001b[0m\u001b[0;34m,\u001b[0m\u001b[0my\u001b[0m \u001b[0;34m=\u001b[0m \u001b[0mnp\u001b[0m\u001b[0;34m.\u001b[0m\u001b[0mwhere\u001b[0m\u001b[0;34m(\u001b[0m\u001b[0mfeatureMatrix\u001b[0m \u001b[0;34m==\u001b[0m \u001b[0;36m1\u001b[0m\u001b[0;34m)\u001b[0m\u001b[0;34m\u001b[0m\u001b[0m\n",
      "\u001b[0;32m//anaconda/lib/python2.7/site-packages/pandas/core/series.pyc\u001b[0m in \u001b[0;36m__setitem__\u001b[0;34m(self, key, value)\u001b[0m\n\u001b[1;32m    716\u001b[0m         \u001b[0;31m# do the setitem\u001b[0m\u001b[0;34m\u001b[0m\u001b[0;34m\u001b[0m\u001b[0m\n\u001b[1;32m    717\u001b[0m         \u001b[0mcacher_needs_updating\u001b[0m \u001b[0;34m=\u001b[0m \u001b[0mself\u001b[0m\u001b[0;34m.\u001b[0m\u001b[0m_check_is_chained_assignment_possible\u001b[0m\u001b[0;34m(\u001b[0m\u001b[0;34m)\u001b[0m\u001b[0;34m\u001b[0m\u001b[0m\n\u001b[0;32m--> 718\u001b[0;31m         \u001b[0msetitem\u001b[0m\u001b[0;34m(\u001b[0m\u001b[0mkey\u001b[0m\u001b[0;34m,\u001b[0m \u001b[0mvalue\u001b[0m\u001b[0;34m)\u001b[0m\u001b[0;34m\u001b[0m\u001b[0m\n\u001b[0m\u001b[1;32m    719\u001b[0m         \u001b[0;32mif\u001b[0m \u001b[0mcacher_needs_updating\u001b[0m\u001b[0;34m:\u001b[0m\u001b[0;34m\u001b[0m\u001b[0m\n\u001b[1;32m    720\u001b[0m             \u001b[0mself\u001b[0m\u001b[0;34m.\u001b[0m\u001b[0m_maybe_update_cacher\u001b[0m\u001b[0;34m(\u001b[0m\u001b[0;34m)\u001b[0m\u001b[0;34m\u001b[0m\u001b[0m\n",
      "\u001b[0;32m//anaconda/lib/python2.7/site-packages/pandas/core/series.pyc\u001b[0m in \u001b[0;36msetitem\u001b[0;34m(key, value)\u001b[0m\n\u001b[1;32m    674\u001b[0m                                 and not self.index.inferred_type == 'integer'):\n\u001b[1;32m    675\u001b[0m \u001b[0;34m\u001b[0m\u001b[0m\n\u001b[0;32m--> 676\u001b[0;31m                     \u001b[0mvalues\u001b[0m\u001b[0;34m[\u001b[0m\u001b[0mkey\u001b[0m\u001b[0;34m]\u001b[0m \u001b[0;34m=\u001b[0m \u001b[0mvalue\u001b[0m\u001b[0;34m\u001b[0m\u001b[0m\n\u001b[0m\u001b[1;32m    677\u001b[0m                     \u001b[0;32mreturn\u001b[0m\u001b[0;34m\u001b[0m\u001b[0m\n\u001b[1;32m    678\u001b[0m                 \u001b[0;32melif\u001b[0m \u001b[0mkey\u001b[0m \u001b[0;32mis\u001b[0m \u001b[0mEllipsis\u001b[0m\u001b[0;34m:\u001b[0m\u001b[0;34m\u001b[0m\u001b[0m\n",
      "\u001b[0;31mIndexError\u001b[0m: index 1127 is out of bounds for axis 0 with size 1094"
     ]
    }
   ],
   "source": [
    "testingFeatureMatrix, testingLabel = convert2LastFiredFeatureMatrix(day25SensorData,day25ActivityData,60)"
   ]
  },
  {
   "cell_type": "code",
   "execution_count": 16,
   "metadata": {
    "collapsed": false
   },
   "outputs": [],
   "source": [
    "testingObservation = Series(0, index = testingFeatureMatrix.columns)\n",
    "for i in range(len(testingObservation)): \n",
    "    r = np.where(testingFeatureMatrix[i] == 1)\n",
    "    result = testingFeatureMatrix.index[r[0]]\n",
    "    testingObservation[i] = result[0]\n",
    "\n",
    "numOfObservation = len(testingObservation)\n",
    "obs = testingObservation[:numOfObservation]\n",
    "validatedPath = testingLabel[:numOfObservation]"
   ]
  },
  {
   "cell_type": "code",
   "execution_count": 17,
   "metadata": {
    "collapsed": false
   },
   "outputs": [],
   "source": [
    "proba, path = Viterbi(obs, activityLabel, initialDistribution, observationDistribution, transitionDistribution)\n"
   ]
  },
  {
   "cell_type": "code",
   "execution_count": 18,
   "metadata": {
    "collapsed": false
   },
   "outputs": [
    {
     "data": {
      "text/plain": [
       "26.652298850574713"
      ]
     },
     "execution_count": 18,
     "metadata": {},
     "output_type": "execute_result"
    }
   ],
   "source": [
    "#error rate\n",
    "errorRate = ( sum(validatedPath != path)/float(len(validatedPath)) ) * 100 \n",
    "errorRate"
   ]
  },
  {
   "cell_type": "code",
   "execution_count": 35,
   "metadata": {
    "collapsed": false
   },
   "outputs": [],
   "source": [
    "errorRate = []\n",
    "numOfEvents = []\n",
    "for x in range(1,len(testingObservation),100): \n",
    "    obs = testingObservation[:x]\n",
    "    validatedPath = testingLabel[:x]\n",
    "    proba, path = Viterbi(obs, activityLabel, initialDistribution, observationDistribution, transitionDistribution)\n",
    "    errorRate.append(  (sum(validatedPath != path)/float(len(validatedPath))) * 100 )\n",
    "    numOfEvents.append(x)\n",
    "    plt.plot(numOfEvents,errorRate)\n",
    "    plt.xlabel(\"Number of observations in the training sequence\")\n",
    "    plt.ylabel(\"Error rate (%)\")\n",
    "    "
   ]
  },
  {
   "cell_type": "code",
   "execution_count": 36,
   "metadata": {
    "collapsed": true
   },
   "outputs": [],
   "source": [
    "plt.show()"
   ]
  },
  {
   "cell_type": "code",
   "execution_count": null,
   "metadata": {
    "collapsed": true
   },
   "outputs": [],
   "source": []
  },
  {
   "cell_type": "code",
   "execution_count": 21,
   "metadata": {
    "collapsed": true
   },
   "outputs": [],
   "source": [
    "def crossValidation():\n",
    "    dayList = [26, 25]\n",
    "    for d in dayList:\n",
    "        print d\n",
    "        daySensor = [sensorData['Start time'][x].day == d for x in range(1,len(sensorData))]\n",
    "        daySensor = daySensor + [False]\n",
    "        daySensorData = sensorData[daySensor]\n",
    "        daySensorData.index = np.arange(1,len(daySensorData)+1)\n",
    "        print daySensorData.index\n",
    "        \n",
    "        dayActivity = [activityData['Start time'][x].day == d for x in range(1,len(activityData))]\n",
    "        dayActivity = dayActivity + [False]\n",
    "        dayActivityData = activityData[dayActivity]\n",
    "        dayActivityData.index = np.arange(1,len(dayActivityData)+1)\n",
    "        print dayActivityData.index\n",
    "        \n",
    "        testingFeatureMatrix, testingLabel = convert2LastFiredFeatureMatrix(daySensorData,dayActivityData,60)\n",
    "        \n",
    "        testingObservation = Series(0, index = testingFeatureMatrix.columns)\n",
    "        for i in range(len(testingObservation)): \n",
    "            r = np.where(testingFeatureMatrix[i] == 1)\n",
    "            result = testingFeatureMatrix.index[r[0]]\n",
    "            testingObservation[i] = result[0]\n",
    "            \n",
    "        errorRate = []\n",
    "        numOfEvents = []\n",
    "        for x in range(1,len(testingObservation),250): \n",
    "            obs = testingObservation[:x]\n",
    "            validatedPath = testingLabel[:x]\n",
    "            proba, path = Viterbi(obs, activityLabel, initialDistribution, observationDistribution, transitionDistribution)\n",
    "            errorRate.append(  (sum(validatedPath != path)/float(len(validatedPath))) * 100 )\n",
    "            numOfEvents.append(x)\n",
    "            plt.plot(numOfEvents,errorRate)\n",
    "         \n",
    "    plt.xlabel(\"Number of observations in the training sequence\")\n",
    "    plt.ylabel(\"Error rate (%)\")\n",
    "    plt.show()"
   ]
  },
  {
   "cell_type": "code",
   "execution_count": 22,
   "metadata": {
    "collapsed": false
   },
   "outputs": [
    {
     "name": "stdout",
     "output_type": "stream",
     "text": [
      "26\n",
      "Int64Index([ 1,  2,  3,  4,  5,  6,  7,  8,  9, 10, 11, 12, 13, 14, 15, 16, 17,\n",
      "            18, 19, 20, 21, 22, 23, 24, 25, 26, 27, 28, 29, 30, 31, 32, 33, 34,\n",
      "            35, 36, 37, 38, 39, 40, 41, 42, 43, 44, 45, 46, 47, 48, 49, 50, 51,\n",
      "            52, 53, 54, 55, 56, 57, 58, 59],\n",
      "           dtype='int64')\n",
      "Int64Index([1, 2, 3, 4, 5, 6, 7, 8, 9, 10, 11], dtype='int64')\n",
      "25\n",
      "Int64Index([ 1,  2,  3,  4,  5,  6,  7,  8,  9, 10, 11, 12, 13, 14, 15, 16, 17,\n",
      "            18, 19, 20, 21, 22, 23, 24, 25, 26, 27, 28, 29, 30, 31, 32, 33, 34,\n",
      "            35, 36, 37, 38, 39, 40, 41, 42, 43, 44, 45, 46, 47, 48, 49, 50, 51,\n",
      "            52, 53, 54, 55, 56, 57, 58, 59, 60, 61, 62, 63, 64, 65, 66, 67, 68,\n",
      "            69, 70, 71, 72, 73, 74, 75, 76, 77, 78, 79, 80, 81, 82, 83, 84, 85,\n",
      "            86, 87, 88, 89, 90, 91, 92, 93, 94, 95, 96, 97, 98],\n",
      "           dtype='int64')\n",
      "Int64Index([1, 2, 3, 4, 5, 6, 7, 8, 9, 10, 11, 12, 13], dtype='int64')\n"
     ]
    }
   ],
   "source": [
    "crossValidation()"
   ]
  },
  {
   "cell_type": "code",
   "execution_count": null,
   "metadata": {
    "collapsed": true
   },
   "outputs": [],
   "source": []
  },
  {
   "cell_type": "code",
   "execution_count": null,
   "metadata": {
    "collapsed": true
   },
   "outputs": [],
   "source": []
  },
  {
   "cell_type": "code",
   "execution_count": 50,
   "metadata": {
    "collapsed": false
   },
   "outputs": [
    {
     "data": {
      "text/html": [
       "<div>\n",
       "<table border=\"1\" class=\"dataframe\">\n",
       "  <thead>\n",
       "    <tr style=\"text-align: right;\">\n",
       "      <th></th>\n",
       "      <th>Start time</th>\n",
       "      <th>End time</th>\n",
       "      <th>ID</th>\n",
       "      <th>Val</th>\n",
       "    </tr>\n",
       "  </thead>\n",
       "  <tbody>\n",
       "    <tr>\n",
       "      <th>1</th>\n",
       "      <td>2008-02-25 00:20:14</td>\n",
       "      <td>2008-02-25 00:22:57</td>\n",
       "      <td>24</td>\n",
       "      <td>1</td>\n",
       "    </tr>\n",
       "    <tr>\n",
       "      <th>2</th>\n",
       "      <td>2008-02-25 09:33:41</td>\n",
       "      <td>2008-02-25 09:33:42</td>\n",
       "      <td>24</td>\n",
       "      <td>1</td>\n",
       "    </tr>\n",
       "    <tr>\n",
       "      <th>3</th>\n",
       "      <td>2008-02-25 09:36:43</td>\n",
       "      <td>2008-02-25 09:37:04</td>\n",
       "      <td>5</td>\n",
       "      <td>1</td>\n",
       "    </tr>\n",
       "    <tr>\n",
       "      <th>4</th>\n",
       "      <td>2008-02-25 09:37:20</td>\n",
       "      <td>2008-02-25 09:37:23</td>\n",
       "      <td>6</td>\n",
       "      <td>1</td>\n",
       "    </tr>\n",
       "    <tr>\n",
       "      <th>5</th>\n",
       "      <td>2008-02-25 09:37:51</td>\n",
       "      <td>2008-02-25 09:37:52</td>\n",
       "      <td>14</td>\n",
       "      <td>1</td>\n",
       "    </tr>\n",
       "  </tbody>\n",
       "</table>\n",
       "</div>"
      ],
      "text/plain": [
       "           Start time            End time  ID Val\n",
       "1 2008-02-25 00:20:14 2008-02-25 00:22:57  24   1\n",
       "2 2008-02-25 09:33:41 2008-02-25 09:33:42  24   1\n",
       "3 2008-02-25 09:36:43 2008-02-25 09:37:04   5   1\n",
       "4 2008-02-25 09:37:20 2008-02-25 09:37:23   6   1\n",
       "5 2008-02-25 09:37:51 2008-02-25 09:37:52  14   1"
      ]
     },
     "execution_count": 50,
     "metadata": {},
     "output_type": "execute_result"
    }
   ],
   "source": [
    "sensorData.head()"
   ]
  },
  {
   "cell_type": "code",
   "execution_count": null,
   "metadata": {
    "collapsed": true
   },
   "outputs": [],
   "source": []
  }
 ],
 "metadata": {
  "kernelspec": {
   "display_name": "Python 2",
   "language": "python",
   "name": "python2"
  },
  "language_info": {
   "codemirror_mode": {
    "name": "ipython",
    "version": 2
   },
   "file_extension": ".py",
   "mimetype": "text/x-python",
   "name": "python",
   "nbconvert_exporter": "python",
   "pygments_lexer": "ipython2",
   "version": "2.7.10"
  }
 },
 "nbformat": 4,
 "nbformat_minor": 0
}
