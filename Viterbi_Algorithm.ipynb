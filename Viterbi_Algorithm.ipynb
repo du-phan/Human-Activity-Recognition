{
 "cells": [
  {
   "cell_type": "markdown",
   "metadata": {},
   "source": [
    "# Step 2: Viterbi algorithm"
   ]
  },
  {
   "cell_type": "code",
   "execution_count": 22,
   "metadata": {
    "collapsed": true
   },
   "outputs": [],
   "source": [
    "import matplotlib.pyplot as plt\n",
    "from random import randint\n",
    "from sklearn.metrics import confusion_matrix"
   ]
  },
  {
   "cell_type": "markdown",
   "metadata": {},
   "source": [
    "We begin by reloading the Data_Munging file"
   ]
  },
  {
   "cell_type": "code",
   "execution_count": 4,
   "metadata": {
    "collapsed": false
   },
   "outputs": [
    {
     "name": "stdout",
     "output_type": "stream",
     "text": [
      "<class 'pandas.tslib.Timedelta'>\n",
      "61.0\n"
     ]
    }
   ],
   "source": [
    "%run 'Data_Munging.ipynb'"
   ]
  },
  {
   "cell_type": "code",
   "execution_count": 5,
   "metadata": {
    "collapsed": false
   },
   "outputs": [
    {
     "data": {
      "text/html": [
       "<div>\n",
       "<table border=\"1\" class=\"dataframe\">\n",
       "  <thead>\n",
       "    <tr style=\"text-align: right;\">\n",
       "      <th></th>\n",
       "      <th>0</th>\n",
       "      <th>1</th>\n",
       "      <th>4</th>\n",
       "      <th>5</th>\n",
       "      <th>10</th>\n",
       "      <th>13</th>\n",
       "      <th>15</th>\n",
       "      <th>17</th>\n",
       "    </tr>\n",
       "  </thead>\n",
       "  <tbody>\n",
       "    <tr>\n",
       "      <th>0</th>\n",
       "      <td>0.990937</td>\n",
       "      <td>0.001203</td>\n",
       "      <td>0.226496</td>\n",
       "      <td>0.094737</td>\n",
       "      <td>0.001263</td>\n",
       "      <td>0.202703</td>\n",
       "      <td>0.026201</td>\n",
       "      <td>0.555556</td>\n",
       "    </tr>\n",
       "    <tr>\n",
       "      <th>1</th>\n",
       "      <td>0.001660</td>\n",
       "      <td>0.998231</td>\n",
       "      <td>0.004274</td>\n",
       "      <td>0.000000</td>\n",
       "      <td>0.000000</td>\n",
       "      <td>0.000000</td>\n",
       "      <td>0.000000</td>\n",
       "      <td>0.000000</td>\n",
       "    </tr>\n",
       "    <tr>\n",
       "      <th>4</th>\n",
       "      <td>0.004151</td>\n",
       "      <td>0.000425</td>\n",
       "      <td>0.636752</td>\n",
       "      <td>0.000000</td>\n",
       "      <td>0.002685</td>\n",
       "      <td>0.000000</td>\n",
       "      <td>0.004367</td>\n",
       "      <td>0.000000</td>\n",
       "    </tr>\n",
       "    <tr>\n",
       "      <th>5</th>\n",
       "      <td>0.000899</td>\n",
       "      <td>0.000000</td>\n",
       "      <td>0.021368</td>\n",
       "      <td>0.905263</td>\n",
       "      <td>0.000000</td>\n",
       "      <td>0.000000</td>\n",
       "      <td>0.000000</td>\n",
       "      <td>0.000000</td>\n",
       "    </tr>\n",
       "    <tr>\n",
       "      <th>10</th>\n",
       "      <td>0.000553</td>\n",
       "      <td>0.000000</td>\n",
       "      <td>0.081197</td>\n",
       "      <td>0.000000</td>\n",
       "      <td>0.995736</td>\n",
       "      <td>0.000000</td>\n",
       "      <td>0.000000</td>\n",
       "      <td>0.000000</td>\n",
       "    </tr>\n",
       "    <tr>\n",
       "      <th>13</th>\n",
       "      <td>0.000553</td>\n",
       "      <td>0.000000</td>\n",
       "      <td>0.017094</td>\n",
       "      <td>0.000000</td>\n",
       "      <td>0.000316</td>\n",
       "      <td>0.797297</td>\n",
       "      <td>0.000000</td>\n",
       "      <td>0.037037</td>\n",
       "    </tr>\n",
       "    <tr>\n",
       "      <th>15</th>\n",
       "      <td>0.000277</td>\n",
       "      <td>0.000142</td>\n",
       "      <td>0.008547</td>\n",
       "      <td>0.000000</td>\n",
       "      <td>0.000000</td>\n",
       "      <td>0.000000</td>\n",
       "      <td>0.965066</td>\n",
       "      <td>0.000000</td>\n",
       "    </tr>\n",
       "    <tr>\n",
       "      <th>17</th>\n",
       "      <td>0.000969</td>\n",
       "      <td>0.000000</td>\n",
       "      <td>0.004274</td>\n",
       "      <td>0.000000</td>\n",
       "      <td>0.000000</td>\n",
       "      <td>0.000000</td>\n",
       "      <td>0.004367</td>\n",
       "      <td>0.407407</td>\n",
       "    </tr>\n",
       "  </tbody>\n",
       "</table>\n",
       "</div>"
      ],
      "text/plain": [
       "          0         1         4         5         10        13        15  \\\n",
       "0   0.990937  0.001203  0.226496  0.094737  0.001263  0.202703  0.026201   \n",
       "1   0.001660  0.998231  0.004274  0.000000  0.000000  0.000000  0.000000   \n",
       "4   0.004151  0.000425  0.636752  0.000000  0.002685  0.000000  0.004367   \n",
       "5   0.000899  0.000000  0.021368  0.905263  0.000000  0.000000  0.000000   \n",
       "10  0.000553  0.000000  0.081197  0.000000  0.995736  0.000000  0.000000   \n",
       "13  0.000553  0.000000  0.017094  0.000000  0.000316  0.797297  0.000000   \n",
       "15  0.000277  0.000142  0.008547  0.000000  0.000000  0.000000  0.965066   \n",
       "17  0.000969  0.000000  0.004274  0.000000  0.000000  0.000000  0.004367   \n",
       "\n",
       "          17  \n",
       "0   0.555556  \n",
       "1   0.000000  \n",
       "4   0.000000  \n",
       "5   0.000000  \n",
       "10  0.000000  \n",
       "13  0.037037  \n",
       "15  0.000000  \n",
       "17  0.407407  "
      ]
     },
     "execution_count": 5,
     "metadata": {},
     "output_type": "execute_result"
    }
   ],
   "source": [
    "transitionDistribution"
   ]
  },
  {
   "cell_type": "code",
   "execution_count": 6,
   "metadata": {
    "collapsed": false
   },
   "outputs": [
    {
     "data": {
      "text/html": [
       "<div>\n",
       "<table border=\"1\" class=\"dataframe\">\n",
       "  <thead>\n",
       "    <tr style=\"text-align: right;\">\n",
       "      <th></th>\n",
       "      <th>0</th>\n",
       "      <th>1</th>\n",
       "      <th>4</th>\n",
       "      <th>5</th>\n",
       "      <th>10</th>\n",
       "      <th>13</th>\n",
       "      <th>15</th>\n",
       "      <th>17</th>\n",
       "    </tr>\n",
       "  </thead>\n",
       "  <tbody>\n",
       "    <tr>\n",
       "      <th>1</th>\n",
       "      <td>0.002905</td>\n",
       "      <td>0.000000</td>\n",
       "      <td>0.000000</td>\n",
       "      <td>0.000000</td>\n",
       "      <td>0.000000</td>\n",
       "      <td>0.067568</td>\n",
       "      <td>0.056769</td>\n",
       "      <td>0.000000</td>\n",
       "    </tr>\n",
       "    <tr>\n",
       "      <th>5</th>\n",
       "      <td>0.016947</td>\n",
       "      <td>0.000283</td>\n",
       "      <td>0.012821</td>\n",
       "      <td>0.878947</td>\n",
       "      <td>0.151453</td>\n",
       "      <td>0.000000</td>\n",
       "      <td>0.000000</td>\n",
       "      <td>0.000000</td>\n",
       "    </tr>\n",
       "    <tr>\n",
       "      <th>6</th>\n",
       "      <td>0.041779</td>\n",
       "      <td>0.000354</td>\n",
       "      <td>0.226496</td>\n",
       "      <td>0.000000</td>\n",
       "      <td>0.023215</td>\n",
       "      <td>0.000000</td>\n",
       "      <td>0.004367</td>\n",
       "      <td>0.000000</td>\n",
       "    </tr>\n",
       "    <tr>\n",
       "      <th>7</th>\n",
       "      <td>0.005257</td>\n",
       "      <td>0.000000</td>\n",
       "      <td>0.000000</td>\n",
       "      <td>0.000000</td>\n",
       "      <td>0.000000</td>\n",
       "      <td>0.000000</td>\n",
       "      <td>0.004367</td>\n",
       "      <td>0.111111</td>\n",
       "    </tr>\n",
       "    <tr>\n",
       "      <th>8</th>\n",
       "      <td>0.171751</td>\n",
       "      <td>0.000142</td>\n",
       "      <td>0.004274</td>\n",
       "      <td>0.000000</td>\n",
       "      <td>0.000000</td>\n",
       "      <td>0.297297</td>\n",
       "      <td>0.091703</td>\n",
       "      <td>0.777778</td>\n",
       "    </tr>\n",
       "    <tr>\n",
       "      <th>9</th>\n",
       "      <td>0.003113</td>\n",
       "      <td>0.000000</td>\n",
       "      <td>0.000000</td>\n",
       "      <td>0.000000</td>\n",
       "      <td>0.000000</td>\n",
       "      <td>0.040541</td>\n",
       "      <td>0.257642</td>\n",
       "      <td>0.000000</td>\n",
       "    </tr>\n",
       "    <tr>\n",
       "      <th>12</th>\n",
       "      <td>0.440963</td>\n",
       "      <td>0.999080</td>\n",
       "      <td>0.025641</td>\n",
       "      <td>0.000000</td>\n",
       "      <td>0.000000</td>\n",
       "      <td>0.000000</td>\n",
       "      <td>0.000000</td>\n",
       "      <td>0.000000</td>\n",
       "    </tr>\n",
       "    <tr>\n",
       "      <th>13</th>\n",
       "      <td>0.008854</td>\n",
       "      <td>0.000000</td>\n",
       "      <td>0.000000</td>\n",
       "      <td>0.000000</td>\n",
       "      <td>0.000000</td>\n",
       "      <td>0.000000</td>\n",
       "      <td>0.017467</td>\n",
       "      <td>0.000000</td>\n",
       "    </tr>\n",
       "    <tr>\n",
       "      <th>14</th>\n",
       "      <td>0.084388</td>\n",
       "      <td>0.000000</td>\n",
       "      <td>0.517094</td>\n",
       "      <td>0.121053</td>\n",
       "      <td>0.109128</td>\n",
       "      <td>0.081081</td>\n",
       "      <td>0.000000</td>\n",
       "      <td>0.000000</td>\n",
       "    </tr>\n",
       "    <tr>\n",
       "      <th>17</th>\n",
       "      <td>0.009615</td>\n",
       "      <td>0.000142</td>\n",
       "      <td>0.000000</td>\n",
       "      <td>0.000000</td>\n",
       "      <td>0.000000</td>\n",
       "      <td>0.162162</td>\n",
       "      <td>0.100437</td>\n",
       "      <td>0.000000</td>\n",
       "    </tr>\n",
       "    <tr>\n",
       "      <th>18</th>\n",
       "      <td>0.144705</td>\n",
       "      <td>0.000000</td>\n",
       "      <td>0.004274</td>\n",
       "      <td>0.000000</td>\n",
       "      <td>0.000000</td>\n",
       "      <td>0.013514</td>\n",
       "      <td>0.397380</td>\n",
       "      <td>0.000000</td>\n",
       "    </tr>\n",
       "    <tr>\n",
       "      <th>20</th>\n",
       "      <td>0.003389</td>\n",
       "      <td>0.000000</td>\n",
       "      <td>0.004274</td>\n",
       "      <td>0.000000</td>\n",
       "      <td>0.000000</td>\n",
       "      <td>0.000000</td>\n",
       "      <td>0.000000</td>\n",
       "      <td>0.000000</td>\n",
       "    </tr>\n",
       "    <tr>\n",
       "      <th>23</th>\n",
       "      <td>0.014387</td>\n",
       "      <td>0.000000</td>\n",
       "      <td>0.012821</td>\n",
       "      <td>0.000000</td>\n",
       "      <td>0.000000</td>\n",
       "      <td>0.324324</td>\n",
       "      <td>0.069869</td>\n",
       "      <td>0.111111</td>\n",
       "    </tr>\n",
       "    <tr>\n",
       "      <th>24</th>\n",
       "      <td>0.051947</td>\n",
       "      <td>0.000000</td>\n",
       "      <td>0.192308</td>\n",
       "      <td>0.000000</td>\n",
       "      <td>0.716203</td>\n",
       "      <td>0.013514</td>\n",
       "      <td>0.000000</td>\n",
       "      <td>0.000000</td>\n",
       "    </tr>\n",
       "  </tbody>\n",
       "</table>\n",
       "</div>"
      ],
      "text/plain": [
       "          0         1         4         5         10        13        15  \\\n",
       "1   0.002905  0.000000  0.000000  0.000000  0.000000  0.067568  0.056769   \n",
       "5   0.016947  0.000283  0.012821  0.878947  0.151453  0.000000  0.000000   \n",
       "6   0.041779  0.000354  0.226496  0.000000  0.023215  0.000000  0.004367   \n",
       "7   0.005257  0.000000  0.000000  0.000000  0.000000  0.000000  0.004367   \n",
       "8   0.171751  0.000142  0.004274  0.000000  0.000000  0.297297  0.091703   \n",
       "9   0.003113  0.000000  0.000000  0.000000  0.000000  0.040541  0.257642   \n",
       "12  0.440963  0.999080  0.025641  0.000000  0.000000  0.000000  0.000000   \n",
       "13  0.008854  0.000000  0.000000  0.000000  0.000000  0.000000  0.017467   \n",
       "14  0.084388  0.000000  0.517094  0.121053  0.109128  0.081081  0.000000   \n",
       "17  0.009615  0.000142  0.000000  0.000000  0.000000  0.162162  0.100437   \n",
       "18  0.144705  0.000000  0.004274  0.000000  0.000000  0.013514  0.397380   \n",
       "20  0.003389  0.000000  0.004274  0.000000  0.000000  0.000000  0.000000   \n",
       "23  0.014387  0.000000  0.012821  0.000000  0.000000  0.324324  0.069869   \n",
       "24  0.051947  0.000000  0.192308  0.000000  0.716203  0.013514  0.000000   \n",
       "\n",
       "          17  \n",
       "1   0.000000  \n",
       "5   0.000000  \n",
       "6   0.000000  \n",
       "7   0.111111  \n",
       "8   0.777778  \n",
       "9   0.000000  \n",
       "12  0.000000  \n",
       "13  0.000000  \n",
       "14  0.000000  \n",
       "17  0.000000  \n",
       "18  0.000000  \n",
       "20  0.000000  \n",
       "23  0.111111  \n",
       "24  0.000000  "
      ]
     },
     "execution_count": 6,
     "metadata": {},
     "output_type": "execute_result"
    }
   ],
   "source": [
    "observationDistribution"
   ]
  },
  {
   "cell_type": "markdown",
   "metadata": {},
   "source": [
    "On cherche la distribution initiale:"
   ]
  },
  {
   "cell_type": "code",
   "execution_count": 191,
   "metadata": {
    "collapsed": false
   },
   "outputs": [],
   "source": [
    "firstActivity = [] \n",
    "for d in range(1,32):\n",
    "    dayActivity = [activityData['Start time'][x].day == d and activityData['End time'][x].day == d  for x in range(1,len(activityData))]\n",
    "    if sum(dayActivity) != 0: \n",
    "        dayActivity = dayActivity + [False]\n",
    "        dayActivityData = activityData[dayActivity]\n",
    "        dayActivityData.index = np.arange(1,len(dayActivityData)+1)\n",
    "        firstActivity.append(dayActivityData.iloc[0].ID)"
   ]
  },
  {
   "cell_type": "code",
   "execution_count": 192,
   "metadata": {
    "collapsed": false
   },
   "outputs": [
    {
     "data": {
      "text/plain": [
       "[4, 4, 4, 4, 4, 4, 17, 10, 4, 4, 4, 4, 4, 4, 4, 4, 4, 4, 4, 10, 4, 4, 4, 4]"
      ]
     },
     "execution_count": 192,
     "metadata": {},
     "output_type": "execute_result"
    }
   ],
   "source": [
    "firstActivity"
   ]
  },
  {
   "cell_type": "code",
   "execution_count": 194,
   "metadata": {
    "collapsed": false
   },
   "outputs": [
    {
     "data": {
      "text/plain": [
       "24"
      ]
     },
     "execution_count": 194,
     "metadata": {},
     "output_type": "execute_result"
    }
   ],
   "source": [
    "len(firstActivity)"
   ]
  },
  {
   "cell_type": "code",
   "execution_count": 197,
   "metadata": {
    "collapsed": false
   },
   "outputs": [],
   "source": [
    "firstActDict = defaultdict(int)\n",
    "for act in firstActivity: \n",
    "    firstActDict[act] += 1"
   ]
  },
  {
   "cell_type": "code",
   "execution_count": 200,
   "metadata": {
    "collapsed": false
   },
   "outputs": [
    {
     "data": {
      "text/plain": [
       "defaultdict(int, {4: 21, 10: 2, 17: 1})"
      ]
     },
     "execution_count": 200,
     "metadata": {},
     "output_type": "execute_result"
    }
   ],
   "source": [
    "firstActDict"
   ]
  },
  {
   "cell_type": "code",
   "execution_count": 201,
   "metadata": {
    "collapsed": false
   },
   "outputs": [
    {
     "data": {
      "text/plain": [
       "0     0\n",
       "1     0\n",
       "4     0\n",
       "5     0\n",
       "10    0\n",
       "13    0\n",
       "15    0\n",
       "17    0\n",
       "dtype: float64"
      ]
     },
     "execution_count": 201,
     "metadata": {},
     "output_type": "execute_result"
    }
   ],
   "source": [
    "initialDistribution = Series(0.0, index = [0,1,4,5,10,13,15,17])\n",
    "initialDistribution"
   ]
  },
  {
   "cell_type": "code",
   "execution_count": 206,
   "metadata": {
    "collapsed": false
   },
   "outputs": [
    {
     "data": {
      "text/plain": [
       "0     0.000000\n",
       "1     0.000000\n",
       "4     0.875000\n",
       "5     0.000000\n",
       "10    0.083333\n",
       "13    0.000000\n",
       "15    0.000000\n",
       "17    0.041667\n",
       "dtype: float64"
      ]
     },
     "execution_count": 206,
     "metadata": {},
     "output_type": "execute_result"
    }
   ],
   "source": [
    "for ind in initialDistribution.index: \n",
    "    initialDistribution[ind] = float(firstActDict[ind])/len(firstActivity)\n",
    "initialDistribution"
   ]
  },
  {
   "cell_type": "code",
   "execution_count": 207,
   "metadata": {
    "collapsed": false
   },
   "outputs": [
    {
     "data": {
      "text/plain": [
       "0               nothing\n",
       "1           leave house\n",
       "4            use toilet\n",
       "5           take shower\n",
       "10            go to bed\n",
       "13    prepare breakfast\n",
       "15       prepare dinner\n",
       "17            get drink\n",
       "dtype: object"
      ]
     },
     "execution_count": 207,
     "metadata": {},
     "output_type": "execute_result"
    }
   ],
   "source": [
    "activityLabel"
   ]
  },
  {
   "cell_type": "code",
   "execution_count": 208,
   "metadata": {
    "collapsed": false,
    "scrolled": true
   },
   "outputs": [],
   "source": [
    "def Viterbi(observation, activityLabel, initialDistribution, observationDistribution, transitionDistribution):\n",
    "    probabilityTable = pd.DataFrame(0.0, index = activityLabel.index, columns = observation.index)\n",
    "    path = {}\n",
    "    for activityIndex in activityLabel.index.values:\n",
    "        probabilityTable[0][activityIndex] = initialDistribution[activityIndex] * observationDistribution[activityIndex][observation[0]]\n",
    "        path[activityIndex] = [activityIndex]\n",
    "    \n",
    "    for observationIndex in range(1,len(observation)):\n",
    "        newPath = {}\n",
    "        for activityIndex in activityLabel.index.values:\n",
    "            (proba, previousActivityInd) = max((probabilityTable[observationIndex-1][previousActivityIndex]*transitionDistribution[previousActivityIndex][activityIndex]*observationDistribution[activityIndex][observation[observationIndex]], previousActivityIndex) for previousActivityIndex in activityLabel.index.values )\n",
    "            #print proba \n",
    "            probabilityTable[observationIndex][activityIndex] = proba\n",
    "            newPath[activityIndex] = path[previousActivityInd] + [activityIndex]\n",
    "        path = newPath\n",
    "    \n",
    "    (finalProba, finalActivityIndex) = max((probabilityTable[len(observation)-1][activityIndex], activityIndex) for activityIndex in activityLabel.index.values )\n",
    "    return finalProba, path[finalActivityIndex]\n",
    "        \n",
    "        \n",
    "        "
   ]
  },
  {
   "cell_type": "markdown",
   "metadata": {},
   "source": [
    "Now we will create the testing set:"
   ]
  },
  {
   "cell_type": "code",
   "execution_count": 221,
   "metadata": {
    "collapsed": true
   },
   "outputs": [],
   "source": [
    "def crossValidation():\n",
    "    dayList = testDay[:1]\n",
    "    for d in dayList:\n",
    "        print d\n",
    "        daySensor = [sensorData['Start time'][x].day == d and sensorData['End time'][x].day == d for x in range(1,len(sensorData))]\n",
    "        daySensor = daySensor + [False]\n",
    "        daySensorData = sensorData[daySensor]\n",
    "        daySensorData.index = np.arange(1,len(daySensorData)+1)\n",
    "        \n",
    "        dayActivity = [activityData['Start time'][x].day == d and activityData['End time'][x].day == d for x in range(1,len(activityData))]\n",
    "        dayActivity = dayActivity + [False]\n",
    "        dayActivityData = activityData[dayActivity]\n",
    "        dayActivityData.index = np.arange(1,len(dayActivityData)+1)\n",
    "        \n",
    "        testingFeatureMatrix, testingLabel = convert2LastFiredFeatureMatrix(daySensorData,dayActivityData,60)\n",
    "        \n",
    "        testingObservation = Series(0, index = testingFeatureMatrix.columns)\n",
    "        for i in range(len(testingObservation)): \n",
    "            r = np.where(testingFeatureMatrix[i] == 1)\n",
    "            result = testingFeatureMatrix.index[r[0]]\n",
    "            testingObservation[i] = result[0]\n",
    "            \n",
    "        errorRate = []\n",
    "        numOfEvents = []\n",
    "        #for x in range(1,len(testingObservation),150): \n",
    "        obs = testingObservation[:len(testingObservation)]\n",
    "        validatedPath = testingLabel[:len(testingObservation)]\n",
    "        proba, path = Viterbi(obs, activityLabel, initialDistribution, observationDistribution, transitionDistribution)\n",
    "        errorRate.append(  (sum(validatedPath != path)/float(len(validatedPath))) * 100 )\n",
    "        numOfEvents.append(len(testingObservation))\n",
    "        validatedPath2 = pd.Series(validatedPath, name = \"Actual\") \n",
    "        path2 = pd.Series(path, name = \"Predicted\")\n",
    "        return pd.crosstab(validatedPath2, path2), pd.crosstab(validatedPath2, path2).apply(lambda r: r/r.sum(), axis=0)\n",
    "        #plt.plot(numOfEvents,errorRate, label = d)\n",
    "         \n",
    "    #plt.xlabel(\"Number of observations in the training sequence\")\n",
    "    #plt.ylabel(\"Error rate (%)\")\n",
    "    #plt.legend(loc='upper right')\n",
    "    #plt.show()"
   ]
  },
  {
   "cell_type": "code",
   "execution_count": 222,
   "metadata": {
    "collapsed": false
   },
   "outputs": [
    {
     "name": "stdout",
     "output_type": "stream",
     "text": [
      "25\n"
     ]
    }
   ],
   "source": [
    "confusionMatrix, confusionMatrixNormalized = crossValidation()"
   ]
  },
  {
   "cell_type": "code",
   "execution_count": 211,
   "metadata": {
    "collapsed": false
   },
   "outputs": [
    {
     "data": {
      "text/plain": [
       "0               nothing\n",
       "1           leave house\n",
       "4            use toilet\n",
       "5           take shower\n",
       "10            go to bed\n",
       "13    prepare breakfast\n",
       "15       prepare dinner\n",
       "17            get drink\n",
       "dtype: object"
      ]
     },
     "execution_count": 211,
     "metadata": {},
     "output_type": "execute_result"
    }
   ],
   "source": [
    "activityLabel"
   ]
  },
  {
   "cell_type": "code",
   "execution_count": 212,
   "metadata": {
    "collapsed": false,
    "scrolled": false
   },
   "outputs": [
    {
     "data": {
      "text/html": [
       "<div>\n",
       "<table border=\"1\" class=\"dataframe\">\n",
       "  <thead>\n",
       "    <tr style=\"text-align: right;\">\n",
       "      <th>Predicted</th>\n",
       "      <th>0</th>\n",
       "      <th>1</th>\n",
       "      <th>4</th>\n",
       "      <th>5</th>\n",
       "      <th>10</th>\n",
       "      <th>13</th>\n",
       "      <th>15</th>\n",
       "      <th>17</th>\n",
       "    </tr>\n",
       "    <tr>\n",
       "      <th>Actual</th>\n",
       "      <th></th>\n",
       "      <th></th>\n",
       "      <th></th>\n",
       "      <th></th>\n",
       "      <th></th>\n",
       "      <th></th>\n",
       "      <th></th>\n",
       "      <th></th>\n",
       "    </tr>\n",
       "  </thead>\n",
       "  <tbody>\n",
       "    <tr>\n",
       "      <th>0</th>\n",
       "      <td>0.857143</td>\n",
       "      <td>0.002513</td>\n",
       "      <td>0.924051</td>\n",
       "      <td>0.796296</td>\n",
       "      <td>0.031579</td>\n",
       "      <td>0.227273</td>\n",
       "      <td>0.564516</td>\n",
       "      <td>0.948187</td>\n",
       "    </tr>\n",
       "    <tr>\n",
       "      <th>1</th>\n",
       "      <td>0.071429</td>\n",
       "      <td>0.997487</td>\n",
       "      <td>0.000000</td>\n",
       "      <td>0.000000</td>\n",
       "      <td>0.000000</td>\n",
       "      <td>0.000000</td>\n",
       "      <td>0.000000</td>\n",
       "      <td>0.000000</td>\n",
       "    </tr>\n",
       "    <tr>\n",
       "      <th>4</th>\n",
       "      <td>0.000000</td>\n",
       "      <td>0.000000</td>\n",
       "      <td>0.075949</td>\n",
       "      <td>0.000000</td>\n",
       "      <td>0.000000</td>\n",
       "      <td>0.000000</td>\n",
       "      <td>0.000000</td>\n",
       "      <td>0.020725</td>\n",
       "    </tr>\n",
       "    <tr>\n",
       "      <th>5</th>\n",
       "      <td>0.000000</td>\n",
       "      <td>0.000000</td>\n",
       "      <td>0.000000</td>\n",
       "      <td>0.203704</td>\n",
       "      <td>0.000000</td>\n",
       "      <td>0.000000</td>\n",
       "      <td>0.000000</td>\n",
       "      <td>0.000000</td>\n",
       "    </tr>\n",
       "    <tr>\n",
       "      <th>10</th>\n",
       "      <td>0.000000</td>\n",
       "      <td>0.000000</td>\n",
       "      <td>0.000000</td>\n",
       "      <td>0.000000</td>\n",
       "      <td>0.968421</td>\n",
       "      <td>0.000000</td>\n",
       "      <td>0.000000</td>\n",
       "      <td>0.000000</td>\n",
       "    </tr>\n",
       "    <tr>\n",
       "      <th>13</th>\n",
       "      <td>0.000000</td>\n",
       "      <td>0.000000</td>\n",
       "      <td>0.000000</td>\n",
       "      <td>0.000000</td>\n",
       "      <td>0.000000</td>\n",
       "      <td>0.227273</td>\n",
       "      <td>0.000000</td>\n",
       "      <td>0.000000</td>\n",
       "    </tr>\n",
       "    <tr>\n",
       "      <th>15</th>\n",
       "      <td>0.071429</td>\n",
       "      <td>0.000000</td>\n",
       "      <td>0.000000</td>\n",
       "      <td>0.000000</td>\n",
       "      <td>0.000000</td>\n",
       "      <td>0.545455</td>\n",
       "      <td>0.435484</td>\n",
       "      <td>0.010363</td>\n",
       "    </tr>\n",
       "    <tr>\n",
       "      <th>17</th>\n",
       "      <td>0.000000</td>\n",
       "      <td>0.000000</td>\n",
       "      <td>0.000000</td>\n",
       "      <td>0.000000</td>\n",
       "      <td>0.000000</td>\n",
       "      <td>0.000000</td>\n",
       "      <td>0.000000</td>\n",
       "      <td>0.020725</td>\n",
       "    </tr>\n",
       "  </tbody>\n",
       "</table>\n",
       "</div>"
      ],
      "text/plain": [
       "Predicted        0         1         4         5         10        13  \\\n",
       "Actual                                                                  \n",
       "0          0.857143  0.002513  0.924051  0.796296  0.031579  0.227273   \n",
       "1          0.071429  0.997487  0.000000  0.000000  0.000000  0.000000   \n",
       "4          0.000000  0.000000  0.075949  0.000000  0.000000  0.000000   \n",
       "5          0.000000  0.000000  0.000000  0.203704  0.000000  0.000000   \n",
       "10         0.000000  0.000000  0.000000  0.000000  0.968421  0.000000   \n",
       "13         0.000000  0.000000  0.000000  0.000000  0.000000  0.227273   \n",
       "15         0.071429  0.000000  0.000000  0.000000  0.000000  0.545455   \n",
       "17         0.000000  0.000000  0.000000  0.000000  0.000000  0.000000   \n",
       "\n",
       "Predicted        15        17  \n",
       "Actual                         \n",
       "0          0.564516  0.948187  \n",
       "1          0.000000  0.000000  \n",
       "4          0.000000  0.020725  \n",
       "5          0.000000  0.000000  \n",
       "10         0.000000  0.000000  \n",
       "13         0.000000  0.000000  \n",
       "15         0.435484  0.010363  \n",
       "17         0.000000  0.020725  "
      ]
     },
     "execution_count": 212,
     "metadata": {},
     "output_type": "execute_result"
    }
   ],
   "source": [
    "confusionMatrix"
   ]
  },
  {
   "cell_type": "code",
   "execution_count": 239,
   "metadata": {
    "collapsed": false
   },
   "outputs": [],
   "source": [
    "def plotConfusionMatrix(confusionMatrix, title='Confusion matrix', cmap=plt.cm.gray_r):\n",
    "    plt.matshow(confusionMatrix, cmap=cmap) # imshow\n",
    "    #plt.title(title)\n",
    "    plt.colorbar()\n",
    "    tick_marks = np.arange(len(confusionMatrix.columns))\n",
    "    plt.xticks(tick_marks, confusionMatrix.columns, rotation=45)\n",
    "    plt.yticks(tick_marks, confusionMatrix.index)\n",
    "    plt.ylabel(confusionMatrix.index.name)\n",
    "    plt.xlabel(confusionMatrix.columns.name)\n",
    "    plt.show()"
   ]
  },
  {
   "cell_type": "code",
   "execution_count": null,
   "metadata": {
    "collapsed": false
   },
   "outputs": [],
   "source": [
    "plotConfusionMatrix(confusionMatrixNormalized)"
   ]
  },
  {
   "cell_type": "code",
   "execution_count": null,
   "metadata": {
    "collapsed": true
   },
   "outputs": [],
   "source": []
  },
  {
   "cell_type": "code",
   "execution_count": null,
   "metadata": {
    "collapsed": true
   },
   "outputs": [],
   "source": []
  },
  {
   "cell_type": "code",
   "execution_count": null,
   "metadata": {
    "collapsed": true
   },
   "outputs": [],
   "source": []
  }
 ],
 "metadata": {
  "kernelspec": {
   "display_name": "Python 2",
   "language": "python",
   "name": "python2"
  },
  "language_info": {
   "codemirror_mode": {
    "name": "ipython",
    "version": 2
   },
   "file_extension": ".py",
   "mimetype": "text/x-python",
   "name": "python",
   "nbconvert_exporter": "python",
   "pygments_lexer": "ipython2",
   "version": "2.7.10"
  }
 },
 "nbformat": 4,
 "nbformat_minor": 0
}
