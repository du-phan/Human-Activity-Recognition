{
 "cells": [
  {
   "cell_type": "code",
   "execution_count": 1,
   "metadata": {
    "collapsed": true
   },
   "outputs": [],
   "source": [
    "import matplotlib.pyplot as plt\n",
    "from random import randint\n",
    "from sklearn.metrics import confusion_matrix\n",
    "import numpy as np\n",
    "\n",
    "from sklearn.neighbors import KNeighborsClassifier"
   ]
  },
  {
   "cell_type": "code",
   "execution_count": 2,
   "metadata": {
    "collapsed": false
   },
   "outputs": [
    {
     "name": "stdout",
     "output_type": "stream",
     "text": [
      "<class 'pandas.tslib.Timedelta'>\n",
      "61.0\n"
     ]
    }
   ],
   "source": [
    "%run 'Data_Munging.ipynb'"
   ]
  },
  {
   "cell_type": "markdown",
   "metadata": {},
   "source": [
    "## 1) k-nearest neighbors classifier"
   ]
  },
  {
   "cell_type": "code",
   "execution_count": 3,
   "metadata": {
    "collapsed": false
   },
   "outputs": [],
   "source": [
    "def plot_confusion_matrix(cm, kfold, l, title='Confusion matrix', cmap=plt.cm.Blues):\n",
    "    plt.imshow(cm, interpolation='nearest', cmap=cmap)\n",
    "    plt.title(str(kfold) + '-fold cross validation - ' + title)\n",
    "    plt.colorbar()\n",
    "    tick_marks = np.arange(len(l))\n",
    "    plt.xticks(tick_marks,activityLabel.values, rotation=45)\n",
    "    plt.yticks(tick_marks, activityLabel.values)\n",
    "    plt.tight_layout()\n",
    "    plt.ylabel('True label')\n",
    "    plt.xlabel('Predicted label')"
   ]
  },
  {
   "cell_type": "code",
   "execution_count": 4,
   "metadata": {
    "collapsed": true
   },
   "outputs": [],
   "source": [
    "def calculateErrorRate(predictLabel, labelTestingData):\n",
    "    error_rate = 0.0\n",
    "    for i in xrange(len(predictLabel)):\n",
    "        if predictLabel[i] != labelTestingData[i]: \n",
    "            error_rate += 1\n",
    "    return error_rate/len(predictLabel)"
   ]
  },
  {
   "cell_type": "code",
   "execution_count": 11,
   "metadata": {
    "collapsed": false
   },
   "outputs": [],
   "source": [
    "def crossValidation(kfold):\n",
    "    dayList = [sensorData['Start time'][x].day for x in xrange(1,len(sensorData))]\n",
    "    dayList= list(set(dayList))\n",
    "    l = list(activityLabel.index)\n",
    "    errorRate = 0\n",
    "    confusionMatrix = confusion_matrix(activityLabel, activityLabel, labels = l)\n",
    "    confusionMatrix = confusionMatrix - confusionMatrix #we have then a 0 confusion matrix\n",
    "    \n",
    "    for fold in xrange(kfold): \n",
    "        testingDay = 26\n",
    "        while testingDay == 26:\n",
    "            randomNumber = randint(0,len(dayList)-1)\n",
    "            testingDay = dayList[randomNumber]\n",
    "        print testingDay\n",
    "        \n",
    "        trainingSensor = [sensorData['Start time'][x].day != testingDay and sensorData['End time'][x].day != testingDay for x in range(1,len(sensorData))]\n",
    "        trainingSensor = trainingSensor + [False]\n",
    "        trainingSensorData = sensorData[trainingSensor]\n",
    "        trainingSensorData.index = np.arange(1,len(trainingSensorData)+1)\n",
    "            \n",
    "        trainingActivity = [activityData['Start time'][x].day != testingDay and activityData['End time'][x].day != testingDay for x in range(1,len(activityData))]\n",
    "        trainingActivity = trainingActivity + [False]\n",
    "        trainingActivityData = activityData[trainingActivity]\n",
    "        trainingActivityData.index = np.arange(1,len(trainingActivityData)+1)\n",
    "        \n",
    "        trainingFeatureMatrix, trainingLabel = convert2LastFiredFeatureMatrix(trainingSensorData,trainingActivityData, 60)\n",
    "        cumuSensor, cumuActivity = cumulationTable(trainingFeatureMatrix, trainingLabel) \n",
    "        sensorTrainingData = np.asarray(cumuSensor)\n",
    "        labelTrainingData = np.asarray(cumuActivity)\n",
    "        \n",
    "        daySensor = [sensorData['Start time'][x].day == testingDay and sensorData['End time'][x].day == testingDay for x in range(1,len(sensorData))]\n",
    "        daySensor = daySensor + [False]\n",
    "        daySensorData = sensorData[daySensor]\n",
    "        daySensorData.index = np.arange(1,len(daySensorData)+1)\n",
    "\n",
    "        dayActivity = [activityData['Start time'][x].day == testingDay and activityData['End time'][x].day == testingDay for x in range(1,len(activityData))]\n",
    "        dayActivity = dayActivity + [False]\n",
    "        dayActivityData = activityData[dayActivity]\n",
    "        dayActivityData.index = np.arange(1,len(dayActivityData)+1)\n",
    "        \n",
    "        testingFeatureMatrix, testingLabel = convert2LastFiredFeatureMatrix(daySensorData,dayActivityData,60)\n",
    "        cumuSen, cumuAct = cumulationTable(testingFeatureMatrix, testingLabel)\n",
    "        sensorTestingData = np.asarray(cumuSen)\n",
    "        labelTestingData = np.asarray(cumuAct)\n",
    "        \n",
    "        knn = KNeighborsClassifier(n_neighbors=4,p=2, metric='minkowski')\n",
    "        knn.fit(sensorTrainingData, labelTrainingData)\n",
    "        predictLabel = knn.predict(sensorTestingData)\n",
    "        \n",
    "        errorRate += calculateErrorRate(predictLabel, labelTestingData)        \n",
    "        confusionMatrix += confusion_matrix(labelTestingData, predictLabel, labels = l)\n",
    "        print 'Turn {0}, error rate: {1}'.format(fold, calculateErrorRate(predictLabel, labelTestingData))\n",
    "        print 'Confusion matrix:'\n",
    "        print confusion_matrix(labelTestingData, predictLabel, labels = l)\n",
    "    \n",
    "    \n",
    "    print 'Error rate:',float(errorRate)/kfold\n",
    "    \n",
    "    np.set_printoptions(precision=2)\n",
    "    print('{0}-fold cross validation - Confusion matrix, without normalization').format(kfold)\n",
    "    print(confusionMatrix)\n",
    "    plt.figure()\n",
    "    plot_confusion_matrix(confusionMatrix, kfold,l)\n",
    "\n",
    "    # Normalize the confusion matrix by row (i.e by the number of samples in each class)\n",
    "    cm_normalized = confusionMatrix.astype('float')/confusionMatrix.sum(axis=1)[:, np.newaxis]\n",
    "    print('{0}-fold cross validation - Normalized confusion matrix').format(kfold)\n",
    "    print(cm_normalized)\n",
    "    plt.figure()\n",
    "    plot_confusion_matrix(cm_normalized, kfold,l, title='Normalized confusion matrix')\n",
    "\n",
    "    plt.show()\n",
    "        \n",
    "        "
   ]
  },
  {
   "cell_type": "code",
   "execution_count": null,
   "metadata": {
    "collapsed": false
   },
   "outputs": [
    {
     "name": "stdout",
     "output_type": "stream",
     "text": [
      "3\n",
      "Turn 0, error rate: 0.5\n",
      "Confusion matrix:\n",
      "[[1 0 1 1 0 0 0 0]\n",
      " [0 0 0 0 0 0 0 0]\n",
      " [0 0 1 0 0 0 0 0]\n",
      " [1 0 0 0 0 0 0 0]\n",
      " [0 0 0 0 0 0 0 0]\n",
      " [0 0 0 0 0 1 0 0]\n",
      " [0 0 0 0 0 0 0 0]\n",
      " [0 0 0 0 0 0 0 0]]\n",
      "14\n",
      "Turn 1, error rate: 0.136363636364\n",
      "Confusion matrix:\n",
      "[[7 0 1 1 0 0 1 0]\n",
      " [0 2 0 0 0 0 0 0]\n",
      " [0 0 6 0 0 0 0 0]\n",
      " [0 0 0 1 0 0 0 0]\n",
      " [0 0 0 0 2 0 0 0]\n",
      " [0 0 0 0 0 1 0 0]\n",
      " [0 0 0 0 0 0 0 0]\n",
      " [0 0 0 0 0 0 0 0]]\n",
      "10\n",
      "Turn 2, error rate: 0.190476190476\n",
      "Confusion matrix:\n",
      "[[6 0 2 0 0 0 0 1]\n",
      " [0 1 0 0 0 0 0 0]\n",
      " [0 0 5 0 0 0 0 0]\n",
      " [0 0 0 1 0 0 0 0]\n",
      " [0 0 0 0 1 0 0 0]\n",
      " [0 0 0 0 0 1 0 0]\n",
      " [0 0 0 0 0 0 1 0]\n",
      " [0 0 0 0 0 1 0 1]]\n",
      "8\n",
      "Turn 3, error rate: 0.222222222222"
     ]
    }
   ],
   "source": [
    "crossValidation(10)"
   ]
  },
  {
   "cell_type": "code",
   "execution_count": null,
   "metadata": {
    "collapsed": true
   },
   "outputs": [],
   "source": []
  },
  {
   "cell_type": "code",
   "execution_count": null,
   "metadata": {
    "collapsed": true
   },
   "outputs": [],
   "source": []
  },
  {
   "cell_type": "code",
   "execution_count": null,
   "metadata": {
    "collapsed": true
   },
   "outputs": [],
   "source": []
  },
  {
   "cell_type": "code",
   "execution_count": null,
   "metadata": {
    "collapsed": true
   },
   "outputs": [],
   "source": []
  },
  {
   "cell_type": "code",
   "execution_count": null,
   "metadata": {
    "collapsed": true
   },
   "outputs": [],
   "source": []
  },
  {
   "cell_type": "code",
   "execution_count": null,
   "metadata": {
    "collapsed": true
   },
   "outputs": [],
   "source": []
  }
 ],
 "metadata": {
  "kernelspec": {
   "display_name": "Python 2",
   "language": "python",
   "name": "python2"
  },
  "language_info": {
   "codemirror_mode": {
    "name": "ipython",
    "version": 2
   },
   "file_extension": ".py",
   "mimetype": "text/x-python",
   "name": "python",
   "nbconvert_exporter": "python",
   "pygments_lexer": "ipython2",
   "version": "2.7.10"
  }
 },
 "nbformat": 4,
 "nbformat_minor": 0
}
