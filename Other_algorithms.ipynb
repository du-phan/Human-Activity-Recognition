{
 "cells": [
  {
   "cell_type": "code",
   "execution_count": 57,
   "metadata": {
    "collapsed": true
   },
   "outputs": [],
   "source": [
    "import matplotlib.pyplot as plt\n",
    "from random import randint\n",
    "from sklearn.metrics import confusion_matrix\n",
    "import numpy as np\n",
    "\n",
    "from sklearn.neighbors import KNeighborsClassifier"
   ]
  },
  {
   "cell_type": "code",
   "execution_count": 2,
   "metadata": {
    "collapsed": false
   },
   "outputs": [
    {
     "name": "stdout",
     "output_type": "stream",
     "text": [
      "<class 'pandas.tslib.Timedelta'>\n",
      "61.0\n"
     ]
    }
   ],
   "source": [
    "%run 'Data_Munging.ipynb'"
   ]
  },
  {
   "cell_type": "markdown",
   "metadata": {},
   "source": [
    "## 1) k-nearest neighbors classifier"
   ]
  },
  {
   "cell_type": "markdown",
   "metadata": {},
   "source": [
    "On crée d'abord le testing set: "
   ]
  },
  {
   "cell_type": "code",
   "execution_count": 3,
   "metadata": {
    "collapsed": false
   },
   "outputs": [],
   "source": [
    "d = 25\n",
    "daySensor = [sensorData['Start time'][x].day == d and sensorData['End time'][x].day == d for x in range(1,len(sensorData))]\n",
    "daySensor = daySensor + [False]\n",
    "daySensorData = sensorData[daySensor]\n",
    "daySensorData.index = np.arange(1,len(daySensorData)+1)\n",
    "\n",
    "dayActivity = [activityData['Start time'][x].day == d and activityData['End time'][x].day == d for x in range(1,len(activityData))]\n",
    "dayActivity = dayActivity + [False]\n",
    "dayActivityData = activityData[dayActivity]\n",
    "dayActivityData.index = np.arange(1,len(dayActivityData)+1)\n",
    "\n",
    "testingFeatureMatrix, testingLabel = convert2LastFiredFeatureMatrix(daySensorData,dayActivityData,60)\n",
    "\n",
    "cumuSen, cumuAct = cumulationTable(testingFeatureMatrix, testingLabel)\n",
    "\n",
    "sensorTestingData = np.asarray(cumuSen)\n",
    "labelTestingData = np.asarray(cumuAct)"
   ]
  },
  {
   "cell_type": "code",
   "execution_count": 6,
   "metadata": {
    "collapsed": false
   },
   "outputs": [],
   "source": [
    "sensorTrainingData = np.asarray(cumuSensor)\n",
    "labelTrainingData = np.asarray(cumuActivity)"
   ]
  },
  {
   "cell_type": "code",
   "execution_count": 7,
   "metadata": {
    "collapsed": false
   },
   "outputs": [],
   "source": [
    "knn = KNeighborsClassifier()#(n_neighbors=3, weights='distance')\n",
    "knn.fit(sensorTrainingData, labelTrainingData)\n",
    "\n",
    "predictLabel = knn.predict(sensorTestingData)"
   ]
  },
  {
   "cell_type": "code",
   "execution_count": 58,
   "metadata": {
    "collapsed": false
   },
   "outputs": [],
   "source": [
    "def calculateErrorRate(predictLabel, labelTestingData):\n",
    "    error_rate = 0.0\n",
    "    for i in xrange(len(predictLabel)):\n",
    "        if predictLabel[i] != labelTestingData[i]: \n",
    "            error_rate += 1\n",
    "    return error_rate/len(predictLabel)"
   ]
  },
  {
   "cell_type": "code",
   "execution_count": 32,
   "metadata": {
    "collapsed": false
   },
   "outputs": [
    {
     "data": {
      "text/plain": [
       "[0, 1, 4, 5, 10, 13, 15, 17]"
      ]
     },
     "execution_count": 32,
     "metadata": {},
     "output_type": "execute_result"
    }
   ],
   "source": [
    "l = list(activityLabel.index)\n",
    "l"
   ]
  },
  {
   "cell_type": "code",
   "execution_count": 33,
   "metadata": {
    "collapsed": false
   },
   "outputs": [],
   "source": [
    "#l = list(set(predictLabel))\n",
    "l2 = list(reversed(l))"
   ]
  },
  {
   "cell_type": "code",
   "execution_count": 34,
   "metadata": {
    "collapsed": false
   },
   "outputs": [
    {
     "data": {
      "text/plain": [
       "array([[7, 0, 3, 0, 0, 2, 0, 0],\n",
       "       [0, 1, 0, 0, 0, 0, 0, 0],\n",
       "       [0, 0, 5, 0, 0, 0, 0, 0],\n",
       "       [0, 0, 0, 1, 0, 0, 0, 0],\n",
       "       [0, 0, 0, 0, 1, 0, 0, 0],\n",
       "       [0, 0, 0, 0, 0, 1, 0, 0],\n",
       "       [1, 0, 0, 0, 0, 0, 0, 0],\n",
       "       [0, 0, 0, 0, 0, 0, 0, 2]])"
      ]
     },
     "execution_count": 34,
     "metadata": {},
     "output_type": "execute_result"
    }
   ],
   "source": [
    "confusion_matrix(labelTestingData, predictLabel, labels = l)"
   ]
  },
  {
   "cell_type": "code",
   "execution_count": 114,
   "metadata": {
    "collapsed": false
   },
   "outputs": [],
   "source": [
    "def plot_confusion_matrix(cm, kfold, title='Confusion matrix', cmap=plt.cm.Blues):\n",
    "    plt.imshow(cm, interpolation='nearest', cmap=cmap)\n",
    "    plt.title(str(kfold) + '-fold cross validation - ' + title)\n",
    "    plt.colorbar()\n",
    "    tick_marks = np.arange(len(l))\n",
    "    plt.xticks(tick_marks,l, rotation=45)\n",
    "    plt.yticks(tick_marks, l)\n",
    "    plt.tight_layout()\n",
    "    plt.ylabel('True label')\n",
    "    plt.xlabel('Predicted label')"
   ]
  },
  {
   "cell_type": "code",
   "execution_count": 116,
   "metadata": {
    "collapsed": false
   },
   "outputs": [],
   "source": [
    "def crossValidation(kfold):\n",
    "    dayList = [sensorData['Start time'][x].day for x in xrange(1,len(sensorData))]\n",
    "    dayList= list(set(dayList))\n",
    "    l = list(activityLabel.index)\n",
    "    errorRate = 0\n",
    "    confusionMatrix = confusion_matrix(activityLabel, activityLabel, labels = l)\n",
    "    confusionMatrix = confusionMatrix - confusionMatrix #we have then a 0 confusion matrix\n",
    "    \n",
    "    for fold in xrange(kfold): \n",
    "        randomNumber = randint(0,len(dayList)-1)\n",
    "        testingDay = dayList[randomNumber]\n",
    "        print testingDay\n",
    "        \n",
    "        trainingSensor = [sensorData['Start time'][x].day != testingDay and sensorData['End time'][x].day != testingDay for x in range(1,len(sensorData))]\n",
    "        trainingSensor = trainingSensor + [False]\n",
    "        trainingSensorData = sensorData[trainingSensor]\n",
    "        trainingSensorData.index = np.arange(1,len(trainingSensorData)+1)\n",
    "            \n",
    "        trainingActivity = [activityData['Start time'][x].day != testingDay and activityData['End time'][x].day != testingDay for x in range(1,len(activityData))]\n",
    "        trainingActivity = trainingActivity + [False]\n",
    "        trainingActivityData = activityData[trainingActivity]\n",
    "        trainingActivityData.index = np.arange(1,len(trainingActivityData)+1)\n",
    "        \n",
    "        trainingFeatureMatrix, trainingLabel = convert2LastFiredFeatureMatrix(trainingSensorData,trainingActivityData, 60)\n",
    "        cumuSensor, cumuActivity = cumulationTable(trainingFeatureMatrix, trainingLabel)\n",
    "        sensorTrainingData = np.asarray(cumuSensor)\n",
    "        labelTrainingData = np.asarray(cumuActivity)\n",
    "        \n",
    "        daySensor = [sensorData['Start time'][x].day == testingDay and sensorData['End time'][x].day == testingDay for x in range(1,len(sensorData))]\n",
    "        daySensor = daySensor + [False]\n",
    "        daySensorData = sensorData[daySensor]\n",
    "        daySensorData.index = np.arange(1,len(daySensorData)+1)\n",
    "\n",
    "        dayActivity = [activityData['Start time'][x].day == testingDay and activityData['End time'][x].day == testingDay for x in range(1,len(activityData))]\n",
    "        dayActivity = dayActivity + [False]\n",
    "        dayActivityData = activityData[dayActivity]\n",
    "        dayActivityData.index = np.arange(1,len(dayActivityData)+1)\n",
    "        \n",
    "        testingFeatureMatrix, testingLabel = convert2LastFiredFeatureMatrix(daySensorData,dayActivityData,60)\n",
    "        cumuSen, cumuAct = cumulationTable(testingFeatureMatrix, testingLabel)\n",
    "        sensorTestingData = np.asarray(cumuSen)\n",
    "        labelTestingData = np.asarray(cumuAct)\n",
    "        \n",
    "        knn = KNeighborsClassifier(n_neighbors=5, weights='distance')\n",
    "        knn.fit(sensorTrainingData, labelTrainingData)\n",
    "        predictLabel = knn.predict(sensorTestingData)\n",
    "        \n",
    "        errorRate += calculateErrorRate(predictLabel, labelTestingData)        \n",
    "        confusionMatrix += confusion_matrix(labelTestingData, predictLabel, labels = l)\n",
    "        print 'Turn {0}, error rate: {1}'.format(fold, calculateErrorRate(predictLabel, labelTestingData))\n",
    "        print 'Confusion matrix:'\n",
    "        print confusion_matrix(labelTestingData, predictLabel, labels = l)\n",
    "    \n",
    "    \n",
    "    print 'Error rate:',float(errorRate)/kfold\n",
    "    \n",
    "    np.set_printoptions(precision=2)\n",
    "    print('{0}-fold cross validation - Confusion matrix, without normalization').format(kfold)\n",
    "    print(cm)\n",
    "    plt.figure()\n",
    "    plot_confusion_matrix(confusionMatrix, kfold)\n",
    "\n",
    "    # Normalize the confusion matrix by row (i.e by the number of samples in each class)\n",
    "    cm_normalized = confusionMatrix.astype('float')/confusionMatrix.sum(axis=1)[:, np.newaxis]\n",
    "    print('{0}-fold cross validation - Normalized confusion matrix').format(kfold)\n",
    "    print(cm_normalized)\n",
    "    plt.figure()\n",
    "    plot_confusion_matrix(cm_normalized, kfold, title='Normalized confusion matrix')\n",
    "\n",
    "    plt.show()\n",
    "        \n",
    "        "
   ]
  },
  {
   "cell_type": "code",
   "execution_count": 118,
   "metadata": {
    "collapsed": false
   },
   "outputs": [
    {
     "name": "stdout",
     "output_type": "stream",
     "text": [
      "5\n",
      "Turn 0, error rate: 0.157894736842\n",
      "Confusion matrix:\n",
      "[[4 0 0 1 0 0 1 0]\n",
      " [0 1 0 0 0 0 0 0]\n",
      " [0 0 6 0 0 0 0 0]\n",
      " [0 0 1 0 0 0 0 0]\n",
      " [0 0 0 0 2 0 0 0]\n",
      " [0 0 0 0 0 1 0 0]\n",
      " [0 0 0 0 0 0 2 0]\n",
      " [0 0 0 0 0 0 0 0]]\n",
      "20\n",
      "Turn 1, error rate: 0.1875\n",
      "Confusion matrix:\n",
      "[[4 0 0 1 2 0 0 0]\n",
      " [0 1 0 0 0 0 0 0]\n",
      " [0 0 6 0 0 0 0 0]\n",
      " [0 0 0 1 0 0 0 0]\n",
      " [0 0 0 0 0 0 0 0]\n",
      " [0 0 0 0 0 1 0 0]\n",
      " [0 0 0 0 0 0 0 0]\n",
      " [0 0 0 0 0 0 0 0]]\n",
      "16\n",
      "Turn 2, error rate: 0.142857142857\n",
      "Confusion matrix:\n",
      "[[4 0 0 0 1 0 1 0]\n",
      " [0 1 0 0 0 0 0 0]\n",
      " [0 0 4 0 0 0 0 0]\n",
      " [0 0 0 1 0 0 0 0]\n",
      " [0 0 0 0 1 0 0 0]\n",
      " [0 0 0 0 0 1 0 0]\n",
      " [0 0 0 0 0 0 0 0]\n",
      " [0 0 0 0 0 0 0 0]]\n",
      "29\n",
      "Turn 3, error rate: 0.357142857143\n",
      "Confusion matrix:\n",
      "[[4 0 2 0 1 0 0 0]\n",
      " [1 1 0 0 0 0 0 0]\n",
      " [0 0 2 0 0 0 0 0]\n",
      " [0 0 0 1 0 0 0 0]\n",
      " [0 0 0 0 0 0 0 0]\n",
      " [0 0 0 0 0 1 0 0]\n",
      " [1 0 0 0 0 0 0 0]\n",
      " [0 0 0 0 0 0 0 0]]\n",
      "25\n",
      "Turn 4, error rate: 0.25\n",
      "Confusion matrix:\n",
      "[[7 0 3 0 0 2 0 0]\n",
      " [0 1 0 0 0 0 0 0]\n",
      " [0 0 5 0 0 0 0 0]\n",
      " [0 0 0 1 0 0 0 0]\n",
      " [0 0 0 0 1 0 0 0]\n",
      " [0 0 0 0 0 1 0 0]\n",
      " [1 0 0 0 0 0 0 0]\n",
      " [0 0 0 0 0 0 0 2]]\n",
      "19\n",
      "Turn 5, error rate: 0.35\n",
      "Confusion matrix:\n",
      "[[6 0 1 0 1 0 0 1]\n",
      " [0 2 0 0 0 0 0 0]\n",
      " [0 0 4 0 0 0 0 0]\n",
      " [1 0 0 1 0 0 0 0]\n",
      " [2 0 0 0 0 0 0 0]\n",
      " [1 0 0 0 0 0 0 0]\n",
      " [0 0 0 0 0 0 0 0]\n",
      " [0 0 0 0 0 0 0 0]]\n",
      "15\n",
      "Turn 6, error rate: 0.25\n",
      "Confusion matrix:\n",
      "[[4 0 1 0 4 0 0 0]\n",
      " [0 0 0 0 0 0 0 0]\n",
      " [0 0 7 0 0 0 0 0]\n",
      " [0 0 0 1 0 0 0 0]\n",
      " [0 0 0 0 0 0 0 0]\n",
      " [0 0 0 0 0 1 0 0]\n",
      " [0 0 0 0 0 0 1 0]\n",
      " [0 0 0 0 0 0 0 1]]\n",
      "3\n",
      "Turn 7, error rate: 0.5\n",
      "Confusion matrix:\n",
      "[[1 0 1 1 0 0 0 0]\n",
      " [0 0 0 0 0 0 0 0]\n",
      " [0 0 1 0 0 0 0 0]\n",
      " [1 0 0 0 0 0 0 0]\n",
      " [0 0 0 0 0 0 0 0]\n",
      " [0 0 0 0 0 1 0 0]\n",
      " [0 0 0 0 0 0 0 0]\n",
      " [0 0 0 0 0 0 0 0]]\n",
      "16\n",
      "Turn 8, error rate: 0.142857142857\n",
      "Confusion matrix:\n",
      "[[4 0 0 0 1 0 1 0]\n",
      " [0 1 0 0 0 0 0 0]\n",
      " [0 0 4 0 0 0 0 0]\n",
      " [0 0 0 1 0 0 0 0]\n",
      " [0 0 0 0 1 0 0 0]\n",
      " [0 0 0 0 0 1 0 0]\n",
      " [0 0 0 0 0 0 0 0]\n",
      " [0 0 0 0 0 0 0 0]]\n",
      "16\n",
      "Turn 9, error rate: 0.142857142857\n",
      "Confusion matrix:\n",
      "[[4 0 0 0 1 0 1 0]\n",
      " [0 1 0 0 0 0 0 0]\n",
      " [0 0 4 0 0 0 0 0]\n",
      " [0 0 0 1 0 0 0 0]\n",
      " [0 0 0 0 1 0 0 0]\n",
      " [0 0 0 0 0 1 0 0]\n",
      " [0 0 0 0 0 0 0 0]\n",
      " [0 0 0 0 0 0 0 0]]\n",
      "Error rate: 0.248110902256\n",
      "10-fold cross validation - Confusion matrix, without normalization\n",
      "[[7 0 3 0 0 2 0 0]\n",
      " [0 1 0 0 0 0 0 0]\n",
      " [0 0 5 0 0 0 0 0]\n",
      " [0 0 0 1 0 0 0 0]\n",
      " [0 0 0 0 1 0 0 0]\n",
      " [0 0 0 0 0 1 0 0]\n",
      " [1 0 0 0 0 0 0 0]\n",
      " [0 0 0 0 0 0 0 2]]\n",
      "10-fold cross validation - Normalized confusion matrix\n",
      "[[ 0.59  0.    0.11  0.04  0.15  0.03  0.06  0.01]\n",
      " [ 0.1   0.9   0.    0.    0.    0.    0.    0.  ]\n",
      " [ 0.    0.    1.    0.    0.    0.    0.    0.  ]\n",
      " [ 0.18  0.    0.09  0.73  0.    0.    0.    0.  ]\n",
      " [ 0.25  0.    0.    0.    0.75  0.    0.    0.  ]\n",
      " [ 0.1   0.    0.    0.    0.    0.9   0.    0.  ]\n",
      " [ 0.4   0.    0.    0.    0.    0.    0.6   0.  ]\n",
      " [ 0.    0.    0.    0.    0.    0.    0.    1.  ]]\n"
     ]
    }
   ],
   "source": [
    "crossValidation(10)"
   ]
  },
  {
   "cell_type": "code",
   "execution_count": null,
   "metadata": {
    "collapsed": true
   },
   "outputs": [],
   "source": []
  },
  {
   "cell_type": "code",
   "execution_count": null,
   "metadata": {
    "collapsed": true
   },
   "outputs": [],
   "source": []
  }
 ],
 "metadata": {
  "kernelspec": {
   "display_name": "Python 2",
   "language": "python",
   "name": "python2"
  },
  "language_info": {
   "codemirror_mode": {
    "name": "ipython",
    "version": 2
   },
   "file_extension": ".py",
   "mimetype": "text/x-python",
   "name": "python",
   "nbconvert_exporter": "python",
   "pygments_lexer": "ipython2",
   "version": "2.7.10"
  }
 },
 "nbformat": 4,
 "nbformat_minor": 0
}
