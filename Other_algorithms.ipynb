{
 "cells": [
  {
   "cell_type": "code",
   "execution_count": 65,
   "metadata": {
    "collapsed": true
   },
   "outputs": [],
   "source": [
    "import matplotlib.pyplot as plt\n",
    "from random import randint\n",
    "from sklearn.metrics import confusion_matrix\n",
    "import numpy as np"
   ]
  },
  {
   "cell_type": "code",
   "execution_count": 66,
   "metadata": {
    "collapsed": false
   },
   "outputs": [
    {
     "name": "stdout",
     "output_type": "stream",
     "text": [
      "<class 'pandas.tslib.Timedelta'>\n",
      "61.0\n"
     ]
    }
   ],
   "source": [
    "%run 'Data_Munging.ipynb'"
   ]
  },
  {
   "cell_type": "markdown",
   "metadata": {},
   "source": [
    "## 1) k-nearest neighbors classifier"
   ]
  },
  {
   "cell_type": "markdown",
   "metadata": {},
   "source": [
    "On crée d'abord le testing set: "
   ]
  },
  {
   "cell_type": "code",
   "execution_count": 67,
   "metadata": {
    "collapsed": false
   },
   "outputs": [],
   "source": [
    "d = 28\n",
    "daySensor = [sensorData['Start time'][x].day == d and sensorData['End time'][x].day == d for x in range(1,len(sensorData))]\n",
    "daySensor = daySensor + [False]\n",
    "daySensorData = sensorData[daySensor]\n",
    "daySensorData.index = np.arange(1,len(daySensorData)+1)\n",
    "\n",
    "dayActivity = [activityData['Start time'][x].day == d and activityData['End time'][x].day == d for x in range(1,len(activityData))]\n",
    "dayActivity = dayActivity + [False]\n",
    "dayActivityData = activityData[dayActivity]\n",
    "dayActivityData.index = np.arange(1,len(dayActivityData)+1)\n",
    "\n",
    "testingFeatureMatrix, testingLabel = convert2LastFiredFeatureMatrix(daySensorData,dayActivityData,60)\n",
    "\n",
    "cumuSen, cumuAct = cumulationTable(testingFeatureMatrix, testingLabel)\n",
    "\n",
    "sensorTestingData = np.asarray(cumuSen)\n",
    "labelTestingData = np.asarray(cumuAct)"
   ]
  },
  {
   "cell_type": "code",
   "execution_count": null,
   "metadata": {
    "collapsed": true
   },
   "outputs": [],
   "source": []
  },
  {
   "cell_type": "code",
   "execution_count": 68,
   "metadata": {
    "collapsed": true
   },
   "outputs": [],
   "source": [
    "from sklearn.neighbors import KNeighborsClassifier"
   ]
  },
  {
   "cell_type": "code",
   "execution_count": 69,
   "metadata": {
    "collapsed": false
   },
   "outputs": [],
   "source": [
    "sensorTrainingData = np.asarray(cumuSensor)\n",
    "labelTrainingData = np.asarray(cumuActivity)"
   ]
  },
  {
   "cell_type": "code",
   "execution_count": 70,
   "metadata": {
    "collapsed": false
   },
   "outputs": [],
   "source": [
    "knn = KNeighborsClassifier()#(n_neighbors=3, weights='distance')\n",
    "knn.fit(sensorTrainingData, labelTrainingData)\n",
    "\n",
    "predictLabel = knn.predict(sensorTestingData)"
   ]
  },
  {
   "cell_type": "code",
   "execution_count": 71,
   "metadata": {
    "collapsed": false
   },
   "outputs": [
    {
     "name": "stdout",
     "output_type": "stream",
     "text": [
      "0.15\n"
     ]
    }
   ],
   "source": [
    "error_rate = 0.0\n",
    "for i in xrange(len(predictLabel)):\n",
    "    if predictLabel[i] != labelTestingData[i]: \n",
    "        error_rate += 1\n",
    "print error_rate/len(predictLabel)"
   ]
  },
  {
   "cell_type": "code",
   "execution_count": 72,
   "metadata": {
    "collapsed": false
   },
   "outputs": [
    {
     "data": {
      "text/plain": [
       "array([ 4,  0, 10,  4,  0, 17, 13,  0,  4,  5,  5,  1,  0,  4,  0,  1,  0,\n",
       "        4,  0,  4])"
      ]
     },
     "execution_count": 72,
     "metadata": {},
     "output_type": "execute_result"
    }
   ],
   "source": [
    "predictLabel"
   ]
  },
  {
   "cell_type": "code",
   "execution_count": null,
   "metadata": {
    "collapsed": false
   },
   "outputs": [
    {
     "data": {
      "text/plain": [
       "array([[6, 0, 0, 0, 1, 0, 0],\n",
       "       [0, 2, 0, 0, 0, 0, 0],\n",
       "       [0, 0, 6, 0, 0, 0, 0],\n",
       "       [1, 0, 0, 1, 0, 0, 0],\n",
       "       [0, 0, 0, 0, 1, 0, 0],\n",
       "       [0, 0, 0, 0, 0, 1, 0],\n",
       "       [0, 0, 1, 0, 0, 0, 0]])"
      ]
     },
     "execution_count": 73,
     "metadata": {},
     "output_type": "execute_result"
    }
   ],
   "source": [
    "confusion_matrix(predictLabel, labelTestingData)"
   ]
  },
  {
   "cell_type": "code",
   "execution_count": null,
   "metadata": {
    "collapsed": false
   },
   "outputs": [
    {
     "name": "stdout",
     "output_type": "stream",
     "text": [
      "Confusion matrix, without normalization\n",
      "[[6 0 0 1 0 0 0]\n",
      " [0 2 0 0 0 0 0]\n",
      " [0 0 6 0 0 0 1]\n",
      " [0 0 0 1 0 0 0]\n",
      " [1 0 0 0 1 0 0]\n",
      " [0 0 0 0 0 1 0]\n",
      " [0 0 0 0 0 0 0]]\n",
      "Normalized confusion matrix"
     ]
    }
   ],
   "source": [
    "def plot_confusion_matrix(cm, title='Confusion matrix', cmap=plt.cm.Blues):\n",
    "    plt.imshow(cm, interpolation='nearest', cmap=cmap)\n",
    "    plt.title(title)\n",
    "    plt.colorbar()\n",
    "    #tick_marks = np.arange(len(set(labelTestingData)))\n",
    "    #plt.xticks(tick_marks,list(set(labelTestingData)), rotation=45)\n",
    "    #plt.yticks(tick_marks, list(set(labelTestingData)))\n",
    "    plt.tight_layout()\n",
    "    plt.ylabel('True label')\n",
    "    plt.xlabel('Predicted label')\n",
    "\n",
    "\n",
    "# Compute confusion matrix\n",
    "cm = confusion_matrix(labelTestingData, predictLabel)\n",
    "np.set_printoptions(precision=2)\n",
    "print('Confusion matrix, without normalization')\n",
    "print(cm)\n",
    "plt.figure()\n",
    "plot_confusion_matrix(cm)\n",
    "\n",
    "# Normalize the confusion matrix by row (i.e by the number of samples in each class)\n",
    "cm_normalized = cm.astype('float') / cm.sum(axis=1)[:, np.newaxis]\n",
    "print('Normalized confusion matrix')\n",
    "print(cm_normalized)\n",
    "plt.figure()\n",
    "plot_confusion_matrix(cm_normalized, title='Normalized confusion matrix')\n",
    "\n",
    "plt.show()"
   ]
  },
  {
   "cell_type": "code",
   "execution_count": null,
   "metadata": {
    "collapsed": true
   },
   "outputs": [],
   "source": []
  }
 ],
 "metadata": {
  "kernelspec": {
   "display_name": "Python 2",
   "language": "python",
   "name": "python2"
  },
  "language_info": {
   "codemirror_mode": {
    "name": "ipython",
    "version": 2
   },
   "file_extension": ".py",
   "mimetype": "text/x-python",
   "name": "python",
   "nbconvert_exporter": "python",
   "pygments_lexer": "ipython2",
   "version": "2.7.10"
  }
 },
 "nbformat": 4,
 "nbformat_minor": 0
}
