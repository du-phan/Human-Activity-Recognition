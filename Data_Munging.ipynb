{
 "cells": [
  {
   "cell_type": "markdown",
   "metadata": {},
   "source": [
    "# Step 1: Data munging\n",
    "\n",
    "## Les choses à faire dans cette étape:\n",
    "    1) Lire les jeux de données et nettoyer les jeux de données: les données des capteurs sont mises sous forme discrète avec delta t = 60s. \n",
    "    2) Calcule les paramètres du modèle de Markov caché: la fréquence de transition et d'observation."
   ]
  },
  {
   "cell_type": "code",
   "execution_count": 151,
   "metadata": {
    "collapsed": true
   },
   "outputs": [],
   "source": [
    "from pandas import DataFrame, Series\n",
    "import pandas as pd\n",
    "import numpy as np\n",
    "from datetime import datetime\n",
    "import math\n",
    "#from __future__ import print_function\n",
    "from operator import itemgetter\n",
    "from collections import defaultdict"
   ]
  },
  {
   "cell_type": "code",
   "execution_count": 152,
   "metadata": {
    "collapsed": false
   },
   "outputs": [],
   "source": [
    "sensorData = pd.read_table(\"SensorData.txt\")\n",
    "activityData = pd.read_table(\"activitiesData.txt\")"
   ]
  },
  {
   "cell_type": "markdown",
   "metadata": {},
   "source": [
    "On élimine la première ligne de chaque jeu de données, ce qui servent à rien"
   ]
  },
  {
   "cell_type": "code",
   "execution_count": 153,
   "metadata": {
    "collapsed": false
   },
   "outputs": [],
   "source": [
    "sensorData = sensorData.ix[1:]\n",
    "activityData = activityData.ix[1:]"
   ]
  },
  {
   "cell_type": "code",
   "execution_count": 154,
   "metadata": {
    "collapsed": false
   },
   "outputs": [
    {
     "data": {
      "text/html": [
       "<div>\n",
       "<table border=\"1\" class=\"dataframe\">\n",
       "  <thead>\n",
       "    <tr style=\"text-align: right;\">\n",
       "      <th></th>\n",
       "      <th>Start time</th>\n",
       "      <th>End time</th>\n",
       "      <th>ID</th>\n",
       "    </tr>\n",
       "  </thead>\n",
       "  <tbody>\n",
       "    <tr>\n",
       "      <th>1</th>\n",
       "      <td>25-Feb-2008 00:22:46</td>\n",
       "      <td>25-Feb-2008 09:34:12</td>\n",
       "      <td>10</td>\n",
       "    </tr>\n",
       "    <tr>\n",
       "      <th>2</th>\n",
       "      <td>25-Feb-2008 09:37:17</td>\n",
       "      <td>25-Feb-2008 09:38:02</td>\n",
       "      <td>4</td>\n",
       "    </tr>\n",
       "    <tr>\n",
       "      <th>3</th>\n",
       "      <td>25-Feb-2008 09:49:23</td>\n",
       "      <td>25-Feb-2008 09:53:28</td>\n",
       "      <td>13</td>\n",
       "    </tr>\n",
       "    <tr>\n",
       "      <th>4</th>\n",
       "      <td>25-Feb-2008 10:02:28</td>\n",
       "      <td>25-Feb-2008 10:12:42</td>\n",
       "      <td>5</td>\n",
       "    </tr>\n",
       "    <tr>\n",
       "      <th>5</th>\n",
       "      <td>25-Feb-2008 10:19:06</td>\n",
       "      <td>25-Feb-2008 16:55:38</td>\n",
       "      <td>1</td>\n",
       "    </tr>\n",
       "  </tbody>\n",
       "</table>\n",
       "</div>"
      ],
      "text/plain": [
       "             Start time              End time  ID\n",
       "1  25-Feb-2008 00:22:46  25-Feb-2008 09:34:12  10\n",
       "2  25-Feb-2008 09:37:17  25-Feb-2008 09:38:02   4\n",
       "3  25-Feb-2008 09:49:23  25-Feb-2008 09:53:28  13\n",
       "4  25-Feb-2008 10:02:28  25-Feb-2008 10:12:42   5\n",
       "5  25-Feb-2008 10:19:06  25-Feb-2008 16:55:38   1"
      ]
     },
     "execution_count": 154,
     "metadata": {},
     "output_type": "execute_result"
    }
   ],
   "source": [
    "activityData.head()"
   ]
  },
  {
   "cell_type": "markdown",
   "metadata": {},
   "source": [
    "On vérifie si il y a des valeurs manquantes dans notre jeu de données:"
   ]
  },
  {
   "cell_type": "code",
   "execution_count": 155,
   "metadata": {
    "collapsed": false
   },
   "outputs": [],
   "source": [
    "sensorData = sensorData[sensorData['End time'].notnull()]"
   ]
  },
  {
   "cell_type": "code",
   "execution_count": 156,
   "metadata": {
    "collapsed": true
   },
   "outputs": [],
   "source": [
    "activityData = activityData[activityData['End time'].notnull()]"
   ]
  },
  {
   "cell_type": "markdown",
   "metadata": {},
   "source": [
    "On crée les listes des activités et des capteurs:"
   ]
  },
  {
   "cell_type": "code",
   "execution_count": 157,
   "metadata": {
    "collapsed": false
   },
   "outputs": [
    {
     "data": {
      "text/plain": [
       "0               nothing\n",
       "1           leave house\n",
       "4            use toilet\n",
       "5           take shower\n",
       "10            go to bed\n",
       "13    prepare breakfast\n",
       "15       prepare dinner\n",
       "17            get drink\n",
       "dtype: object"
      ]
     },
     "execution_count": 157,
     "metadata": {},
     "output_type": "execute_result"
    }
   ],
   "source": [
    "activityLabel = Series(['nothing','leave house','use toilet','take shower','go to bed','prepare breakfast','prepare dinner',\n",
    "                        'get drink'], index=[0,1,4,5,10,13,15,17])\n",
    "activityLabel"
   ]
  },
  {
   "cell_type": "code",
   "execution_count": 158,
   "metadata": {
    "collapsed": false
   },
   "outputs": [
    {
     "data": {
      "text/plain": [
       "1              Microwave\n",
       "5       Hall-Toilet door\n",
       "6     Hall-Bathroom door\n",
       "7          Cups cupboard\n",
       "8                 Fridge\n",
       "9        Plates cupboard\n",
       "12            Front door\n",
       "13            Dishwasher\n",
       "14           ToiletFlush\n",
       "17               Freezer\n",
       "18         Pans Cupboard\n",
       "20       Washing machine\n",
       "23    Groceries Cupboard\n",
       "24     Hall-Bedroom door\n",
       "dtype: object"
      ]
     },
     "execution_count": 158,
     "metadata": {},
     "output_type": "execute_result"
    }
   ],
   "source": [
    "sensorLabel = Series(['Microwave','Hall-Toilet door','Hall-Bathroom door','Cups cupboard','Fridge',\n",
    "                      'Plates cupboard','Front door','Dishwasher','ToiletFlush','Freezer','Pans Cupboard',\n",
    "                      'Washing machine','Groceries Cupboard','Hall-Bedroom door'],\n",
    "                     index = [1,5,6,7,8,9,12,13,14,17,18,20,23,24])\n",
    "sensorLabel"
   ]
  },
  {
   "cell_type": "markdown",
   "metadata": {},
   "source": [
    "Maintenant on cherche à gérer les 2 colonnes de temps : Start Time et End Time"
   ]
  },
  {
   "cell_type": "code",
   "execution_count": 159,
   "metadata": {
    "collapsed": false
   },
   "outputs": [
    {
     "name": "stdout",
     "output_type": "stream",
     "text": [
      "<class 'pandas.tslib.Timedelta'>\n",
      "61.0\n"
     ]
    }
   ],
   "source": [
    "x1 = '25-Feb-2008 00:22:46'\n",
    "x2 = '25-Feb-2008 00:23:47'\n",
    "y1 = pd.to_datetime(x1)\n",
    "y2 = pd.to_datetime(x2)\n",
    "print(type(y2-y1))\n",
    "print((y2-y1)/pd.Timedelta(1,'s'))"
   ]
  },
  {
   "cell_type": "code",
   "execution_count": 160,
   "metadata": {
    "collapsed": false
   },
   "outputs": [],
   "source": [
    "activityData['Start time'] = pd.to_datetime(activityData['Start time'])"
   ]
  },
  {
   "cell_type": "code",
   "execution_count": 161,
   "metadata": {
    "collapsed": false
   },
   "outputs": [],
   "source": [
    "activityData['End time'] = pd.to_datetime(activityData['End time'])"
   ]
  },
  {
   "cell_type": "code",
   "execution_count": 162,
   "metadata": {
    "collapsed": false
   },
   "outputs": [],
   "source": [
    "sensorData['Start time'] = pd.to_datetime(sensorData['Start time'])"
   ]
  },
  {
   "cell_type": "code",
   "execution_count": 163,
   "metadata": {
    "collapsed": false
   },
   "outputs": [],
   "source": [
    "sensorData['End time'] = pd.to_datetime(sensorData['End time'])"
   ]
  },
  {
   "cell_type": "markdown",
   "metadata": {},
   "source": [
    "Convert ID columns from string to int:"
   ]
  },
  {
   "cell_type": "code",
   "execution_count": 164,
   "metadata": {
    "collapsed": false
   },
   "outputs": [],
   "source": [
    "sensorData.ID = sensorData['ID'].apply(int)"
   ]
  },
  {
   "cell_type": "code",
   "execution_count": 165,
   "metadata": {
    "collapsed": false
   },
   "outputs": [],
   "source": [
    "activityData.ID = activityData['ID'].apply(int)"
   ]
  },
  {
   "cell_type": "markdown",
   "metadata": {},
   "source": [
    "Convert to raw feature matrix:"
   ]
  },
  {
   "cell_type": "code",
   "execution_count": 166,
   "metadata": {
    "collapsed": true
   },
   "outputs": [],
   "source": [
    "def convert2RawFeatMatrix(trainingSensorData, trainingActivityData, timeStep):\n",
    "    beginTime = 0 \n",
    "    endTime = 0\n",
    "    \n",
    "    if sensorData['Start time'][1] < activityData['Start time'][1]: # we compare 1st time step of activity data vs sensor data\n",
    "        beginTime = sensorData['Start time'][1]\n",
    "    else:\n",
    "        beginTime = activityData['Start time'][1]\n",
    "        \n",
    "    if sensorData['End time'][len(sensorData)] > activityData['End time'][len(activityData)]:\n",
    "        endTime = sensorData['End time'][len(sensorData)]\n",
    "    else:\n",
    "        endTime = activityData['End time'][len(activityData)]\n",
    "        \n",
    "    duration = endTime - beginTime\n",
    "    numberOfTimeStep = math.ceil(duration/pd.Timedelta(timeStep,'s'))\n",
    "    \n",
    "    #print beginTime\n",
    "    \n",
    "    featureMatrix = pd.DataFrame(0, index = sensorLabel.index, columns = np.arange(numberOfTimeStep))\n",
    "    labels = Series(0, index = np.arange(numberOfTimeStep))\n",
    "    \n",
    "    for index,rowSensor in trainingSensorData.iterrows():\n",
    "        differenceStart = rowSensor['Start time'] - beginTime\n",
    "        differenceEnd = rowSensor['End time'] - beginTime\n",
    "        \n",
    "        startStep = int(differenceStart / pd.Timedelta(timeStep,'s'))\n",
    "        endStep = int(differenceEnd / pd.Timedelta(timeStep,'s'))\n",
    "        \n",
    "        featureMatrix.loc[rowSensor.ID][startStep:endStep] = 1\n",
    "        \n",
    "    for index, rowActivity in trainingActivityData.iterrows(): \n",
    "        differenceStart = rowActivity['Start time'] - beginTime\n",
    "        #print differenceStart\n",
    "        differenceEnd = rowActivity['End time'] - beginTime\n",
    "        \n",
    "        startStep = int(differenceStart / pd.Timedelta(timeStep,'s'))\n",
    "        #print startStep, \n",
    "        endStep = int(differenceEnd / pd.Timedelta(timeStep,'s'))\n",
    "        #print endStep\n",
    "        \n",
    "        labels[startStep:endStep] = rowActivity.ID\n",
    "        \n",
    "    return featureMatrix, labels\n",
    "    \n",
    "        \n",
    "                                                                              \n",
    "    "
   ]
  },
  {
   "cell_type": "code",
   "execution_count": 167,
   "metadata": {
    "collapsed": false
   },
   "outputs": [],
   "source": [
    "featureMatrix, labels = convert2RawFeatMatrix(sensorData, activityData, 60)"
   ]
  },
  {
   "cell_type": "code",
   "execution_count": 168,
   "metadata": {
    "collapsed": false
   },
   "outputs": [
    {
     "data": {
      "text/html": [
       "<div>\n",
       "<table border=\"1\" class=\"dataframe\">\n",
       "  <thead>\n",
       "    <tr style=\"text-align: right;\">\n",
       "      <th></th>\n",
       "      <th>565.0</th>\n",
       "      <th>566.0</th>\n",
       "      <th>567.0</th>\n",
       "      <th>568.0</th>\n",
       "      <th>569.0</th>\n",
       "      <th>570.0</th>\n",
       "      <th>571.0</th>\n",
       "      <th>572.0</th>\n",
       "      <th>573.0</th>\n",
       "      <th>574.0</th>\n",
       "      <th>575.0</th>\n",
       "      <th>576.0</th>\n",
       "      <th>577.0</th>\n",
       "      <th>578.0</th>\n",
       "      <th>579.0</th>\n",
       "      <th>580.0</th>\n",
       "      <th>581.0</th>\n",
       "      <th>582.0</th>\n",
       "      <th>583.0</th>\n",
       "      <th>584.0</th>\n",
       "    </tr>\n",
       "  </thead>\n",
       "  <tbody>\n",
       "    <tr>\n",
       "      <th>1</th>\n",
       "      <td>0</td>\n",
       "      <td>0</td>\n",
       "      <td>0</td>\n",
       "      <td>0</td>\n",
       "      <td>1</td>\n",
       "      <td>0</td>\n",
       "      <td>1</td>\n",
       "      <td>1</td>\n",
       "      <td>1</td>\n",
       "      <td>0</td>\n",
       "      <td>0</td>\n",
       "      <td>0</td>\n",
       "      <td>0</td>\n",
       "      <td>0</td>\n",
       "      <td>0</td>\n",
       "      <td>0</td>\n",
       "      <td>0</td>\n",
       "      <td>0</td>\n",
       "      <td>0</td>\n",
       "      <td>0</td>\n",
       "    </tr>\n",
       "    <tr>\n",
       "      <th>5</th>\n",
       "      <td>0</td>\n",
       "      <td>0</td>\n",
       "      <td>0</td>\n",
       "      <td>0</td>\n",
       "      <td>0</td>\n",
       "      <td>0</td>\n",
       "      <td>0</td>\n",
       "      <td>0</td>\n",
       "      <td>0</td>\n",
       "      <td>0</td>\n",
       "      <td>0</td>\n",
       "      <td>0</td>\n",
       "      <td>0</td>\n",
       "      <td>0</td>\n",
       "      <td>0</td>\n",
       "      <td>0</td>\n",
       "      <td>0</td>\n",
       "      <td>1</td>\n",
       "      <td>0</td>\n",
       "      <td>0</td>\n",
       "    </tr>\n",
       "    <tr>\n",
       "      <th>6</th>\n",
       "      <td>0</td>\n",
       "      <td>0</td>\n",
       "      <td>0</td>\n",
       "      <td>0</td>\n",
       "      <td>0</td>\n",
       "      <td>0</td>\n",
       "      <td>0</td>\n",
       "      <td>0</td>\n",
       "      <td>0</td>\n",
       "      <td>0</td>\n",
       "      <td>0</td>\n",
       "      <td>0</td>\n",
       "      <td>0</td>\n",
       "      <td>0</td>\n",
       "      <td>0</td>\n",
       "      <td>0</td>\n",
       "      <td>0</td>\n",
       "      <td>0</td>\n",
       "      <td>0</td>\n",
       "      <td>0</td>\n",
       "    </tr>\n",
       "    <tr>\n",
       "      <th>7</th>\n",
       "      <td>0</td>\n",
       "      <td>0</td>\n",
       "      <td>0</td>\n",
       "      <td>0</td>\n",
       "      <td>0</td>\n",
       "      <td>0</td>\n",
       "      <td>0</td>\n",
       "      <td>0</td>\n",
       "      <td>0</td>\n",
       "      <td>0</td>\n",
       "      <td>0</td>\n",
       "      <td>0</td>\n",
       "      <td>0</td>\n",
       "      <td>0</td>\n",
       "      <td>1</td>\n",
       "      <td>0</td>\n",
       "      <td>0</td>\n",
       "      <td>0</td>\n",
       "      <td>0</td>\n",
       "      <td>0</td>\n",
       "    </tr>\n",
       "    <tr>\n",
       "      <th>8</th>\n",
       "      <td>0</td>\n",
       "      <td>0</td>\n",
       "      <td>0</td>\n",
       "      <td>0</td>\n",
       "      <td>1</td>\n",
       "      <td>0</td>\n",
       "      <td>0</td>\n",
       "      <td>0</td>\n",
       "      <td>0</td>\n",
       "      <td>0</td>\n",
       "      <td>0</td>\n",
       "      <td>0</td>\n",
       "      <td>0</td>\n",
       "      <td>0</td>\n",
       "      <td>0</td>\n",
       "      <td>0</td>\n",
       "      <td>0</td>\n",
       "      <td>0</td>\n",
       "      <td>0</td>\n",
       "      <td>0</td>\n",
       "    </tr>\n",
       "    <tr>\n",
       "      <th>9</th>\n",
       "      <td>0</td>\n",
       "      <td>0</td>\n",
       "      <td>0</td>\n",
       "      <td>0</td>\n",
       "      <td>1</td>\n",
       "      <td>0</td>\n",
       "      <td>0</td>\n",
       "      <td>0</td>\n",
       "      <td>0</td>\n",
       "      <td>0</td>\n",
       "      <td>0</td>\n",
       "      <td>0</td>\n",
       "      <td>1</td>\n",
       "      <td>1</td>\n",
       "      <td>1</td>\n",
       "      <td>0</td>\n",
       "      <td>0</td>\n",
       "      <td>0</td>\n",
       "      <td>0</td>\n",
       "      <td>0</td>\n",
       "    </tr>\n",
       "    <tr>\n",
       "      <th>12</th>\n",
       "      <td>0</td>\n",
       "      <td>0</td>\n",
       "      <td>0</td>\n",
       "      <td>0</td>\n",
       "      <td>0</td>\n",
       "      <td>0</td>\n",
       "      <td>0</td>\n",
       "      <td>0</td>\n",
       "      <td>0</td>\n",
       "      <td>0</td>\n",
       "      <td>0</td>\n",
       "      <td>0</td>\n",
       "      <td>0</td>\n",
       "      <td>0</td>\n",
       "      <td>0</td>\n",
       "      <td>0</td>\n",
       "      <td>0</td>\n",
       "      <td>0</td>\n",
       "      <td>0</td>\n",
       "      <td>0</td>\n",
       "    </tr>\n",
       "    <tr>\n",
       "      <th>13</th>\n",
       "      <td>0</td>\n",
       "      <td>0</td>\n",
       "      <td>0</td>\n",
       "      <td>0</td>\n",
       "      <td>0</td>\n",
       "      <td>0</td>\n",
       "      <td>0</td>\n",
       "      <td>0</td>\n",
       "      <td>0</td>\n",
       "      <td>0</td>\n",
       "      <td>0</td>\n",
       "      <td>0</td>\n",
       "      <td>1</td>\n",
       "      <td>1</td>\n",
       "      <td>1</td>\n",
       "      <td>1</td>\n",
       "      <td>1</td>\n",
       "      <td>0</td>\n",
       "      <td>0</td>\n",
       "      <td>0</td>\n",
       "    </tr>\n",
       "    <tr>\n",
       "      <th>14</th>\n",
       "      <td>0</td>\n",
       "      <td>0</td>\n",
       "      <td>0</td>\n",
       "      <td>0</td>\n",
       "      <td>0</td>\n",
       "      <td>0</td>\n",
       "      <td>0</td>\n",
       "      <td>0</td>\n",
       "      <td>0</td>\n",
       "      <td>0</td>\n",
       "      <td>0</td>\n",
       "      <td>0</td>\n",
       "      <td>0</td>\n",
       "      <td>0</td>\n",
       "      <td>0</td>\n",
       "      <td>0</td>\n",
       "      <td>0</td>\n",
       "      <td>0</td>\n",
       "      <td>0</td>\n",
       "      <td>0</td>\n",
       "    </tr>\n",
       "    <tr>\n",
       "      <th>17</th>\n",
       "      <td>0</td>\n",
       "      <td>0</td>\n",
       "      <td>0</td>\n",
       "      <td>0</td>\n",
       "      <td>0</td>\n",
       "      <td>0</td>\n",
       "      <td>0</td>\n",
       "      <td>0</td>\n",
       "      <td>0</td>\n",
       "      <td>0</td>\n",
       "      <td>0</td>\n",
       "      <td>0</td>\n",
       "      <td>0</td>\n",
       "      <td>0</td>\n",
       "      <td>0</td>\n",
       "      <td>0</td>\n",
       "      <td>0</td>\n",
       "      <td>0</td>\n",
       "      <td>0</td>\n",
       "      <td>0</td>\n",
       "    </tr>\n",
       "    <tr>\n",
       "      <th>18</th>\n",
       "      <td>0</td>\n",
       "      <td>0</td>\n",
       "      <td>0</td>\n",
       "      <td>0</td>\n",
       "      <td>0</td>\n",
       "      <td>0</td>\n",
       "      <td>0</td>\n",
       "      <td>0</td>\n",
       "      <td>0</td>\n",
       "      <td>0</td>\n",
       "      <td>0</td>\n",
       "      <td>0</td>\n",
       "      <td>0</td>\n",
       "      <td>1</td>\n",
       "      <td>0</td>\n",
       "      <td>0</td>\n",
       "      <td>0</td>\n",
       "      <td>0</td>\n",
       "      <td>0</td>\n",
       "      <td>0</td>\n",
       "    </tr>\n",
       "    <tr>\n",
       "      <th>20</th>\n",
       "      <td>0</td>\n",
       "      <td>0</td>\n",
       "      <td>0</td>\n",
       "      <td>0</td>\n",
       "      <td>0</td>\n",
       "      <td>0</td>\n",
       "      <td>0</td>\n",
       "      <td>0</td>\n",
       "      <td>0</td>\n",
       "      <td>0</td>\n",
       "      <td>0</td>\n",
       "      <td>0</td>\n",
       "      <td>0</td>\n",
       "      <td>0</td>\n",
       "      <td>0</td>\n",
       "      <td>0</td>\n",
       "      <td>0</td>\n",
       "      <td>0</td>\n",
       "      <td>0</td>\n",
       "      <td>0</td>\n",
       "    </tr>\n",
       "    <tr>\n",
       "      <th>23</th>\n",
       "      <td>0</td>\n",
       "      <td>0</td>\n",
       "      <td>0</td>\n",
       "      <td>0</td>\n",
       "      <td>0</td>\n",
       "      <td>1</td>\n",
       "      <td>0</td>\n",
       "      <td>0</td>\n",
       "      <td>1</td>\n",
       "      <td>0</td>\n",
       "      <td>0</td>\n",
       "      <td>0</td>\n",
       "      <td>0</td>\n",
       "      <td>0</td>\n",
       "      <td>0</td>\n",
       "      <td>0</td>\n",
       "      <td>0</td>\n",
       "      <td>0</td>\n",
       "      <td>0</td>\n",
       "      <td>0</td>\n",
       "    </tr>\n",
       "    <tr>\n",
       "      <th>24</th>\n",
       "      <td>0</td>\n",
       "      <td>0</td>\n",
       "      <td>0</td>\n",
       "      <td>0</td>\n",
       "      <td>0</td>\n",
       "      <td>0</td>\n",
       "      <td>0</td>\n",
       "      <td>0</td>\n",
       "      <td>0</td>\n",
       "      <td>0</td>\n",
       "      <td>0</td>\n",
       "      <td>0</td>\n",
       "      <td>0</td>\n",
       "      <td>0</td>\n",
       "      <td>0</td>\n",
       "      <td>0</td>\n",
       "      <td>0</td>\n",
       "      <td>0</td>\n",
       "      <td>0</td>\n",
       "      <td>0</td>\n",
       "    </tr>\n",
       "  </tbody>\n",
       "</table>\n",
       "</div>"
      ],
      "text/plain": [
       "    565  566  567  568  569  570  571  572  573  574  575  576  577  578  579  \\\n",
       "1     0    0    0    0    1    0    1    1    1    0    0    0    0    0    0   \n",
       "5     0    0    0    0    0    0    0    0    0    0    0    0    0    0    0   \n",
       "6     0    0    0    0    0    0    0    0    0    0    0    0    0    0    0   \n",
       "7     0    0    0    0    0    0    0    0    0    0    0    0    0    0    1   \n",
       "8     0    0    0    0    1    0    0    0    0    0    0    0    0    0    0   \n",
       "9     0    0    0    0    1    0    0    0    0    0    0    0    1    1    1   \n",
       "12    0    0    0    0    0    0    0    0    0    0    0    0    0    0    0   \n",
       "13    0    0    0    0    0    0    0    0    0    0    0    0    1    1    1   \n",
       "14    0    0    0    0    0    0    0    0    0    0    0    0    0    0    0   \n",
       "17    0    0    0    0    0    0    0    0    0    0    0    0    0    0    0   \n",
       "18    0    0    0    0    0    0    0    0    0    0    0    0    0    1    0   \n",
       "20    0    0    0    0    0    0    0    0    0    0    0    0    0    0    0   \n",
       "23    0    0    0    0    0    1    0    0    1    0    0    0    0    0    0   \n",
       "24    0    0    0    0    0    0    0    0    0    0    0    0    0    0    0   \n",
       "\n",
       "    580  581  582  583  584  \n",
       "1     0    0    0    0    0  \n",
       "5     0    0    1    0    0  \n",
       "6     0    0    0    0    0  \n",
       "7     0    0    0    0    0  \n",
       "8     0    0    0    0    0  \n",
       "9     0    0    0    0    0  \n",
       "12    0    0    0    0    0  \n",
       "13    1    1    0    0    0  \n",
       "14    0    0    0    0    0  \n",
       "17    0    0    0    0    0  \n",
       "18    0    0    0    0    0  \n",
       "20    0    0    0    0    0  \n",
       "23    0    0    0    0    0  \n",
       "24    0    0    0    0    0  "
      ]
     },
     "execution_count": 168,
     "metadata": {},
     "output_type": "execute_result"
    }
   ],
   "source": [
    "featureMatrix.ix[:,565:584]\n"
   ]
  },
  {
   "cell_type": "markdown",
   "metadata": {
    "collapsed": true
   },
   "source": [
    "Convert to last sensor fired representation, in which the last sensor that changed state continues to give 1 and changes to 0 when a different sensor changes state."
   ]
  },
  {
   "cell_type": "code",
   "execution_count": 169,
   "metadata": {
    "collapsed": false
   },
   "outputs": [],
   "source": [
    "def convert2LastFiredFeatureMatrix(trainingSensorData, trainingActivityData, timeStep):\n",
    "    beginTime = 0 \n",
    "    endTime = 0\n",
    "    \n",
    "    #if trainingSensorData['Start time'][1] < trainingActivityData['Start time'][1]: # we compare 1st time step of activity data vs sensor data\n",
    "    beginTime = trainingSensorData['Start time'][1]\n",
    "    #else:\n",
    "        #beginTime = trainingActivityData['Start time'][1]\n",
    "        \n",
    "    #if trainingSensorData['End time'][len(trainingSensorData)] > trainingActivityData['End time'][len(trainingActivityData)]:\n",
    "    endTime = trainingSensorData['End time'][len(trainingSensorData)] \n",
    "    #else:\n",
    "        #endTime = trainingActivityData['End time'][len(trainingActivityData)]\n",
    "        \n",
    "    duration = endTime - beginTime\n",
    "    numberOfTimeStep = math.ceil(duration/pd.Timedelta(timeStep,'s'))\n",
    "    \n",
    "    #print beginTime\n",
    "    \n",
    "    featureMatrix = pd.DataFrame(0, index = sensorLabel.index, columns = np.arange(numberOfTimeStep))\n",
    "    finalFeatureMatrix = pd.DataFrame(0, index = sensorLabel.index, columns = np.arange(numberOfTimeStep)) \n",
    "    labels = Series(0, index = np.arange(numberOfTimeStep))\n",
    "    \n",
    "    for index,rowSensor in trainingSensorData.iterrows():\n",
    "        differenceStart = rowSensor['Start time'] - beginTime\n",
    "        differenceEnd = rowSensor['End time'] - beginTime\n",
    "        \n",
    "        startStep = int(differenceStart / pd.Timedelta(timeStep,'s'))\n",
    "        endStep = int(differenceEnd / pd.Timedelta(timeStep,'s'))\n",
    "        \n",
    "        featureMatrix.loc[rowSensor.ID][startStep] = 1\n",
    "        featureMatrix.loc[rowSensor.ID][endStep-1] = 1\n",
    "    \n",
    "    x,y = np.where(featureMatrix == 1)\n",
    "    lst = []\n",
    "    for i in range(len(x)): \n",
    "        lst.append((x[i],y[i]))\n",
    "        \n",
    "    lstSorted = sorted(lst, key = lambda pos:pos[1])\n",
    "    \n",
    "    #print(lstSorted)\n",
    "    \n",
    "    for i in range(len(lstSorted)-1): \n",
    "        finalFeatureMatrix.iloc[lstSorted[i][0]][lstSorted[i][1]: lstSorted[i+1][1]-1] = 1 \n",
    "            \n",
    "    for index, rowActivity in trainingActivityData.iterrows(): \n",
    "        if rowActivity['Start time'] < beginTime or rowActivity['End time'] > endTime: \n",
    "            continue\n",
    "        \n",
    "        differenceStart = rowActivity['Start time'] - beginTime\n",
    "        #print differenceStart\n",
    "        differenceEnd = rowActivity['End time'] - beginTime\n",
    "        \n",
    "        startStep = int(differenceStart / pd.Timedelta(timeStep,'s'))\n",
    "        #print startStep, \n",
    "        endStep = int(differenceEnd / pd.Timedelta(timeStep,'s'))\n",
    "        #print endStep\n",
    "        \n",
    "        labels[startStep:endStep] = rowActivity.ID\n",
    "    \n",
    "    finalFeatureMatrix = finalFeatureMatrix.drop(labels = len(finalFeatureMatrix.iloc[0])-1, axis = 1 )\n",
    "    #print len(labels)\n",
    "    labels = labels[:len(labels)-2]\n",
    "    #print len(labels)\n",
    "    return finalFeatureMatrix, labels\n",
    "    \n",
    "        \n",
    "                                                                              \n",
    "    "
   ]
  },
  {
   "cell_type": "markdown",
   "metadata": {},
   "source": [
    "Now we create the training set"
   ]
  },
  {
   "cell_type": "code",
   "execution_count": 170,
   "metadata": {
    "collapsed": true
   },
   "outputs": [],
   "source": [
    "testDay = [25,28,5,10,16]"
   ]
  },
  {
   "cell_type": "code",
   "execution_count": 171,
   "metadata": {
    "collapsed": false
   },
   "outputs": [
    {
     "data": {
      "text/html": [
       "<div>\n",
       "<table border=\"1\" class=\"dataframe\">\n",
       "  <thead>\n",
       "    <tr style=\"text-align: right;\">\n",
       "      <th></th>\n",
       "      <th>Start time</th>\n",
       "      <th>End time</th>\n",
       "      <th>ID</th>\n",
       "      <th>Val</th>\n",
       "    </tr>\n",
       "  </thead>\n",
       "  <tbody>\n",
       "    <tr>\n",
       "      <th>1</th>\n",
       "      <td>2008-02-26 00:38:49</td>\n",
       "      <td>2008-02-26 00:38:50</td>\n",
       "      <td>24</td>\n",
       "      <td>1</td>\n",
       "    </tr>\n",
       "    <tr>\n",
       "      <th>2</th>\n",
       "      <td>2008-02-26 00:38:52</td>\n",
       "      <td>2008-02-26 00:38:59</td>\n",
       "      <td>5</td>\n",
       "      <td>1</td>\n",
       "    </tr>\n",
       "    <tr>\n",
       "      <th>3</th>\n",
       "      <td>2008-02-26 00:38:53</td>\n",
       "      <td>2008-02-26 00:39:41</td>\n",
       "      <td>24</td>\n",
       "      <td>1</td>\n",
       "    </tr>\n",
       "    <tr>\n",
       "      <th>4</th>\n",
       "      <td>2008-02-26 00:39:00</td>\n",
       "      <td>2008-02-26 00:39:01</td>\n",
       "      <td>5</td>\n",
       "      <td>1</td>\n",
       "    </tr>\n",
       "    <tr>\n",
       "      <th>5</th>\n",
       "      <td>2008-02-26 00:39:03</td>\n",
       "      <td>2008-02-26 00:39:04</td>\n",
       "      <td>5</td>\n",
       "      <td>1</td>\n",
       "    </tr>\n",
       "  </tbody>\n",
       "</table>\n",
       "</div>"
      ],
      "text/plain": [
       "           Start time            End time  ID Val\n",
       "1 2008-02-26 00:38:49 2008-02-26 00:38:50  24   1\n",
       "2 2008-02-26 00:38:52 2008-02-26 00:38:59   5   1\n",
       "3 2008-02-26 00:38:53 2008-02-26 00:39:41  24   1\n",
       "4 2008-02-26 00:39:00 2008-02-26 00:39:01   5   1\n",
       "5 2008-02-26 00:39:03 2008-02-26 00:39:04   5   1"
      ]
     },
     "execution_count": 171,
     "metadata": {},
     "output_type": "execute_result"
    }
   ],
   "source": [
    "trainingSensor = [sensorData['Start time'][x].day not in testDay and sensorData['End time'][x].day not in testDay for x in range(1,len(sensorData))]\n",
    "trainingSensor = trainingSensor + [False]\n",
    "trainingSensorData = sensorData[trainingSensor]\n",
    "trainingSensorData.index = np.arange(1,len(trainingSensorData)+1)\n",
    "trainingSensorData.head()"
   ]
  },
  {
   "cell_type": "code",
   "execution_count": 172,
   "metadata": {
    "collapsed": false
   },
   "outputs": [
    {
     "data": {
      "text/html": [
       "<div>\n",
       "<table border=\"1\" class=\"dataframe\">\n",
       "  <thead>\n",
       "    <tr style=\"text-align: right;\">\n",
       "      <th></th>\n",
       "      <th>Start time</th>\n",
       "      <th>End time</th>\n",
       "      <th>ID</th>\n",
       "    </tr>\n",
       "  </thead>\n",
       "  <tbody>\n",
       "    <tr>\n",
       "      <th>1</th>\n",
       "      <td>2008-02-26 00:39:24</td>\n",
       "      <td>2008-02-26 00:39:40</td>\n",
       "      <td>4</td>\n",
       "    </tr>\n",
       "    <tr>\n",
       "      <th>2</th>\n",
       "      <td>2008-02-26 03:13:40</td>\n",
       "      <td>2008-02-26 03:14:41</td>\n",
       "      <td>4</td>\n",
       "    </tr>\n",
       "    <tr>\n",
       "      <th>3</th>\n",
       "      <td>2008-02-26 08:35:59</td>\n",
       "      <td>2008-02-26 08:36:38</td>\n",
       "      <td>4</td>\n",
       "    </tr>\n",
       "    <tr>\n",
       "      <th>4</th>\n",
       "      <td>2008-02-26 09:15:40</td>\n",
       "      <td>2008-02-26 09:19:00</td>\n",
       "      <td>4</td>\n",
       "    </tr>\n",
       "    <tr>\n",
       "      <th>5</th>\n",
       "      <td>2008-02-26 09:26:42</td>\n",
       "      <td>2008-02-26 09:29:09</td>\n",
       "      <td>13</td>\n",
       "    </tr>\n",
       "  </tbody>\n",
       "</table>\n",
       "</div>"
      ],
      "text/plain": [
       "           Start time            End time  ID\n",
       "1 2008-02-26 00:39:24 2008-02-26 00:39:40   4\n",
       "2 2008-02-26 03:13:40 2008-02-26 03:14:41   4\n",
       "3 2008-02-26 08:35:59 2008-02-26 08:36:38   4\n",
       "4 2008-02-26 09:15:40 2008-02-26 09:19:00   4\n",
       "5 2008-02-26 09:26:42 2008-02-26 09:29:09  13"
      ]
     },
     "execution_count": 172,
     "metadata": {},
     "output_type": "execute_result"
    }
   ],
   "source": [
    "trainingActivity = [activityData['Start time'][x].day not in testDay and activityData['End time'][x].day not in testDay for x in range(1,len(activityData))]\n",
    "trainingActivity = trainingActivity + [False]\n",
    "trainingActivityData = activityData[trainingActivity]\n",
    "trainingActivityData.index = np.arange(1,len(trainingActivityData)+1)\n",
    "trainingActivityData.head()"
   ]
  },
  {
   "cell_type": "code",
   "execution_count": 173,
   "metadata": {
    "collapsed": false
   },
   "outputs": [],
   "source": [
    "finalFeatureMatrix, labels = convert2LastFiredFeatureMatrix(trainingSensorData,trainingActivityData, 60)"
   ]
  },
  {
   "cell_type": "code",
   "execution_count": 174,
   "metadata": {
    "collapsed": false
   },
   "outputs": [
    {
     "data": {
      "text/plain": [
       "0        4\n",
       "1        0\n",
       "2        0\n",
       "3        0\n",
       "4        0\n",
       "5        0\n",
       "6        0\n",
       "7        0\n",
       "8        0\n",
       "9        0\n",
       "10       0\n",
       "11       0\n",
       "12       0\n",
       "13       0\n",
       "14       0\n",
       "15       0\n",
       "16       0\n",
       "17       0\n",
       "18       0\n",
       "19       0\n",
       "20       0\n",
       "21       0\n",
       "22       0\n",
       "23       0\n",
       "24       0\n",
       "25       0\n",
       "26       0\n",
       "27       0\n",
       "28       0\n",
       "29       0\n",
       "        ..\n",
       "35642    0\n",
       "35643    0\n",
       "35644    0\n",
       "35645    0\n",
       "35646    0\n",
       "35647    0\n",
       "35648    0\n",
       "35649    0\n",
       "35650    0\n",
       "35651    0\n",
       "35652    0\n",
       "35653    0\n",
       "35654    0\n",
       "35655    0\n",
       "35656    0\n",
       "35657    0\n",
       "35658    0\n",
       "35659    0\n",
       "35660    0\n",
       "35661    0\n",
       "35662    0\n",
       "35663    0\n",
       "35664    0\n",
       "35665    0\n",
       "35666    0\n",
       "35667    0\n",
       "35668    0\n",
       "35669    0\n",
       "35670    0\n",
       "35671    0\n",
       "dtype: int64"
      ]
     },
     "execution_count": 174,
     "metadata": {},
     "output_type": "execute_result"
    }
   ],
   "source": [
    "labels"
   ]
  },
  {
   "cell_type": "code",
   "execution_count": 175,
   "metadata": {
    "collapsed": false
   },
   "outputs": [
    {
     "data": {
      "text/html": [
       "<div>\n",
       "<table border=\"1\" class=\"dataframe\">\n",
       "  <thead>\n",
       "    <tr style=\"text-align: right;\">\n",
       "      <th></th>\n",
       "      <th>0.0</th>\n",
       "      <th>1.0</th>\n",
       "      <th>2.0</th>\n",
       "      <th>3.0</th>\n",
       "      <th>4.0</th>\n",
       "      <th>5.0</th>\n",
       "      <th>6.0</th>\n",
       "      <th>7.0</th>\n",
       "      <th>8.0</th>\n",
       "      <th>9.0</th>\n",
       "      <th>...</th>\n",
       "      <th>35662.0</th>\n",
       "      <th>35663.0</th>\n",
       "      <th>35664.0</th>\n",
       "      <th>35665.0</th>\n",
       "      <th>35666.0</th>\n",
       "      <th>35667.0</th>\n",
       "      <th>35668.0</th>\n",
       "      <th>35669.0</th>\n",
       "      <th>35670.0</th>\n",
       "      <th>35671.0</th>\n",
       "    </tr>\n",
       "  </thead>\n",
       "  <tbody>\n",
       "    <tr>\n",
       "      <th>1</th>\n",
       "      <td>0</td>\n",
       "      <td>0</td>\n",
       "      <td>0</td>\n",
       "      <td>0</td>\n",
       "      <td>0</td>\n",
       "      <td>0</td>\n",
       "      <td>0</td>\n",
       "      <td>0</td>\n",
       "      <td>0</td>\n",
       "      <td>0</td>\n",
       "      <td>...</td>\n",
       "      <td>0</td>\n",
       "      <td>0</td>\n",
       "      <td>0</td>\n",
       "      <td>0</td>\n",
       "      <td>0</td>\n",
       "      <td>0</td>\n",
       "      <td>0</td>\n",
       "      <td>0</td>\n",
       "      <td>0</td>\n",
       "      <td>0</td>\n",
       "    </tr>\n",
       "    <tr>\n",
       "      <th>5</th>\n",
       "      <td>0</td>\n",
       "      <td>1</td>\n",
       "      <td>1</td>\n",
       "      <td>1</td>\n",
       "      <td>1</td>\n",
       "      <td>1</td>\n",
       "      <td>0</td>\n",
       "      <td>0</td>\n",
       "      <td>0</td>\n",
       "      <td>0</td>\n",
       "      <td>...</td>\n",
       "      <td>0</td>\n",
       "      <td>0</td>\n",
       "      <td>0</td>\n",
       "      <td>0</td>\n",
       "      <td>0</td>\n",
       "      <td>0</td>\n",
       "      <td>0</td>\n",
       "      <td>0</td>\n",
       "      <td>0</td>\n",
       "      <td>0</td>\n",
       "    </tr>\n",
       "    <tr>\n",
       "      <th>6</th>\n",
       "      <td>0</td>\n",
       "      <td>0</td>\n",
       "      <td>0</td>\n",
       "      <td>0</td>\n",
       "      <td>0</td>\n",
       "      <td>0</td>\n",
       "      <td>0</td>\n",
       "      <td>0</td>\n",
       "      <td>0</td>\n",
       "      <td>0</td>\n",
       "      <td>...</td>\n",
       "      <td>0</td>\n",
       "      <td>0</td>\n",
       "      <td>0</td>\n",
       "      <td>0</td>\n",
       "      <td>0</td>\n",
       "      <td>0</td>\n",
       "      <td>0</td>\n",
       "      <td>0</td>\n",
       "      <td>0</td>\n",
       "      <td>0</td>\n",
       "    </tr>\n",
       "    <tr>\n",
       "      <th>7</th>\n",
       "      <td>0</td>\n",
       "      <td>0</td>\n",
       "      <td>0</td>\n",
       "      <td>0</td>\n",
       "      <td>0</td>\n",
       "      <td>0</td>\n",
       "      <td>0</td>\n",
       "      <td>0</td>\n",
       "      <td>0</td>\n",
       "      <td>0</td>\n",
       "      <td>...</td>\n",
       "      <td>0</td>\n",
       "      <td>0</td>\n",
       "      <td>0</td>\n",
       "      <td>0</td>\n",
       "      <td>0</td>\n",
       "      <td>0</td>\n",
       "      <td>0</td>\n",
       "      <td>0</td>\n",
       "      <td>0</td>\n",
       "      <td>0</td>\n",
       "    </tr>\n",
       "    <tr>\n",
       "      <th>8</th>\n",
       "      <td>0</td>\n",
       "      <td>0</td>\n",
       "      <td>0</td>\n",
       "      <td>0</td>\n",
       "      <td>0</td>\n",
       "      <td>0</td>\n",
       "      <td>0</td>\n",
       "      <td>0</td>\n",
       "      <td>0</td>\n",
       "      <td>0</td>\n",
       "      <td>...</td>\n",
       "      <td>0</td>\n",
       "      <td>0</td>\n",
       "      <td>0</td>\n",
       "      <td>0</td>\n",
       "      <td>0</td>\n",
       "      <td>0</td>\n",
       "      <td>0</td>\n",
       "      <td>0</td>\n",
       "      <td>0</td>\n",
       "      <td>0</td>\n",
       "    </tr>\n",
       "    <tr>\n",
       "      <th>9</th>\n",
       "      <td>0</td>\n",
       "      <td>0</td>\n",
       "      <td>0</td>\n",
       "      <td>0</td>\n",
       "      <td>0</td>\n",
       "      <td>0</td>\n",
       "      <td>0</td>\n",
       "      <td>0</td>\n",
       "      <td>0</td>\n",
       "      <td>0</td>\n",
       "      <td>...</td>\n",
       "      <td>0</td>\n",
       "      <td>0</td>\n",
       "      <td>0</td>\n",
       "      <td>0</td>\n",
       "      <td>0</td>\n",
       "      <td>0</td>\n",
       "      <td>0</td>\n",
       "      <td>0</td>\n",
       "      <td>0</td>\n",
       "      <td>0</td>\n",
       "    </tr>\n",
       "    <tr>\n",
       "      <th>12</th>\n",
       "      <td>0</td>\n",
       "      <td>0</td>\n",
       "      <td>0</td>\n",
       "      <td>0</td>\n",
       "      <td>0</td>\n",
       "      <td>0</td>\n",
       "      <td>0</td>\n",
       "      <td>0</td>\n",
       "      <td>0</td>\n",
       "      <td>0</td>\n",
       "      <td>...</td>\n",
       "      <td>0</td>\n",
       "      <td>0</td>\n",
       "      <td>0</td>\n",
       "      <td>0</td>\n",
       "      <td>0</td>\n",
       "      <td>0</td>\n",
       "      <td>0</td>\n",
       "      <td>0</td>\n",
       "      <td>0</td>\n",
       "      <td>1</td>\n",
       "    </tr>\n",
       "    <tr>\n",
       "      <th>13</th>\n",
       "      <td>0</td>\n",
       "      <td>0</td>\n",
       "      <td>0</td>\n",
       "      <td>0</td>\n",
       "      <td>0</td>\n",
       "      <td>0</td>\n",
       "      <td>0</td>\n",
       "      <td>0</td>\n",
       "      <td>0</td>\n",
       "      <td>0</td>\n",
       "      <td>...</td>\n",
       "      <td>0</td>\n",
       "      <td>0</td>\n",
       "      <td>0</td>\n",
       "      <td>0</td>\n",
       "      <td>0</td>\n",
       "      <td>0</td>\n",
       "      <td>0</td>\n",
       "      <td>0</td>\n",
       "      <td>0</td>\n",
       "      <td>0</td>\n",
       "    </tr>\n",
       "    <tr>\n",
       "      <th>14</th>\n",
       "      <td>0</td>\n",
       "      <td>0</td>\n",
       "      <td>0</td>\n",
       "      <td>0</td>\n",
       "      <td>0</td>\n",
       "      <td>0</td>\n",
       "      <td>0</td>\n",
       "      <td>0</td>\n",
       "      <td>0</td>\n",
       "      <td>0</td>\n",
       "      <td>...</td>\n",
       "      <td>0</td>\n",
       "      <td>0</td>\n",
       "      <td>0</td>\n",
       "      <td>0</td>\n",
       "      <td>0</td>\n",
       "      <td>0</td>\n",
       "      <td>0</td>\n",
       "      <td>0</td>\n",
       "      <td>0</td>\n",
       "      <td>0</td>\n",
       "    </tr>\n",
       "    <tr>\n",
       "      <th>17</th>\n",
       "      <td>0</td>\n",
       "      <td>0</td>\n",
       "      <td>0</td>\n",
       "      <td>0</td>\n",
       "      <td>0</td>\n",
       "      <td>0</td>\n",
       "      <td>0</td>\n",
       "      <td>0</td>\n",
       "      <td>0</td>\n",
       "      <td>0</td>\n",
       "      <td>...</td>\n",
       "      <td>1</td>\n",
       "      <td>1</td>\n",
       "      <td>1</td>\n",
       "      <td>1</td>\n",
       "      <td>1</td>\n",
       "      <td>1</td>\n",
       "      <td>1</td>\n",
       "      <td>1</td>\n",
       "      <td>1</td>\n",
       "      <td>0</td>\n",
       "    </tr>\n",
       "    <tr>\n",
       "      <th>18</th>\n",
       "      <td>0</td>\n",
       "      <td>0</td>\n",
       "      <td>0</td>\n",
       "      <td>0</td>\n",
       "      <td>0</td>\n",
       "      <td>0</td>\n",
       "      <td>0</td>\n",
       "      <td>0</td>\n",
       "      <td>0</td>\n",
       "      <td>0</td>\n",
       "      <td>...</td>\n",
       "      <td>0</td>\n",
       "      <td>0</td>\n",
       "      <td>0</td>\n",
       "      <td>0</td>\n",
       "      <td>0</td>\n",
       "      <td>0</td>\n",
       "      <td>0</td>\n",
       "      <td>0</td>\n",
       "      <td>0</td>\n",
       "      <td>0</td>\n",
       "    </tr>\n",
       "    <tr>\n",
       "      <th>20</th>\n",
       "      <td>0</td>\n",
       "      <td>0</td>\n",
       "      <td>0</td>\n",
       "      <td>0</td>\n",
       "      <td>0</td>\n",
       "      <td>0</td>\n",
       "      <td>0</td>\n",
       "      <td>0</td>\n",
       "      <td>0</td>\n",
       "      <td>0</td>\n",
       "      <td>...</td>\n",
       "      <td>0</td>\n",
       "      <td>0</td>\n",
       "      <td>0</td>\n",
       "      <td>0</td>\n",
       "      <td>0</td>\n",
       "      <td>0</td>\n",
       "      <td>0</td>\n",
       "      <td>0</td>\n",
       "      <td>0</td>\n",
       "      <td>0</td>\n",
       "    </tr>\n",
       "    <tr>\n",
       "      <th>23</th>\n",
       "      <td>0</td>\n",
       "      <td>0</td>\n",
       "      <td>0</td>\n",
       "      <td>0</td>\n",
       "      <td>0</td>\n",
       "      <td>0</td>\n",
       "      <td>0</td>\n",
       "      <td>0</td>\n",
       "      <td>0</td>\n",
       "      <td>0</td>\n",
       "      <td>...</td>\n",
       "      <td>0</td>\n",
       "      <td>0</td>\n",
       "      <td>0</td>\n",
       "      <td>0</td>\n",
       "      <td>0</td>\n",
       "      <td>0</td>\n",
       "      <td>0</td>\n",
       "      <td>0</td>\n",
       "      <td>0</td>\n",
       "      <td>0</td>\n",
       "    </tr>\n",
       "    <tr>\n",
       "      <th>24</th>\n",
       "      <td>1</td>\n",
       "      <td>0</td>\n",
       "      <td>0</td>\n",
       "      <td>0</td>\n",
       "      <td>0</td>\n",
       "      <td>0</td>\n",
       "      <td>1</td>\n",
       "      <td>1</td>\n",
       "      <td>1</td>\n",
       "      <td>1</td>\n",
       "      <td>...</td>\n",
       "      <td>0</td>\n",
       "      <td>0</td>\n",
       "      <td>0</td>\n",
       "      <td>0</td>\n",
       "      <td>0</td>\n",
       "      <td>0</td>\n",
       "      <td>0</td>\n",
       "      <td>0</td>\n",
       "      <td>0</td>\n",
       "      <td>0</td>\n",
       "    </tr>\n",
       "  </tbody>\n",
       "</table>\n",
       "<p>14 rows × 35672 columns</p>\n",
       "</div>"
      ],
      "text/plain": [
       "    0      1      2      3      4      5      6      7      8      9      \\\n",
       "1       0      0      0      0      0      0      0      0      0      0   \n",
       "5       0      1      1      1      1      1      0      0      0      0   \n",
       "6       0      0      0      0      0      0      0      0      0      0   \n",
       "7       0      0      0      0      0      0      0      0      0      0   \n",
       "8       0      0      0      0      0      0      0      0      0      0   \n",
       "9       0      0      0      0      0      0      0      0      0      0   \n",
       "12      0      0      0      0      0      0      0      0      0      0   \n",
       "13      0      0      0      0      0      0      0      0      0      0   \n",
       "14      0      0      0      0      0      0      0      0      0      0   \n",
       "17      0      0      0      0      0      0      0      0      0      0   \n",
       "18      0      0      0      0      0      0      0      0      0      0   \n",
       "20      0      0      0      0      0      0      0      0      0      0   \n",
       "23      0      0      0      0      0      0      0      0      0      0   \n",
       "24      1      0      0      0      0      0      1      1      1      1   \n",
       "\n",
       "    ...    35662  35663  35664  35665  35666  35667  35668  35669  35670  \\\n",
       "1   ...        0      0      0      0      0      0      0      0      0   \n",
       "5   ...        0      0      0      0      0      0      0      0      0   \n",
       "6   ...        0      0      0      0      0      0      0      0      0   \n",
       "7   ...        0      0      0      0      0      0      0      0      0   \n",
       "8   ...        0      0      0      0      0      0      0      0      0   \n",
       "9   ...        0      0      0      0      0      0      0      0      0   \n",
       "12  ...        0      0      0      0      0      0      0      0      0   \n",
       "13  ...        0      0      0      0      0      0      0      0      0   \n",
       "14  ...        0      0      0      0      0      0      0      0      0   \n",
       "17  ...        1      1      1      1      1      1      1      1      1   \n",
       "18  ...        0      0      0      0      0      0      0      0      0   \n",
       "20  ...        0      0      0      0      0      0      0      0      0   \n",
       "23  ...        0      0      0      0      0      0      0      0      0   \n",
       "24  ...        0      0      0      0      0      0      0      0      0   \n",
       "\n",
       "    35671  \n",
       "1       0  \n",
       "5       0  \n",
       "6       0  \n",
       "7       0  \n",
       "8       0  \n",
       "9       0  \n",
       "12      1  \n",
       "13      0  \n",
       "14      0  \n",
       "17      0  \n",
       "18      0  \n",
       "20      0  \n",
       "23      0  \n",
       "24      0  \n",
       "\n",
       "[14 rows x 35672 columns]"
      ]
     },
     "execution_count": 175,
     "metadata": {},
     "output_type": "execute_result"
    }
   ],
   "source": [
    "finalFeatureMatrix"
   ]
  },
  {
   "cell_type": "code",
   "execution_count": 176,
   "metadata": {
    "collapsed": false
   },
   "outputs": [],
   "source": [
    "def cumulationTable(finalFeatureMatrix, labels):\n",
    "    featureMat = finalFeatureMatrix.copy()\n",
    "    lab = labels.copy()\n",
    "    cumuSensor = [featureMat[0]]\n",
    "    cumuActivity = [lab[0]]\n",
    "    for x in xrange(1,len(lab)):\n",
    "        if lab[x] == lab[x-1]:\n",
    "            cumuSensor[-1] += featureMat[x]\n",
    "        else:\n",
    "            cumuSensor.append(featureMat[x])\n",
    "            cumuActivity.append(lab[x])\n",
    "    \n",
    "    return cumuSensor, cumuActivity"
   ]
  },
  {
   "cell_type": "code",
   "execution_count": 177,
   "metadata": {
    "collapsed": false
   },
   "outputs": [],
   "source": [
    "cumuSensor, cumuActivity = cumulationTable(finalFeatureMatrix, labels)"
   ]
  },
  {
   "cell_type": "code",
   "execution_count": 178,
   "metadata": {
    "collapsed": false
   },
   "outputs": [
    {
     "data": {
      "text/plain": [
       "326"
      ]
     },
     "execution_count": 178,
     "metadata": {},
     "output_type": "execute_result"
    }
   ],
   "source": [
    "len(cumuSensor)"
   ]
  },
  {
   "cell_type": "code",
   "execution_count": 179,
   "metadata": {
    "collapsed": false
   },
   "outputs": [
    {
     "data": {
      "text/plain": [
       "326"
      ]
     },
     "execution_count": 179,
     "metadata": {},
     "output_type": "execute_result"
    }
   ],
   "source": [
    "len(cumuActivity)"
   ]
  },
  {
   "cell_type": "code",
   "execution_count": null,
   "metadata": {
    "collapsed": true
   },
   "outputs": [],
   "source": []
  },
  {
   "cell_type": "code",
   "execution_count": 180,
   "metadata": {
    "collapsed": false
   },
   "outputs": [
    {
     "data": {
      "text/plain": [
       "35672"
      ]
     },
     "execution_count": 180,
     "metadata": {},
     "output_type": "execute_result"
    }
   ],
   "source": [
    "len(labels)"
   ]
  },
  {
   "cell_type": "code",
   "execution_count": 181,
   "metadata": {
    "collapsed": false
   },
   "outputs": [
    {
     "data": {
      "text/plain": [
       "0               nothing\n",
       "1           leave house\n",
       "4            use toilet\n",
       "5           take shower\n",
       "10            go to bed\n",
       "13    prepare breakfast\n",
       "15       prepare dinner\n",
       "17            get drink\n",
       "dtype: object"
      ]
     },
     "execution_count": 181,
     "metadata": {},
     "output_type": "execute_result"
    }
   ],
   "source": [
    "activityLabel"
   ]
  },
  {
   "cell_type": "code",
   "execution_count": 182,
   "metadata": {
    "collapsed": false
   },
   "outputs": [
    {
     "data": {
      "text/plain": [
       "1              Microwave\n",
       "5       Hall-Toilet door\n",
       "6     Hall-Bathroom door\n",
       "7          Cups cupboard\n",
       "8                 Fridge\n",
       "9        Plates cupboard\n",
       "12            Front door\n",
       "13            Dishwasher\n",
       "14           ToiletFlush\n",
       "17               Freezer\n",
       "18         Pans Cupboard\n",
       "20       Washing machine\n",
       "23    Groceries Cupboard\n",
       "24     Hall-Bedroom door\n",
       "dtype: object"
      ]
     },
     "execution_count": 182,
     "metadata": {},
     "output_type": "execute_result"
    }
   ],
   "source": [
    "sensorLabel"
   ]
  },
  {
   "cell_type": "code",
   "execution_count": 183,
   "metadata": {
    "collapsed": false
   },
   "outputs": [],
   "source": [
    "t = finalFeatureMatrix[finalFeatureMatrix == 0]"
   ]
  },
  {
   "cell_type": "markdown",
   "metadata": {},
   "source": [
    "We now calculate the state transition frequencies"
   ]
  },
  {
   "cell_type": "code",
   "execution_count": 184,
   "metadata": {
    "collapsed": true
   },
   "outputs": [],
   "source": [
    "def labelFrequencyCounting(labels):\n",
    "    activityDict = defaultdict(lambda: defaultdict(int)) #create a defaultdict of defaultdict\n",
    "    \n",
    "    for x in range(len(labels)-2): #we stop at the nth-1 number\n",
    "        activityDict[labels[x]][labels[x+1]] += 1 \n",
    "    return activityDict\n",
    "    "
   ]
  },
  {
   "cell_type": "code",
   "execution_count": 185,
   "metadata": {
    "collapsed": false
   },
   "outputs": [],
   "source": [
    "labelFrequencyCounting = labelFrequencyCounting(labels)"
   ]
  },
  {
   "cell_type": "code",
   "execution_count": 186,
   "metadata": {
    "collapsed": false
   },
   "outputs": [
    {
     "data": {
      "text/plain": [
       "defaultdict(<function __main__.<lambda>>,\n",
       "            {0: defaultdict(int,\n",
       "                         {0: 14324,\n",
       "                          1: 24,\n",
       "                          4: 60,\n",
       "                          5: 13,\n",
       "                          10: 8,\n",
       "                          13: 8,\n",
       "                          15: 4,\n",
       "                          17: 14}),\n",
       "             1: defaultdict(int, {0: 17, 1: 14104, 4: 6, 15: 2}),\n",
       "             4: defaultdict(int,\n",
       "                         {0: 53,\n",
       "                          1: 1,\n",
       "                          4: 149,\n",
       "                          5: 5,\n",
       "                          10: 19,\n",
       "                          13: 4,\n",
       "                          15: 2,\n",
       "                          17: 1}),\n",
       "             5: defaultdict(int, {0: 18, 5: 172}),\n",
       "             10: defaultdict(int, {0: 8, 4: 17, 10: 6305, 13: 2}),\n",
       "             13: defaultdict(int, {0: 15, 13: 59}),\n",
       "             15: defaultdict(int, {0: 6, 4: 1, 15: 221, 17: 1}),\n",
       "             17: defaultdict(int, {0: 15, 13: 1, 17: 11})})"
      ]
     },
     "execution_count": 186,
     "metadata": {},
     "output_type": "execute_result"
    }
   ],
   "source": [
    "labelFrequencyCounting"
   ]
  },
  {
   "cell_type": "code",
   "execution_count": 187,
   "metadata": {
    "collapsed": true
   },
   "outputs": [],
   "source": [
    "def sumOfDict(dct):\n",
    "    sum = 0\n",
    "    for value in dct.values():\n",
    "        sum += value\n",
    "    return sum"
   ]
  },
  {
   "cell_type": "code",
   "execution_count": 188,
   "metadata": {
    "collapsed": true
   },
   "outputs": [],
   "source": [
    "def frequencyMatrix(frequencyCounting): # on va utiliser cette méthode pour calculer transitionMatrix et observationMatrix\n",
    "    frequencyMat = frequencyCounting.copy()\n",
    "    for miniDict in frequencyMat.values():\n",
    "        temporarySum = sumOfDict(miniDict)\n",
    "        for key,value in miniDict.items():\n",
    "            miniDict[key] = float(value)/temporarySum\n",
    "    return frequencyMat\n",
    "            "
   ]
  },
  {
   "cell_type": "code",
   "execution_count": 189,
   "metadata": {
    "collapsed": false
   },
   "outputs": [],
   "source": [
    "def labelTransitionMatrix(labelFrequencyCounting):\n",
    "    return frequencyMatrix(labelFrequencyCounting)     "
   ]
  },
  {
   "cell_type": "code",
   "execution_count": 190,
   "metadata": {
    "collapsed": false,
    "scrolled": true
   },
   "outputs": [],
   "source": [
    "labelTransitionMatrix = labelTransitionMatrix(labelFrequencyCounting)"
   ]
  },
  {
   "cell_type": "code",
   "execution_count": null,
   "metadata": {
    "collapsed": true
   },
   "outputs": [],
   "source": []
  },
  {
   "cell_type": "code",
   "execution_count": 191,
   "metadata": {
    "collapsed": false
   },
   "outputs": [],
   "source": [
    "x,y = np.where(finalFeatureMatrix == 1)\n",
    "lst = []\n",
    "for i in range(len(x)): \n",
    "    lst.append((x[i],y[i]))\n",
    "\n",
    "lstSorted = sorted(lst, key = lambda pos:pos[1])\n",
    "\n",
    "sensorList = sensorLabel.index.tolist()\n",
    "indexSensorList = []\n",
    "for sensor in lstSorted:\n",
    "    indexSensorList.append(sensorList[sensor[0]])\n",
    "\n",
    "#set(indexSensorList)\n"
   ]
  },
  {
   "cell_type": "code",
   "execution_count": 192,
   "metadata": {
    "collapsed": false
   },
   "outputs": [
    {
     "data": {
      "text/plain": [
       "35672"
      ]
     },
     "execution_count": 192,
     "metadata": {},
     "output_type": "execute_result"
    }
   ],
   "source": [
    "len(lst)"
   ]
  },
  {
   "cell_type": "code",
   "execution_count": 193,
   "metadata": {
    "collapsed": false
   },
   "outputs": [
    {
     "data": {
      "text/plain": [
       "35672"
      ]
     },
     "execution_count": 193,
     "metadata": {},
     "output_type": "execute_result"
    }
   ],
   "source": [
    "len(indexSensorList)"
   ]
  },
  {
   "cell_type": "code",
   "execution_count": 194,
   "metadata": {
    "collapsed": false
   },
   "outputs": [
    {
     "data": {
      "text/plain": [
       "35672"
      ]
     },
     "execution_count": 194,
     "metadata": {},
     "output_type": "execute_result"
    }
   ],
   "source": [
    "len(finalFeatureMatrix.iloc[1])"
   ]
  },
  {
   "cell_type": "code",
   "execution_count": 195,
   "metadata": {
    "collapsed": false
   },
   "outputs": [
    {
     "data": {
      "text/plain": [
       "35672"
      ]
     },
     "execution_count": 195,
     "metadata": {},
     "output_type": "execute_result"
    }
   ],
   "source": [
    "len(labels)"
   ]
  },
  {
   "cell_type": "code",
   "execution_count": 196,
   "metadata": {
    "collapsed": false
   },
   "outputs": [],
   "source": [
    "def observationFrequencyCounting(labels, indexSensorList):\n",
    "    observationMat = defaultdict(lambda: defaultdict(int))\n",
    "    for x in range(len(labels)):\n",
    "        observationMat[labels[x]][indexSensorList[x]] += 1\n",
    "    return observationMat"
   ]
  },
  {
   "cell_type": "code",
   "execution_count": 197,
   "metadata": {
    "collapsed": false
   },
   "outputs": [],
   "source": [
    "#observationFrequencyCounting = observationFrequencyCounting(labels, indexSensorList)\n",
    "#observationFrequencyCounting"
   ]
  },
  {
   "cell_type": "code",
   "execution_count": 198,
   "metadata": {
    "collapsed": false
   },
   "outputs": [],
   "source": [
    "def observationMatrix(labels, indexSensorList):\n",
    "    observationFrequencyCount = observationFrequencyCounting(labels, indexSensorList)\n",
    "    return frequencyMatrix(observationFrequencyCount)\n",
    "    "
   ]
  },
  {
   "cell_type": "code",
   "execution_count": 199,
   "metadata": {
    "collapsed": false
   },
   "outputs": [],
   "source": [
    "observationMatrix = observationMatrix(labels, indexSensorList)"
   ]
  },
  {
   "cell_type": "code",
   "execution_count": 200,
   "metadata": {
    "collapsed": false
   },
   "outputs": [
    {
     "data": {
      "text/plain": [
       "defaultdict(<function __main__.<lambda>>,\n",
       "            {0: defaultdict(int,\n",
       "                         {1: 0.0029051670471052084,\n",
       "                          5: 0.016946807774780383,\n",
       "                          6: 0.04177906896313205,\n",
       "                          7: 0.005256968942380854,\n",
       "                          8: 0.17175070899910078,\n",
       "                          9: 0.003112678979041295,\n",
       "                          12: 0.44096285536418345,\n",
       "                          13: 0.008853842429273017,\n",
       "                          14: 0.08438818565400844,\n",
       "                          17: 0.009614719513038666,\n",
       "                          18: 0.14470498720343086,\n",
       "                          20: 0.0033893615549560768,\n",
       "                          23: 0.014387493947568651,\n",
       "                          24: 0.05194715362800028}),\n",
       "             1: defaultdict(int,\n",
       "                         {5: 0.00028310566919102553,\n",
       "                          6: 0.0003538820864887819,\n",
       "                          8: 0.00014155283459551277,\n",
       "                          12: 0.9990799065751291,\n",
       "                          17: 0.00014155283459551277}),\n",
       "             4: defaultdict(int,\n",
       "                         {5: 0.01282051282051282,\n",
       "                          6: 0.2264957264957265,\n",
       "                          8: 0.004273504273504274,\n",
       "                          12: 0.02564102564102564,\n",
       "                          14: 0.5170940170940171,\n",
       "                          18: 0.004273504273504274,\n",
       "                          20: 0.004273504273504274,\n",
       "                          23: 0.01282051282051282,\n",
       "                          24: 0.19230769230769232}),\n",
       "             5: defaultdict(int,\n",
       "                         {5: 0.8789473684210526, 14: 0.12105263157894737}),\n",
       "             10: defaultdict(int,\n",
       "                         {5: 0.151452937460518,\n",
       "                          6: 0.02321541377132028,\n",
       "                          14: 0.10912823752368919,\n",
       "                          24: 0.7162034112444725}),\n",
       "             13: defaultdict(int,\n",
       "                         {1: 0.06756756756756757,\n",
       "                          8: 0.2972972972972973,\n",
       "                          9: 0.04054054054054054,\n",
       "                          14: 0.08108108108108109,\n",
       "                          17: 0.16216216216216217,\n",
       "                          18: 0.013513513513513514,\n",
       "                          23: 0.32432432432432434,\n",
       "                          24: 0.013513513513513514}),\n",
       "             15: defaultdict(int,\n",
       "                         {1: 0.056768558951965066,\n",
       "                          6: 0.004366812227074236,\n",
       "                          7: 0.004366812227074236,\n",
       "                          8: 0.09170305676855896,\n",
       "                          9: 0.2576419213973799,\n",
       "                          13: 0.017467248908296942,\n",
       "                          17: 0.10043668122270742,\n",
       "                          18: 0.39737991266375544,\n",
       "                          23: 0.06986899563318777}),\n",
       "             17: defaultdict(int,\n",
       "                         {7: 0.1111111111111111,\n",
       "                          8: 0.7777777777777778,\n",
       "                          23: 0.1111111111111111})})"
      ]
     },
     "execution_count": 200,
     "metadata": {},
     "output_type": "execute_result"
    }
   ],
   "source": [
    "observationMatrix"
   ]
  },
  {
   "cell_type": "markdown",
   "metadata": {},
   "source": [
    "Enfin, on va mettre ces 2 matrices sous forme DataFrame: "
   ]
  },
  {
   "cell_type": "code",
   "execution_count": 201,
   "metadata": {
    "collapsed": false
   },
   "outputs": [
    {
     "data": {
      "text/plain": [
       "defaultdict(<function __main__.<lambda>>,\n",
       "            {0: defaultdict(int,\n",
       "                         {0: 0.9909373919059149,\n",
       "                          1: 0.0016603251470079558,\n",
       "                          4: 0.0041508128675198895,\n",
       "                          5: 0.0008993427879626426,\n",
       "                          10: 0.0005534417156693186,\n",
       "                          13: 0.0005534417156693186,\n",
       "                          15: 0.0002767208578346593,\n",
       "                          17: 0.0009685230024213075}),\n",
       "             1: defaultdict(int,\n",
       "                         {0: 0.0012031990940618586,\n",
       "                          1: 0.9982305895675561,\n",
       "                          4: 0.0004246585037865383,\n",
       "                          15: 0.00014155283459551277}),\n",
       "             4: defaultdict(int,\n",
       "                         {0: 0.2264957264957265,\n",
       "                          1: 0.004273504273504274,\n",
       "                          4: 0.6367521367521367,\n",
       "                          5: 0.021367521367521368,\n",
       "                          10: 0.0811965811965812,\n",
       "                          13: 0.017094017094017096,\n",
       "                          15: 0.008547008547008548,\n",
       "                          17: 0.004273504273504274}),\n",
       "             5: defaultdict(int,\n",
       "                         {0: 0.09473684210526316, 5: 0.9052631578947369}),\n",
       "             10: defaultdict(int,\n",
       "                         {0: 0.0012634238787113076,\n",
       "                          4: 0.0026847757422615286,\n",
       "                          10: 0.9957359444093493,\n",
       "                          13: 0.0003158559696778269}),\n",
       "             13: defaultdict(int,\n",
       "                         {0: 0.20270270270270271, 13: 0.7972972972972973}),\n",
       "             15: defaultdict(int,\n",
       "                         {0: 0.026200873362445413,\n",
       "                          4: 0.004366812227074236,\n",
       "                          15: 0.9650655021834061,\n",
       "                          17: 0.004366812227074236}),\n",
       "             17: defaultdict(int,\n",
       "                         {0: 0.5555555555555556,\n",
       "                          13: 0.037037037037037035,\n",
       "                          17: 0.4074074074074074})})"
      ]
     },
     "execution_count": 201,
     "metadata": {},
     "output_type": "execute_result"
    }
   ],
   "source": [
    "labelTransitionMatrix"
   ]
  },
  {
   "cell_type": "code",
   "execution_count": 202,
   "metadata": {
    "collapsed": false
   },
   "outputs": [
    {
     "data": {
      "text/html": [
       "<div>\n",
       "<table border=\"1\" class=\"dataframe\">\n",
       "  <thead>\n",
       "    <tr style=\"text-align: right;\">\n",
       "      <th></th>\n",
       "      <th>0</th>\n",
       "      <th>1</th>\n",
       "      <th>4</th>\n",
       "      <th>5</th>\n",
       "      <th>10</th>\n",
       "      <th>13</th>\n",
       "      <th>15</th>\n",
       "      <th>17</th>\n",
       "    </tr>\n",
       "  </thead>\n",
       "  <tbody>\n",
       "    <tr>\n",
       "      <th>0</th>\n",
       "      <td>0.990937</td>\n",
       "      <td>0.001203</td>\n",
       "      <td>0.226496</td>\n",
       "      <td>0.094737</td>\n",
       "      <td>0.001263</td>\n",
       "      <td>0.202703</td>\n",
       "      <td>0.026201</td>\n",
       "      <td>0.555556</td>\n",
       "    </tr>\n",
       "    <tr>\n",
       "      <th>1</th>\n",
       "      <td>0.001660</td>\n",
       "      <td>0.998231</td>\n",
       "      <td>0.004274</td>\n",
       "      <td>0.000000</td>\n",
       "      <td>0.000000</td>\n",
       "      <td>0.000000</td>\n",
       "      <td>0.000000</td>\n",
       "      <td>0.000000</td>\n",
       "    </tr>\n",
       "    <tr>\n",
       "      <th>4</th>\n",
       "      <td>0.004151</td>\n",
       "      <td>0.000425</td>\n",
       "      <td>0.636752</td>\n",
       "      <td>0.000000</td>\n",
       "      <td>0.002685</td>\n",
       "      <td>0.000000</td>\n",
       "      <td>0.004367</td>\n",
       "      <td>0.000000</td>\n",
       "    </tr>\n",
       "    <tr>\n",
       "      <th>5</th>\n",
       "      <td>0.000899</td>\n",
       "      <td>0.000000</td>\n",
       "      <td>0.021368</td>\n",
       "      <td>0.905263</td>\n",
       "      <td>0.000000</td>\n",
       "      <td>0.000000</td>\n",
       "      <td>0.000000</td>\n",
       "      <td>0.000000</td>\n",
       "    </tr>\n",
       "    <tr>\n",
       "      <th>10</th>\n",
       "      <td>0.000553</td>\n",
       "      <td>0.000000</td>\n",
       "      <td>0.081197</td>\n",
       "      <td>0.000000</td>\n",
       "      <td>0.995736</td>\n",
       "      <td>0.000000</td>\n",
       "      <td>0.000000</td>\n",
       "      <td>0.000000</td>\n",
       "    </tr>\n",
       "    <tr>\n",
       "      <th>13</th>\n",
       "      <td>0.000553</td>\n",
       "      <td>0.000000</td>\n",
       "      <td>0.017094</td>\n",
       "      <td>0.000000</td>\n",
       "      <td>0.000316</td>\n",
       "      <td>0.797297</td>\n",
       "      <td>0.000000</td>\n",
       "      <td>0.037037</td>\n",
       "    </tr>\n",
       "    <tr>\n",
       "      <th>15</th>\n",
       "      <td>0.000277</td>\n",
       "      <td>0.000142</td>\n",
       "      <td>0.008547</td>\n",
       "      <td>0.000000</td>\n",
       "      <td>0.000000</td>\n",
       "      <td>0.000000</td>\n",
       "      <td>0.965066</td>\n",
       "      <td>0.000000</td>\n",
       "    </tr>\n",
       "    <tr>\n",
       "      <th>17</th>\n",
       "      <td>0.000969</td>\n",
       "      <td>0.000000</td>\n",
       "      <td>0.004274</td>\n",
       "      <td>0.000000</td>\n",
       "      <td>0.000000</td>\n",
       "      <td>0.000000</td>\n",
       "      <td>0.004367</td>\n",
       "      <td>0.407407</td>\n",
       "    </tr>\n",
       "  </tbody>\n",
       "</table>\n",
       "</div>"
      ],
      "text/plain": [
       "          0         1         4         5         10        13        15  \\\n",
       "0   0.990937  0.001203  0.226496  0.094737  0.001263  0.202703  0.026201   \n",
       "1   0.001660  0.998231  0.004274  0.000000  0.000000  0.000000  0.000000   \n",
       "4   0.004151  0.000425  0.636752  0.000000  0.002685  0.000000  0.004367   \n",
       "5   0.000899  0.000000  0.021368  0.905263  0.000000  0.000000  0.000000   \n",
       "10  0.000553  0.000000  0.081197  0.000000  0.995736  0.000000  0.000000   \n",
       "13  0.000553  0.000000  0.017094  0.000000  0.000316  0.797297  0.000000   \n",
       "15  0.000277  0.000142  0.008547  0.000000  0.000000  0.000000  0.965066   \n",
       "17  0.000969  0.000000  0.004274  0.000000  0.000000  0.000000  0.004367   \n",
       "\n",
       "          17  \n",
       "0   0.555556  \n",
       "1   0.000000  \n",
       "4   0.000000  \n",
       "5   0.000000  \n",
       "10  0.000000  \n",
       "13  0.037037  \n",
       "15  0.000000  \n",
       "17  0.407407  "
      ]
     },
     "execution_count": 202,
     "metadata": {},
     "output_type": "execute_result"
    }
   ],
   "source": [
    "transitionDistribution = pd.DataFrame(0.0, index = activityLabel.index, columns = activityLabel.index)\n",
    "for key,valDict in labelTransitionMatrix.items():\n",
    "    for miniKey, val in valDict.items(): \n",
    "        #print miniKey,key, val\n",
    "        transitionDistribution.loc[miniKey][key] = val\n",
    "transitionDistribution"
   ]
  },
  {
   "cell_type": "code",
   "execution_count": 203,
   "metadata": {
    "collapsed": false
   },
   "outputs": [
    {
     "data": {
      "text/html": [
       "<div>\n",
       "<table border=\"1\" class=\"dataframe\">\n",
       "  <thead>\n",
       "    <tr style=\"text-align: right;\">\n",
       "      <th></th>\n",
       "      <th>0</th>\n",
       "      <th>1</th>\n",
       "      <th>4</th>\n",
       "      <th>5</th>\n",
       "      <th>10</th>\n",
       "      <th>13</th>\n",
       "      <th>15</th>\n",
       "      <th>17</th>\n",
       "    </tr>\n",
       "  </thead>\n",
       "  <tbody>\n",
       "    <tr>\n",
       "      <th>1</th>\n",
       "      <td>0.002905</td>\n",
       "      <td>0.000000</td>\n",
       "      <td>0.000000</td>\n",
       "      <td>0.000000</td>\n",
       "      <td>0.000000</td>\n",
       "      <td>0.067568</td>\n",
       "      <td>0.056769</td>\n",
       "      <td>0.000000</td>\n",
       "    </tr>\n",
       "    <tr>\n",
       "      <th>5</th>\n",
       "      <td>0.016947</td>\n",
       "      <td>0.000283</td>\n",
       "      <td>0.012821</td>\n",
       "      <td>0.878947</td>\n",
       "      <td>0.151453</td>\n",
       "      <td>0.000000</td>\n",
       "      <td>0.000000</td>\n",
       "      <td>0.000000</td>\n",
       "    </tr>\n",
       "    <tr>\n",
       "      <th>6</th>\n",
       "      <td>0.041779</td>\n",
       "      <td>0.000354</td>\n",
       "      <td>0.226496</td>\n",
       "      <td>0.000000</td>\n",
       "      <td>0.023215</td>\n",
       "      <td>0.000000</td>\n",
       "      <td>0.004367</td>\n",
       "      <td>0.000000</td>\n",
       "    </tr>\n",
       "    <tr>\n",
       "      <th>7</th>\n",
       "      <td>0.005257</td>\n",
       "      <td>0.000000</td>\n",
       "      <td>0.000000</td>\n",
       "      <td>0.000000</td>\n",
       "      <td>0.000000</td>\n",
       "      <td>0.000000</td>\n",
       "      <td>0.004367</td>\n",
       "      <td>0.111111</td>\n",
       "    </tr>\n",
       "    <tr>\n",
       "      <th>8</th>\n",
       "      <td>0.171751</td>\n",
       "      <td>0.000142</td>\n",
       "      <td>0.004274</td>\n",
       "      <td>0.000000</td>\n",
       "      <td>0.000000</td>\n",
       "      <td>0.297297</td>\n",
       "      <td>0.091703</td>\n",
       "      <td>0.777778</td>\n",
       "    </tr>\n",
       "    <tr>\n",
       "      <th>9</th>\n",
       "      <td>0.003113</td>\n",
       "      <td>0.000000</td>\n",
       "      <td>0.000000</td>\n",
       "      <td>0.000000</td>\n",
       "      <td>0.000000</td>\n",
       "      <td>0.040541</td>\n",
       "      <td>0.257642</td>\n",
       "      <td>0.000000</td>\n",
       "    </tr>\n",
       "    <tr>\n",
       "      <th>12</th>\n",
       "      <td>0.440963</td>\n",
       "      <td>0.999080</td>\n",
       "      <td>0.025641</td>\n",
       "      <td>0.000000</td>\n",
       "      <td>0.000000</td>\n",
       "      <td>0.000000</td>\n",
       "      <td>0.000000</td>\n",
       "      <td>0.000000</td>\n",
       "    </tr>\n",
       "    <tr>\n",
       "      <th>13</th>\n",
       "      <td>0.008854</td>\n",
       "      <td>0.000000</td>\n",
       "      <td>0.000000</td>\n",
       "      <td>0.000000</td>\n",
       "      <td>0.000000</td>\n",
       "      <td>0.000000</td>\n",
       "      <td>0.017467</td>\n",
       "      <td>0.000000</td>\n",
       "    </tr>\n",
       "    <tr>\n",
       "      <th>14</th>\n",
       "      <td>0.084388</td>\n",
       "      <td>0.000000</td>\n",
       "      <td>0.517094</td>\n",
       "      <td>0.121053</td>\n",
       "      <td>0.109128</td>\n",
       "      <td>0.081081</td>\n",
       "      <td>0.000000</td>\n",
       "      <td>0.000000</td>\n",
       "    </tr>\n",
       "    <tr>\n",
       "      <th>17</th>\n",
       "      <td>0.009615</td>\n",
       "      <td>0.000142</td>\n",
       "      <td>0.000000</td>\n",
       "      <td>0.000000</td>\n",
       "      <td>0.000000</td>\n",
       "      <td>0.162162</td>\n",
       "      <td>0.100437</td>\n",
       "      <td>0.000000</td>\n",
       "    </tr>\n",
       "    <tr>\n",
       "      <th>18</th>\n",
       "      <td>0.144705</td>\n",
       "      <td>0.000000</td>\n",
       "      <td>0.004274</td>\n",
       "      <td>0.000000</td>\n",
       "      <td>0.000000</td>\n",
       "      <td>0.013514</td>\n",
       "      <td>0.397380</td>\n",
       "      <td>0.000000</td>\n",
       "    </tr>\n",
       "    <tr>\n",
       "      <th>20</th>\n",
       "      <td>0.003389</td>\n",
       "      <td>0.000000</td>\n",
       "      <td>0.004274</td>\n",
       "      <td>0.000000</td>\n",
       "      <td>0.000000</td>\n",
       "      <td>0.000000</td>\n",
       "      <td>0.000000</td>\n",
       "      <td>0.000000</td>\n",
       "    </tr>\n",
       "    <tr>\n",
       "      <th>23</th>\n",
       "      <td>0.014387</td>\n",
       "      <td>0.000000</td>\n",
       "      <td>0.012821</td>\n",
       "      <td>0.000000</td>\n",
       "      <td>0.000000</td>\n",
       "      <td>0.324324</td>\n",
       "      <td>0.069869</td>\n",
       "      <td>0.111111</td>\n",
       "    </tr>\n",
       "    <tr>\n",
       "      <th>24</th>\n",
       "      <td>0.051947</td>\n",
       "      <td>0.000000</td>\n",
       "      <td>0.192308</td>\n",
       "      <td>0.000000</td>\n",
       "      <td>0.716203</td>\n",
       "      <td>0.013514</td>\n",
       "      <td>0.000000</td>\n",
       "      <td>0.000000</td>\n",
       "    </tr>\n",
       "  </tbody>\n",
       "</table>\n",
       "</div>"
      ],
      "text/plain": [
       "          0         1         4         5         10        13        15  \\\n",
       "1   0.002905  0.000000  0.000000  0.000000  0.000000  0.067568  0.056769   \n",
       "5   0.016947  0.000283  0.012821  0.878947  0.151453  0.000000  0.000000   \n",
       "6   0.041779  0.000354  0.226496  0.000000  0.023215  0.000000  0.004367   \n",
       "7   0.005257  0.000000  0.000000  0.000000  0.000000  0.000000  0.004367   \n",
       "8   0.171751  0.000142  0.004274  0.000000  0.000000  0.297297  0.091703   \n",
       "9   0.003113  0.000000  0.000000  0.000000  0.000000  0.040541  0.257642   \n",
       "12  0.440963  0.999080  0.025641  0.000000  0.000000  0.000000  0.000000   \n",
       "13  0.008854  0.000000  0.000000  0.000000  0.000000  0.000000  0.017467   \n",
       "14  0.084388  0.000000  0.517094  0.121053  0.109128  0.081081  0.000000   \n",
       "17  0.009615  0.000142  0.000000  0.000000  0.000000  0.162162  0.100437   \n",
       "18  0.144705  0.000000  0.004274  0.000000  0.000000  0.013514  0.397380   \n",
       "20  0.003389  0.000000  0.004274  0.000000  0.000000  0.000000  0.000000   \n",
       "23  0.014387  0.000000  0.012821  0.000000  0.000000  0.324324  0.069869   \n",
       "24  0.051947  0.000000  0.192308  0.000000  0.716203  0.013514  0.000000   \n",
       "\n",
       "          17  \n",
       "1   0.000000  \n",
       "5   0.000000  \n",
       "6   0.000000  \n",
       "7   0.111111  \n",
       "8   0.777778  \n",
       "9   0.000000  \n",
       "12  0.000000  \n",
       "13  0.000000  \n",
       "14  0.000000  \n",
       "17  0.000000  \n",
       "18  0.000000  \n",
       "20  0.000000  \n",
       "23  0.111111  \n",
       "24  0.000000  "
      ]
     },
     "execution_count": 203,
     "metadata": {},
     "output_type": "execute_result"
    }
   ],
   "source": [
    "observationDistribution = pd.DataFrame(0.0, index = sensorLabel.index, columns = activityLabel.index)\n",
    "for key,valDict in observationMatrix.items():\n",
    "    for miniKey, val in valDict.items(): \n",
    "        #print miniKey,key, val\n",
    "        observationDistribution.loc[miniKey][key] = val\n",
    "observationDistribution"
   ]
  },
  {
   "cell_type": "code",
   "execution_count": null,
   "metadata": {
    "collapsed": true
   },
   "outputs": [],
   "source": []
  },
  {
   "cell_type": "code",
   "execution_count": null,
   "metadata": {
    "collapsed": true
   },
   "outputs": [],
   "source": []
  },
  {
   "cell_type": "code",
   "execution_count": null,
   "metadata": {
    "collapsed": true
   },
   "outputs": [],
   "source": []
  },
  {
   "cell_type": "code",
   "execution_count": null,
   "metadata": {
    "collapsed": true
   },
   "outputs": [],
   "source": []
  },
  {
   "cell_type": "code",
   "execution_count": null,
   "metadata": {
    "collapsed": true
   },
   "outputs": [],
   "source": []
  }
 ],
 "metadata": {
  "kernelspec": {
   "display_name": "Python 2",
   "language": "python",
   "name": "python2"
  },
  "language_info": {
   "codemirror_mode": {
    "name": "ipython",
    "version": 2
   },
   "file_extension": ".py",
   "mimetype": "text/x-python",
   "name": "python",
   "nbconvert_exporter": "python",
   "pygments_lexer": "ipython2",
   "version": "2.7.10"
  }
 },
 "nbformat": 4,
 "nbformat_minor": 0
}
